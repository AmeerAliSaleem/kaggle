{
 "cells": [
  {
   "cell_type": "code",
   "execution_count": 1,
   "id": "4a350d06",
   "metadata": {
    "_cell_guid": "b1076dfc-b9ad-4769-8c92-a6c4dae69d19",
    "_uuid": "8f2839f25d086af736a60e9eeb907d3b93b6e0e5",
    "execution": {
     "iopub.execute_input": "2022-12-18T13:55:01.041308Z",
     "iopub.status.busy": "2022-12-18T13:55:01.040763Z",
     "iopub.status.idle": "2022-12-18T13:55:02.292246Z",
     "shell.execute_reply": "2022-12-18T13:55:02.290727Z"
    },
    "papermill": {
     "duration": 1.270298,
     "end_time": "2022-12-18T13:55:02.295604",
     "exception": false,
     "start_time": "2022-12-18T13:55:01.025306",
     "status": "completed"
    },
    "tags": []
   },
   "outputs": [
    {
     "name": "stdout",
     "output_type": "stream",
     "text": [
      "/kaggle/input/spaceship-titanic/sample_submission.csv\n",
      "/kaggle/input/spaceship-titanic/train.csv\n",
      "/kaggle/input/spaceship-titanic/test.csv\n"
     ]
    }
   ],
   "source": [
    "# This Python 3 environment comes with many helpful analytics libraries installed\n",
    "# It is defined by the kaggle/python Docker image: https://github.com/kaggle/docker-python\n",
    "# For example, here's several helpful packages to load\n",
    "\n",
    "import numpy as np # linear algebra\n",
    "import pandas as pd # data processing, CSV file I/O (e.g. pd.read_csv)\n",
    "import seaborn as sns\n",
    "import random\n",
    "\n",
    "# Input data files are available in the read-only \"../input/\" directory\n",
    "# For example, running this (by clicking run or pressing Shift+Enter) will list all files under the input directory\n",
    "\n",
    "import os\n",
    "for dirname, _, filenames in os.walk('/kaggle/input'):\n",
    "    for filename in filenames:\n",
    "        print(os.path.join(dirname, filename))\n",
    "\n",
    "# You can write up to 20GB to the current directory (/kaggle/working/) that gets preserved as output when you create a version using \"Save & Run All\" \n",
    "# You can also write temporary files to /kaggle/temp/, but they won't be saved outside of the current session"
   ]
  },
  {
   "cell_type": "code",
   "execution_count": 2,
   "id": "415a05b6",
   "metadata": {
    "execution": {
     "iopub.execute_input": "2022-12-18T13:55:02.318331Z",
     "iopub.status.busy": "2022-12-18T13:55:02.317865Z",
     "iopub.status.idle": "2022-12-18T13:55:02.406978Z",
     "shell.execute_reply": "2022-12-18T13:55:02.405642Z"
    },
    "papermill": {
     "duration": 0.104276,
     "end_time": "2022-12-18T13:55:02.410486",
     "exception": false,
     "start_time": "2022-12-18T13:55:02.306210",
     "status": "completed"
    },
    "tags": []
   },
   "outputs": [
    {
     "data": {
      "text/html": [
       "<div>\n",
       "<style scoped>\n",
       "    .dataframe tbody tr th:only-of-type {\n",
       "        vertical-align: middle;\n",
       "    }\n",
       "\n",
       "    .dataframe tbody tr th {\n",
       "        vertical-align: top;\n",
       "    }\n",
       "\n",
       "    .dataframe thead th {\n",
       "        text-align: right;\n",
       "    }\n",
       "</style>\n",
       "<table border=\"1\" class=\"dataframe\">\n",
       "  <thead>\n",
       "    <tr style=\"text-align: right;\">\n",
       "      <th></th>\n",
       "      <th>PassengerId</th>\n",
       "      <th>HomePlanet</th>\n",
       "      <th>CryoSleep</th>\n",
       "      <th>Cabin</th>\n",
       "      <th>Destination</th>\n",
       "      <th>Age</th>\n",
       "      <th>VIP</th>\n",
       "      <th>RoomService</th>\n",
       "      <th>FoodCourt</th>\n",
       "      <th>ShoppingMall</th>\n",
       "      <th>Spa</th>\n",
       "      <th>VRDeck</th>\n",
       "      <th>Name</th>\n",
       "      <th>Transported</th>\n",
       "    </tr>\n",
       "  </thead>\n",
       "  <tbody>\n",
       "    <tr>\n",
       "      <th>0</th>\n",
       "      <td>0001_01</td>\n",
       "      <td>Europa</td>\n",
       "      <td>False</td>\n",
       "      <td>B/0/P</td>\n",
       "      <td>TRAPPIST-1e</td>\n",
       "      <td>39.0</td>\n",
       "      <td>False</td>\n",
       "      <td>0.0</td>\n",
       "      <td>0.0</td>\n",
       "      <td>0.0</td>\n",
       "      <td>0.0</td>\n",
       "      <td>0.0</td>\n",
       "      <td>Maham Ofracculy</td>\n",
       "      <td>False</td>\n",
       "    </tr>\n",
       "    <tr>\n",
       "      <th>1</th>\n",
       "      <td>0002_01</td>\n",
       "      <td>Earth</td>\n",
       "      <td>False</td>\n",
       "      <td>F/0/S</td>\n",
       "      <td>TRAPPIST-1e</td>\n",
       "      <td>24.0</td>\n",
       "      <td>False</td>\n",
       "      <td>109.0</td>\n",
       "      <td>9.0</td>\n",
       "      <td>25.0</td>\n",
       "      <td>549.0</td>\n",
       "      <td>44.0</td>\n",
       "      <td>Juanna Vines</td>\n",
       "      <td>True</td>\n",
       "    </tr>\n",
       "    <tr>\n",
       "      <th>2</th>\n",
       "      <td>0003_01</td>\n",
       "      <td>Europa</td>\n",
       "      <td>False</td>\n",
       "      <td>A/0/S</td>\n",
       "      <td>TRAPPIST-1e</td>\n",
       "      <td>58.0</td>\n",
       "      <td>True</td>\n",
       "      <td>43.0</td>\n",
       "      <td>3576.0</td>\n",
       "      <td>0.0</td>\n",
       "      <td>6715.0</td>\n",
       "      <td>49.0</td>\n",
       "      <td>Altark Susent</td>\n",
       "      <td>False</td>\n",
       "    </tr>\n",
       "    <tr>\n",
       "      <th>3</th>\n",
       "      <td>0003_02</td>\n",
       "      <td>Europa</td>\n",
       "      <td>False</td>\n",
       "      <td>A/0/S</td>\n",
       "      <td>TRAPPIST-1e</td>\n",
       "      <td>33.0</td>\n",
       "      <td>False</td>\n",
       "      <td>0.0</td>\n",
       "      <td>1283.0</td>\n",
       "      <td>371.0</td>\n",
       "      <td>3329.0</td>\n",
       "      <td>193.0</td>\n",
       "      <td>Solam Susent</td>\n",
       "      <td>False</td>\n",
       "    </tr>\n",
       "    <tr>\n",
       "      <th>4</th>\n",
       "      <td>0004_01</td>\n",
       "      <td>Earth</td>\n",
       "      <td>False</td>\n",
       "      <td>F/1/S</td>\n",
       "      <td>TRAPPIST-1e</td>\n",
       "      <td>16.0</td>\n",
       "      <td>False</td>\n",
       "      <td>303.0</td>\n",
       "      <td>70.0</td>\n",
       "      <td>151.0</td>\n",
       "      <td>565.0</td>\n",
       "      <td>2.0</td>\n",
       "      <td>Willy Santantines</td>\n",
       "      <td>True</td>\n",
       "    </tr>\n",
       "  </tbody>\n",
       "</table>\n",
       "</div>"
      ],
      "text/plain": [
       "  PassengerId HomePlanet CryoSleep  Cabin  Destination   Age    VIP  \\\n",
       "0     0001_01     Europa     False  B/0/P  TRAPPIST-1e  39.0  False   \n",
       "1     0002_01      Earth     False  F/0/S  TRAPPIST-1e  24.0  False   \n",
       "2     0003_01     Europa     False  A/0/S  TRAPPIST-1e  58.0   True   \n",
       "3     0003_02     Europa     False  A/0/S  TRAPPIST-1e  33.0  False   \n",
       "4     0004_01      Earth     False  F/1/S  TRAPPIST-1e  16.0  False   \n",
       "\n",
       "   RoomService  FoodCourt  ShoppingMall     Spa  VRDeck               Name  \\\n",
       "0          0.0        0.0           0.0     0.0     0.0    Maham Ofracculy   \n",
       "1        109.0        9.0          25.0   549.0    44.0       Juanna Vines   \n",
       "2         43.0     3576.0           0.0  6715.0    49.0      Altark Susent   \n",
       "3          0.0     1283.0         371.0  3329.0   193.0       Solam Susent   \n",
       "4        303.0       70.0         151.0   565.0     2.0  Willy Santantines   \n",
       "\n",
       "   Transported  \n",
       "0        False  \n",
       "1         True  \n",
       "2        False  \n",
       "3        False  \n",
       "4         True  "
      ]
     },
     "execution_count": 2,
     "metadata": {},
     "output_type": "execute_result"
    }
   ],
   "source": [
    "df = pd.read_csv('/kaggle/input/spaceship-titanic/train.csv')\n",
    "df.head()"
   ]
  },
  {
   "cell_type": "code",
   "execution_count": 3,
   "id": "74a6fada",
   "metadata": {
    "execution": {
     "iopub.execute_input": "2022-12-18T13:55:02.434162Z",
     "iopub.status.busy": "2022-12-18T13:55:02.433706Z",
     "iopub.status.idle": "2022-12-18T13:55:02.464505Z",
     "shell.execute_reply": "2022-12-18T13:55:02.462660Z"
    },
    "papermill": {
     "duration": 0.046776,
     "end_time": "2022-12-18T13:55:02.467515",
     "exception": false,
     "start_time": "2022-12-18T13:55:02.420739",
     "status": "completed"
    },
    "tags": []
   },
   "outputs": [
    {
     "name": "stdout",
     "output_type": "stream",
     "text": [
      "<class 'pandas.core.frame.DataFrame'>\n",
      "RangeIndex: 8693 entries, 0 to 8692\n",
      "Data columns (total 14 columns):\n",
      " #   Column        Non-Null Count  Dtype  \n",
      "---  ------        --------------  -----  \n",
      " 0   PassengerId   8693 non-null   object \n",
      " 1   HomePlanet    8492 non-null   object \n",
      " 2   CryoSleep     8476 non-null   object \n",
      " 3   Cabin         8494 non-null   object \n",
      " 4   Destination   8511 non-null   object \n",
      " 5   Age           8514 non-null   float64\n",
      " 6   VIP           8490 non-null   object \n",
      " 7   RoomService   8512 non-null   float64\n",
      " 8   FoodCourt     8510 non-null   float64\n",
      " 9   ShoppingMall  8485 non-null   float64\n",
      " 10  Spa           8510 non-null   float64\n",
      " 11  VRDeck        8505 non-null   float64\n",
      " 12  Name          8493 non-null   object \n",
      " 13  Transported   8693 non-null   bool   \n",
      "dtypes: bool(1), float64(6), object(7)\n",
      "memory usage: 891.5+ KB\n"
     ]
    }
   ],
   "source": [
    "df.info()"
   ]
  },
  {
   "cell_type": "code",
   "execution_count": 4,
   "id": "cb47138b",
   "metadata": {
    "execution": {
     "iopub.execute_input": "2022-12-18T13:55:02.492679Z",
     "iopub.status.busy": "2022-12-18T13:55:02.491271Z",
     "iopub.status.idle": "2022-12-18T13:55:02.499545Z",
     "shell.execute_reply": "2022-12-18T13:55:02.498311Z"
    },
    "papermill": {
     "duration": 0.022586,
     "end_time": "2022-12-18T13:55:02.502169",
     "exception": false,
     "start_time": "2022-12-18T13:55:02.479583",
     "status": "completed"
    },
    "tags": []
   },
   "outputs": [
    {
     "data": {
      "text/plain": [
       "(8693, 14)"
      ]
     },
     "execution_count": 4,
     "metadata": {},
     "output_type": "execute_result"
    }
   ],
   "source": [
    "df.shape"
   ]
  },
  {
   "cell_type": "code",
   "execution_count": 5,
   "id": "602cbd5e",
   "metadata": {
    "execution": {
     "iopub.execute_input": "2022-12-18T13:55:02.524846Z",
     "iopub.status.busy": "2022-12-18T13:55:02.524468Z",
     "iopub.status.idle": "2022-12-18T13:55:02.539867Z",
     "shell.execute_reply": "2022-12-18T13:55:02.538510Z"
    },
    "papermill": {
     "duration": 0.0302,
     "end_time": "2022-12-18T13:55:02.542761",
     "exception": false,
     "start_time": "2022-12-18T13:55:02.512561",
     "status": "completed"
    },
    "tags": []
   },
   "outputs": [
    {
     "data": {
      "text/plain": [
       "PassengerId       0\n",
       "HomePlanet      201\n",
       "CryoSleep       217\n",
       "Cabin           199\n",
       "Destination     182\n",
       "Age             179\n",
       "VIP             203\n",
       "RoomService     181\n",
       "FoodCourt       183\n",
       "ShoppingMall    208\n",
       "Spa             183\n",
       "VRDeck          188\n",
       "Name            200\n",
       "Transported       0\n",
       "dtype: int64"
      ]
     },
     "execution_count": 5,
     "metadata": {},
     "output_type": "execute_result"
    }
   ],
   "source": [
    "df.isnull().sum()"
   ]
  },
  {
   "cell_type": "code",
   "execution_count": 6,
   "id": "e4f65852",
   "metadata": {
    "execution": {
     "iopub.execute_input": "2022-12-18T13:55:02.566205Z",
     "iopub.status.busy": "2022-12-18T13:55:02.565200Z",
     "iopub.status.idle": "2022-12-18T13:55:02.581899Z",
     "shell.execute_reply": "2022-12-18T13:55:02.580934Z"
    },
    "papermill": {
     "duration": 0.031804,
     "end_time": "2022-12-18T13:55:02.585068",
     "exception": false,
     "start_time": "2022-12-18T13:55:02.553264",
     "status": "completed"
    },
    "tags": []
   },
   "outputs": [
    {
     "name": "stdout",
     "output_type": "stream",
     "text": [
      "       Age  RoomService  FoodCourt  ShoppingMall     Spa  VRDeck\n",
      "0     39.0          0.0        0.0           0.0     0.0     0.0\n",
      "1     24.0        109.0        9.0          25.0   549.0    44.0\n",
      "2     58.0         43.0     3576.0           0.0  6715.0    49.0\n",
      "3     33.0          0.0     1283.0         371.0  3329.0   193.0\n",
      "4     16.0        303.0       70.0         151.0   565.0     2.0\n",
      "...    ...          ...        ...           ...     ...     ...\n",
      "8688  41.0          0.0     6819.0           0.0  1643.0    74.0\n",
      "8689  18.0          0.0        0.0           0.0     0.0     0.0\n",
      "8690  26.0          0.0        0.0        1872.0     1.0     0.0\n",
      "8691  32.0          0.0     1049.0           0.0   353.0  3235.0\n",
      "8692  44.0        126.0     4688.0           0.0     0.0    12.0\n",
      "\n",
      "[8693 rows x 6 columns]\n"
     ]
    }
   ],
   "source": [
    "# slice columns of numerical data\n",
    "numeric_cols = df.select_dtypes(include=np.number)\n",
    "print(numeric_cols)"
   ]
  },
  {
   "cell_type": "code",
   "execution_count": 7,
   "id": "6e81c02f",
   "metadata": {
    "execution": {
     "iopub.execute_input": "2022-12-18T13:55:02.609426Z",
     "iopub.status.busy": "2022-12-18T13:55:02.608630Z",
     "iopub.status.idle": "2022-12-18T13:55:02.958426Z",
     "shell.execute_reply": "2022-12-18T13:55:02.957069Z"
    },
    "papermill": {
     "duration": 0.365168,
     "end_time": "2022-12-18T13:55:02.961371",
     "exception": false,
     "start_time": "2022-12-18T13:55:02.596203",
     "status": "completed"
    },
    "tags": []
   },
   "outputs": [],
   "source": [
    "# impute missing numeric values\n",
    "from sklearn.impute import SimpleImputer\n",
    "\n",
    "imp = SimpleImputer()\n",
    "df[numeric_cols.columns] = imp.fit_transform(df[numeric_cols.columns])"
   ]
  },
  {
   "cell_type": "code",
   "execution_count": 8,
   "id": "93e9beb3",
   "metadata": {
    "execution": {
     "iopub.execute_input": "2022-12-18T13:55:02.993526Z",
     "iopub.status.busy": "2022-12-18T13:55:02.992095Z",
     "iopub.status.idle": "2022-12-18T13:55:03.006095Z",
     "shell.execute_reply": "2022-12-18T13:55:03.004814Z"
    },
    "papermill": {
     "duration": 0.031805,
     "end_time": "2022-12-18T13:55:03.008808",
     "exception": false,
     "start_time": "2022-12-18T13:55:02.977003",
     "status": "completed"
    },
    "tags": []
   },
   "outputs": [
    {
     "data": {
      "text/plain": [
       "PassengerId       0\n",
       "HomePlanet      201\n",
       "CryoSleep       217\n",
       "Cabin           199\n",
       "Destination     182\n",
       "Age               0\n",
       "VIP             203\n",
       "RoomService       0\n",
       "FoodCourt         0\n",
       "ShoppingMall      0\n",
       "Spa               0\n",
       "VRDeck            0\n",
       "Name            200\n",
       "Transported       0\n",
       "dtype: int64"
      ]
     },
     "execution_count": 8,
     "metadata": {},
     "output_type": "execute_result"
    }
   ],
   "source": [
    "df.isnull().sum()"
   ]
  },
  {
   "cell_type": "code",
   "execution_count": 9,
   "id": "c314e80d",
   "metadata": {
    "execution": {
     "iopub.execute_input": "2022-12-18T13:55:03.032226Z",
     "iopub.status.busy": "2022-12-18T13:55:03.031693Z",
     "iopub.status.idle": "2022-12-18T13:55:03.056088Z",
     "shell.execute_reply": "2022-12-18T13:55:03.054884Z"
    },
    "papermill": {
     "duration": 0.039193,
     "end_time": "2022-12-18T13:55:03.058624",
     "exception": false,
     "start_time": "2022-12-18T13:55:03.019431",
     "status": "completed"
    },
    "tags": []
   },
   "outputs": [
    {
     "data": {
      "text/plain": [
       "PassengerId     8693\n",
       "HomePlanet         3\n",
       "CryoSleep          2\n",
       "Cabin           6560\n",
       "Destination        3\n",
       "Age               81\n",
       "VIP                2\n",
       "RoomService     1274\n",
       "FoodCourt       1508\n",
       "ShoppingMall    1116\n",
       "Spa             1328\n",
       "VRDeck          1307\n",
       "Name            8473\n",
       "Transported        2\n",
       "dtype: int64"
      ]
     },
     "execution_count": 9,
     "metadata": {},
     "output_type": "execute_result"
    }
   ],
   "source": [
    "df.nunique()"
   ]
  },
  {
   "cell_type": "code",
   "execution_count": 10,
   "id": "f05f0484",
   "metadata": {
    "execution": {
     "iopub.execute_input": "2022-12-18T13:55:03.082922Z",
     "iopub.status.busy": "2022-12-18T13:55:03.082119Z",
     "iopub.status.idle": "2022-12-18T13:55:03.091690Z",
     "shell.execute_reply": "2022-12-18T13:55:03.090449Z"
    },
    "papermill": {
     "duration": 0.024263,
     "end_time": "2022-12-18T13:55:03.093898",
     "exception": false,
     "start_time": "2022-12-18T13:55:03.069635",
     "status": "completed"
    },
    "tags": []
   },
   "outputs": [],
   "source": [
    "#convert Boolean columns to 0 and 1 values\n",
    "boolean_cols = df.select_dtypes(include='bool')\n",
    "df[boolean_cols.columns] = df[boolean_cols.columns] * 1"
   ]
  },
  {
   "cell_type": "code",
   "execution_count": 11,
   "id": "349200da",
   "metadata": {
    "execution": {
     "iopub.execute_input": "2022-12-18T13:55:03.118125Z",
     "iopub.status.busy": "2022-12-18T13:55:03.116700Z",
     "iopub.status.idle": "2022-12-18T13:55:03.140804Z",
     "shell.execute_reply": "2022-12-18T13:55:03.139495Z"
    },
    "papermill": {
     "duration": 0.038783,
     "end_time": "2022-12-18T13:55:03.143401",
     "exception": false,
     "start_time": "2022-12-18T13:55:03.104618",
     "status": "completed"
    },
    "tags": []
   },
   "outputs": [
    {
     "data": {
      "text/html": [
       "<div>\n",
       "<style scoped>\n",
       "    .dataframe tbody tr th:only-of-type {\n",
       "        vertical-align: middle;\n",
       "    }\n",
       "\n",
       "    .dataframe tbody tr th {\n",
       "        vertical-align: top;\n",
       "    }\n",
       "\n",
       "    .dataframe thead th {\n",
       "        text-align: right;\n",
       "    }\n",
       "</style>\n",
       "<table border=\"1\" class=\"dataframe\">\n",
       "  <thead>\n",
       "    <tr style=\"text-align: right;\">\n",
       "      <th></th>\n",
       "      <th>PassengerId</th>\n",
       "      <th>HomePlanet</th>\n",
       "      <th>CryoSleep</th>\n",
       "      <th>Cabin</th>\n",
       "      <th>Destination</th>\n",
       "      <th>Age</th>\n",
       "      <th>VIP</th>\n",
       "      <th>RoomService</th>\n",
       "      <th>FoodCourt</th>\n",
       "      <th>ShoppingMall</th>\n",
       "      <th>Spa</th>\n",
       "      <th>VRDeck</th>\n",
       "      <th>Name</th>\n",
       "      <th>Transported</th>\n",
       "    </tr>\n",
       "  </thead>\n",
       "  <tbody>\n",
       "    <tr>\n",
       "      <th>0</th>\n",
       "      <td>0001_01</td>\n",
       "      <td>Europa</td>\n",
       "      <td>False</td>\n",
       "      <td>B/0/P</td>\n",
       "      <td>TRAPPIST-1e</td>\n",
       "      <td>39.0</td>\n",
       "      <td>0</td>\n",
       "      <td>0.0</td>\n",
       "      <td>0.0</td>\n",
       "      <td>0.0</td>\n",
       "      <td>0.0</td>\n",
       "      <td>0.0</td>\n",
       "      <td>Maham Ofracculy</td>\n",
       "      <td>0</td>\n",
       "    </tr>\n",
       "    <tr>\n",
       "      <th>1</th>\n",
       "      <td>0002_01</td>\n",
       "      <td>Earth</td>\n",
       "      <td>False</td>\n",
       "      <td>F/0/S</td>\n",
       "      <td>TRAPPIST-1e</td>\n",
       "      <td>24.0</td>\n",
       "      <td>0</td>\n",
       "      <td>109.0</td>\n",
       "      <td>9.0</td>\n",
       "      <td>25.0</td>\n",
       "      <td>549.0</td>\n",
       "      <td>44.0</td>\n",
       "      <td>Juanna Vines</td>\n",
       "      <td>1</td>\n",
       "    </tr>\n",
       "    <tr>\n",
       "      <th>2</th>\n",
       "      <td>0003_01</td>\n",
       "      <td>Europa</td>\n",
       "      <td>False</td>\n",
       "      <td>A/0/S</td>\n",
       "      <td>TRAPPIST-1e</td>\n",
       "      <td>58.0</td>\n",
       "      <td>1</td>\n",
       "      <td>43.0</td>\n",
       "      <td>3576.0</td>\n",
       "      <td>0.0</td>\n",
       "      <td>6715.0</td>\n",
       "      <td>49.0</td>\n",
       "      <td>Altark Susent</td>\n",
       "      <td>0</td>\n",
       "    </tr>\n",
       "    <tr>\n",
       "      <th>3</th>\n",
       "      <td>0003_02</td>\n",
       "      <td>Europa</td>\n",
       "      <td>False</td>\n",
       "      <td>A/0/S</td>\n",
       "      <td>TRAPPIST-1e</td>\n",
       "      <td>33.0</td>\n",
       "      <td>0</td>\n",
       "      <td>0.0</td>\n",
       "      <td>1283.0</td>\n",
       "      <td>371.0</td>\n",
       "      <td>3329.0</td>\n",
       "      <td>193.0</td>\n",
       "      <td>Solam Susent</td>\n",
       "      <td>0</td>\n",
       "    </tr>\n",
       "    <tr>\n",
       "      <th>4</th>\n",
       "      <td>0004_01</td>\n",
       "      <td>Earth</td>\n",
       "      <td>False</td>\n",
       "      <td>F/1/S</td>\n",
       "      <td>TRAPPIST-1e</td>\n",
       "      <td>16.0</td>\n",
       "      <td>0</td>\n",
       "      <td>303.0</td>\n",
       "      <td>70.0</td>\n",
       "      <td>151.0</td>\n",
       "      <td>565.0</td>\n",
       "      <td>2.0</td>\n",
       "      <td>Willy Santantines</td>\n",
       "      <td>1</td>\n",
       "    </tr>\n",
       "  </tbody>\n",
       "</table>\n",
       "</div>"
      ],
      "text/plain": [
       "  PassengerId HomePlanet CryoSleep  Cabin  Destination   Age VIP  RoomService  \\\n",
       "0     0001_01     Europa     False  B/0/P  TRAPPIST-1e  39.0   0          0.0   \n",
       "1     0002_01      Earth     False  F/0/S  TRAPPIST-1e  24.0   0        109.0   \n",
       "2     0003_01     Europa     False  A/0/S  TRAPPIST-1e  58.0   1         43.0   \n",
       "3     0003_02     Europa     False  A/0/S  TRAPPIST-1e  33.0   0          0.0   \n",
       "4     0004_01      Earth     False  F/1/S  TRAPPIST-1e  16.0   0        303.0   \n",
       "\n",
       "   FoodCourt  ShoppingMall     Spa  VRDeck               Name  Transported  \n",
       "0        0.0           0.0     0.0     0.0    Maham Ofracculy            0  \n",
       "1        9.0          25.0   549.0    44.0       Juanna Vines            1  \n",
       "2     3576.0           0.0  6715.0    49.0      Altark Susent            0  \n",
       "3     1283.0         371.0  3329.0   193.0       Solam Susent            0  \n",
       "4       70.0         151.0   565.0     2.0  Willy Santantines            1  "
      ]
     },
     "execution_count": 11,
     "metadata": {},
     "output_type": "execute_result"
    }
   ],
   "source": [
    "df['VIP'] = df['VIP'] * 1\n",
    "df.head()"
   ]
  },
  {
   "cell_type": "code",
   "execution_count": 12,
   "id": "1e0b9c01",
   "metadata": {
    "execution": {
     "iopub.execute_input": "2022-12-18T13:55:03.166866Z",
     "iopub.status.busy": "2022-12-18T13:55:03.166468Z",
     "iopub.status.idle": "2022-12-18T13:55:03.185523Z",
     "shell.execute_reply": "2022-12-18T13:55:03.183751Z"
    },
    "papermill": {
     "duration": 0.034013,
     "end_time": "2022-12-18T13:55:03.188224",
     "exception": false,
     "start_time": "2022-12-18T13:55:03.154211",
     "status": "completed"
    },
    "tags": []
   },
   "outputs": [
    {
     "name": "stdout",
     "output_type": "stream",
     "text": [
      "<class 'pandas.core.frame.DataFrame'>\n",
      "RangeIndex: 8693 entries, 0 to 8692\n",
      "Data columns (total 14 columns):\n",
      " #   Column        Non-Null Count  Dtype  \n",
      "---  ------        --------------  -----  \n",
      " 0   PassengerId   8693 non-null   object \n",
      " 1   HomePlanet    8492 non-null   object \n",
      " 2   CryoSleep     8476 non-null   object \n",
      " 3   Cabin         8494 non-null   object \n",
      " 4   Destination   8511 non-null   object \n",
      " 5   Age           8693 non-null   float64\n",
      " 6   VIP           8490 non-null   object \n",
      " 7   RoomService   8693 non-null   float64\n",
      " 8   FoodCourt     8693 non-null   float64\n",
      " 9   ShoppingMall  8693 non-null   float64\n",
      " 10  Spa           8693 non-null   float64\n",
      " 11  VRDeck        8693 non-null   float64\n",
      " 12  Name          8493 non-null   object \n",
      " 13  Transported   8693 non-null   int64  \n",
      "dtypes: float64(6), int64(1), object(7)\n",
      "memory usage: 950.9+ KB\n"
     ]
    }
   ],
   "source": [
    "df.info()"
   ]
  },
  {
   "cell_type": "code",
   "execution_count": 13,
   "id": "f76d711e",
   "metadata": {
    "execution": {
     "iopub.execute_input": "2022-12-18T13:55:03.213330Z",
     "iopub.status.busy": "2022-12-18T13:55:03.212831Z",
     "iopub.status.idle": "2022-12-18T13:55:03.227325Z",
     "shell.execute_reply": "2022-12-18T13:55:03.226034Z"
    },
    "papermill": {
     "duration": 0.030322,
     "end_time": "2022-12-18T13:55:03.230411",
     "exception": false,
     "start_time": "2022-12-18T13:55:03.200089",
     "status": "completed"
    },
    "tags": []
   },
   "outputs": [
    {
     "data": {
      "text/plain": [
       "PassengerId       0\n",
       "HomePlanet      201\n",
       "CryoSleep       217\n",
       "Cabin           199\n",
       "Destination     182\n",
       "Age               0\n",
       "VIP             203\n",
       "RoomService       0\n",
       "FoodCourt         0\n",
       "ShoppingMall      0\n",
       "Spa               0\n",
       "VRDeck            0\n",
       "Name            200\n",
       "Transported       0\n",
       "dtype: int64"
      ]
     },
     "execution_count": 13,
     "metadata": {},
     "output_type": "execute_result"
    }
   ],
   "source": [
    "df.isnull().sum()"
   ]
  },
  {
   "cell_type": "code",
   "execution_count": 14,
   "id": "2ab976cb",
   "metadata": {
    "execution": {
     "iopub.execute_input": "2022-12-18T13:55:03.256250Z",
     "iopub.status.busy": "2022-12-18T13:55:03.255731Z",
     "iopub.status.idle": "2022-12-18T13:55:03.271771Z",
     "shell.execute_reply": "2022-12-18T13:55:03.270426Z"
    },
    "papermill": {
     "duration": 0.032065,
     "end_time": "2022-12-18T13:55:03.274221",
     "exception": false,
     "start_time": "2022-12-18T13:55:03.242156",
     "status": "completed"
    },
    "tags": []
   },
   "outputs": [
    {
     "data": {
      "text/plain": [
       "(7559, 14)"
      ]
     },
     "execution_count": 14,
     "metadata": {},
     "output_type": "execute_result"
    }
   ],
   "source": [
    "#remove rows with missing values\n",
    "\n",
    "new_df = df.dropna(axis=0)\n",
    "new_df.shape"
   ]
  },
  {
   "cell_type": "code",
   "execution_count": 15,
   "id": "df524bef",
   "metadata": {
    "execution": {
     "iopub.execute_input": "2022-12-18T13:55:03.300319Z",
     "iopub.status.busy": "2022-12-18T13:55:03.299560Z",
     "iopub.status.idle": "2022-12-18T13:55:03.321836Z",
     "shell.execute_reply": "2022-12-18T13:55:03.320436Z"
    },
    "papermill": {
     "duration": 0.039015,
     "end_time": "2022-12-18T13:55:03.324896",
     "exception": false,
     "start_time": "2022-12-18T13:55:03.285881",
     "status": "completed"
    },
    "tags": []
   },
   "outputs": [
    {
     "data": {
      "text/html": [
       "<div>\n",
       "<style scoped>\n",
       "    .dataframe tbody tr th:only-of-type {\n",
       "        vertical-align: middle;\n",
       "    }\n",
       "\n",
       "    .dataframe tbody tr th {\n",
       "        vertical-align: top;\n",
       "    }\n",
       "\n",
       "    .dataframe thead th {\n",
       "        text-align: right;\n",
       "    }\n",
       "</style>\n",
       "<table border=\"1\" class=\"dataframe\">\n",
       "  <thead>\n",
       "    <tr style=\"text-align: right;\">\n",
       "      <th></th>\n",
       "      <th>PassengerId</th>\n",
       "      <th>HomePlanet</th>\n",
       "      <th>CryoSleep</th>\n",
       "      <th>Cabin</th>\n",
       "      <th>Destination</th>\n",
       "      <th>Age</th>\n",
       "      <th>VIP</th>\n",
       "      <th>RoomService</th>\n",
       "      <th>FoodCourt</th>\n",
       "      <th>ShoppingMall</th>\n",
       "      <th>Spa</th>\n",
       "      <th>VRDeck</th>\n",
       "      <th>Name</th>\n",
       "      <th>Transported</th>\n",
       "    </tr>\n",
       "  </thead>\n",
       "  <tbody>\n",
       "    <tr>\n",
       "      <th>0</th>\n",
       "      <td>0001_01</td>\n",
       "      <td>Europa</td>\n",
       "      <td>False</td>\n",
       "      <td>B/0/P</td>\n",
       "      <td>TRAPPIST-1e</td>\n",
       "      <td>39.0</td>\n",
       "      <td>0</td>\n",
       "      <td>0.0</td>\n",
       "      <td>0.0</td>\n",
       "      <td>0.0</td>\n",
       "      <td>0.0</td>\n",
       "      <td>0.0</td>\n",
       "      <td>Maham Ofracculy</td>\n",
       "      <td>0</td>\n",
       "    </tr>\n",
       "    <tr>\n",
       "      <th>1</th>\n",
       "      <td>0002_01</td>\n",
       "      <td>Earth</td>\n",
       "      <td>False</td>\n",
       "      <td>F/0/S</td>\n",
       "      <td>TRAPPIST-1e</td>\n",
       "      <td>24.0</td>\n",
       "      <td>0</td>\n",
       "      <td>109.0</td>\n",
       "      <td>9.0</td>\n",
       "      <td>25.0</td>\n",
       "      <td>549.0</td>\n",
       "      <td>44.0</td>\n",
       "      <td>Juanna Vines</td>\n",
       "      <td>1</td>\n",
       "    </tr>\n",
       "    <tr>\n",
       "      <th>2</th>\n",
       "      <td>0003_01</td>\n",
       "      <td>Europa</td>\n",
       "      <td>False</td>\n",
       "      <td>A/0/S</td>\n",
       "      <td>TRAPPIST-1e</td>\n",
       "      <td>58.0</td>\n",
       "      <td>1</td>\n",
       "      <td>43.0</td>\n",
       "      <td>3576.0</td>\n",
       "      <td>0.0</td>\n",
       "      <td>6715.0</td>\n",
       "      <td>49.0</td>\n",
       "      <td>Altark Susent</td>\n",
       "      <td>0</td>\n",
       "    </tr>\n",
       "    <tr>\n",
       "      <th>3</th>\n",
       "      <td>0003_02</td>\n",
       "      <td>Europa</td>\n",
       "      <td>False</td>\n",
       "      <td>A/0/S</td>\n",
       "      <td>TRAPPIST-1e</td>\n",
       "      <td>33.0</td>\n",
       "      <td>0</td>\n",
       "      <td>0.0</td>\n",
       "      <td>1283.0</td>\n",
       "      <td>371.0</td>\n",
       "      <td>3329.0</td>\n",
       "      <td>193.0</td>\n",
       "      <td>Solam Susent</td>\n",
       "      <td>0</td>\n",
       "    </tr>\n",
       "    <tr>\n",
       "      <th>4</th>\n",
       "      <td>0004_01</td>\n",
       "      <td>Earth</td>\n",
       "      <td>False</td>\n",
       "      <td>F/1/S</td>\n",
       "      <td>TRAPPIST-1e</td>\n",
       "      <td>16.0</td>\n",
       "      <td>0</td>\n",
       "      <td>303.0</td>\n",
       "      <td>70.0</td>\n",
       "      <td>151.0</td>\n",
       "      <td>565.0</td>\n",
       "      <td>2.0</td>\n",
       "      <td>Willy Santantines</td>\n",
       "      <td>1</td>\n",
       "    </tr>\n",
       "  </tbody>\n",
       "</table>\n",
       "</div>"
      ],
      "text/plain": [
       "  PassengerId HomePlanet CryoSleep  Cabin  Destination   Age VIP  RoomService  \\\n",
       "0     0001_01     Europa     False  B/0/P  TRAPPIST-1e  39.0   0          0.0   \n",
       "1     0002_01      Earth     False  F/0/S  TRAPPIST-1e  24.0   0        109.0   \n",
       "2     0003_01     Europa     False  A/0/S  TRAPPIST-1e  58.0   1         43.0   \n",
       "3     0003_02     Europa     False  A/0/S  TRAPPIST-1e  33.0   0          0.0   \n",
       "4     0004_01      Earth     False  F/1/S  TRAPPIST-1e  16.0   0        303.0   \n",
       "\n",
       "   FoodCourt  ShoppingMall     Spa  VRDeck               Name  Transported  \n",
       "0        0.0           0.0     0.0     0.0    Maham Ofracculy            0  \n",
       "1        9.0          25.0   549.0    44.0       Juanna Vines            1  \n",
       "2     3576.0           0.0  6715.0    49.0      Altark Susent            0  \n",
       "3     1283.0         371.0  3329.0   193.0       Solam Susent            0  \n",
       "4       70.0         151.0   565.0     2.0  Willy Santantines            1  "
      ]
     },
     "execution_count": 15,
     "metadata": {},
     "output_type": "execute_result"
    }
   ],
   "source": [
    "new_df.head()"
   ]
  },
  {
   "cell_type": "code",
   "execution_count": 16,
   "id": "6f236b14",
   "metadata": {
    "execution": {
     "iopub.execute_input": "2022-12-18T13:55:03.350641Z",
     "iopub.status.busy": "2022-12-18T13:55:03.350150Z",
     "iopub.status.idle": "2022-12-18T13:55:03.369969Z",
     "shell.execute_reply": "2022-12-18T13:55:03.368940Z"
    },
    "papermill": {
     "duration": 0.035491,
     "end_time": "2022-12-18T13:55:03.372122",
     "exception": false,
     "start_time": "2022-12-18T13:55:03.336631",
     "status": "completed"
    },
    "tags": []
   },
   "outputs": [
    {
     "data": {
      "text/plain": [
       "PassengerId     7559\n",
       "HomePlanet         3\n",
       "CryoSleep          2\n",
       "Cabin           5957\n",
       "Destination        3\n",
       "Age               81\n",
       "VIP                2\n",
       "RoomService     1167\n",
       "FoodCourt       1375\n",
       "ShoppingMall    1051\n",
       "Spa             1225\n",
       "VRDeck          1199\n",
       "Name            7540\n",
       "Transported        2\n",
       "dtype: int64"
      ]
     },
     "execution_count": 16,
     "metadata": {},
     "output_type": "execute_result"
    }
   ],
   "source": [
    "new_df.nunique()"
   ]
  },
  {
   "cell_type": "code",
   "execution_count": 17,
   "id": "8f68e1cd",
   "metadata": {
    "execution": {
     "iopub.execute_input": "2022-12-18T13:55:03.397901Z",
     "iopub.status.busy": "2022-12-18T13:55:03.397426Z",
     "iopub.status.idle": "2022-12-18T13:55:03.420000Z",
     "shell.execute_reply": "2022-12-18T13:55:03.418572Z"
    },
    "papermill": {
     "duration": 0.038861,
     "end_time": "2022-12-18T13:55:03.422668",
     "exception": false,
     "start_time": "2022-12-18T13:55:03.383807",
     "status": "completed"
    },
    "tags": []
   },
   "outputs": [
    {
     "data": {
      "text/html": [
       "<div>\n",
       "<style scoped>\n",
       "    .dataframe tbody tr th:only-of-type {\n",
       "        vertical-align: middle;\n",
       "    }\n",
       "\n",
       "    .dataframe tbody tr th {\n",
       "        vertical-align: top;\n",
       "    }\n",
       "\n",
       "    .dataframe thead th {\n",
       "        text-align: right;\n",
       "    }\n",
       "</style>\n",
       "<table border=\"1\" class=\"dataframe\">\n",
       "  <thead>\n",
       "    <tr style=\"text-align: right;\">\n",
       "      <th></th>\n",
       "      <th>PassengerId</th>\n",
       "      <th>HomePlanet</th>\n",
       "      <th>CryoSleep</th>\n",
       "      <th>Cabin</th>\n",
       "      <th>Destination</th>\n",
       "      <th>Age</th>\n",
       "      <th>VIP</th>\n",
       "      <th>RoomService</th>\n",
       "      <th>FoodCourt</th>\n",
       "      <th>ShoppingMall</th>\n",
       "      <th>Spa</th>\n",
       "      <th>VRDeck</th>\n",
       "      <th>Name</th>\n",
       "      <th>Transported</th>\n",
       "    </tr>\n",
       "  </thead>\n",
       "  <tbody>\n",
       "    <tr>\n",
       "      <th>0</th>\n",
       "      <td>0001_01</td>\n",
       "      <td>Europa</td>\n",
       "      <td>False</td>\n",
       "      <td>B/0/P</td>\n",
       "      <td>TRAPPIST-1e</td>\n",
       "      <td>39.0</td>\n",
       "      <td>0</td>\n",
       "      <td>0.0</td>\n",
       "      <td>0.0</td>\n",
       "      <td>0.0</td>\n",
       "      <td>0.0</td>\n",
       "      <td>0.0</td>\n",
       "      <td>Maham Ofracculy</td>\n",
       "      <td>0</td>\n",
       "    </tr>\n",
       "    <tr>\n",
       "      <th>1</th>\n",
       "      <td>0002_01</td>\n",
       "      <td>Earth</td>\n",
       "      <td>False</td>\n",
       "      <td>F/0/S</td>\n",
       "      <td>TRAPPIST-1e</td>\n",
       "      <td>24.0</td>\n",
       "      <td>0</td>\n",
       "      <td>109.0</td>\n",
       "      <td>9.0</td>\n",
       "      <td>25.0</td>\n",
       "      <td>549.0</td>\n",
       "      <td>44.0</td>\n",
       "      <td>Juanna Vines</td>\n",
       "      <td>1</td>\n",
       "    </tr>\n",
       "    <tr>\n",
       "      <th>2</th>\n",
       "      <td>0003_01</td>\n",
       "      <td>Europa</td>\n",
       "      <td>False</td>\n",
       "      <td>A/0/S</td>\n",
       "      <td>TRAPPIST-1e</td>\n",
       "      <td>58.0</td>\n",
       "      <td>1</td>\n",
       "      <td>43.0</td>\n",
       "      <td>3576.0</td>\n",
       "      <td>0.0</td>\n",
       "      <td>6715.0</td>\n",
       "      <td>49.0</td>\n",
       "      <td>Altark Susent</td>\n",
       "      <td>0</td>\n",
       "    </tr>\n",
       "    <tr>\n",
       "      <th>3</th>\n",
       "      <td>0003_02</td>\n",
       "      <td>Europa</td>\n",
       "      <td>False</td>\n",
       "      <td>A/0/S</td>\n",
       "      <td>TRAPPIST-1e</td>\n",
       "      <td>33.0</td>\n",
       "      <td>0</td>\n",
       "      <td>0.0</td>\n",
       "      <td>1283.0</td>\n",
       "      <td>371.0</td>\n",
       "      <td>3329.0</td>\n",
       "      <td>193.0</td>\n",
       "      <td>Solam Susent</td>\n",
       "      <td>0</td>\n",
       "    </tr>\n",
       "    <tr>\n",
       "      <th>4</th>\n",
       "      <td>0004_01</td>\n",
       "      <td>Earth</td>\n",
       "      <td>False</td>\n",
       "      <td>F/1/S</td>\n",
       "      <td>TRAPPIST-1e</td>\n",
       "      <td>16.0</td>\n",
       "      <td>0</td>\n",
       "      <td>303.0</td>\n",
       "      <td>70.0</td>\n",
       "      <td>151.0</td>\n",
       "      <td>565.0</td>\n",
       "      <td>2.0</td>\n",
       "      <td>Willy Santantines</td>\n",
       "      <td>1</td>\n",
       "    </tr>\n",
       "  </tbody>\n",
       "</table>\n",
       "</div>"
      ],
      "text/plain": [
       "  PassengerId HomePlanet CryoSleep  Cabin  Destination   Age VIP  RoomService  \\\n",
       "0     0001_01     Europa     False  B/0/P  TRAPPIST-1e  39.0   0          0.0   \n",
       "1     0002_01      Earth     False  F/0/S  TRAPPIST-1e  24.0   0        109.0   \n",
       "2     0003_01     Europa     False  A/0/S  TRAPPIST-1e  58.0   1         43.0   \n",
       "3     0003_02     Europa     False  A/0/S  TRAPPIST-1e  33.0   0          0.0   \n",
       "4     0004_01      Earth     False  F/1/S  TRAPPIST-1e  16.0   0        303.0   \n",
       "\n",
       "   FoodCourt  ShoppingMall     Spa  VRDeck               Name  Transported  \n",
       "0        0.0           0.0     0.0     0.0    Maham Ofracculy            0  \n",
       "1        9.0          25.0   549.0    44.0       Juanna Vines            1  \n",
       "2     3576.0           0.0  6715.0    49.0      Altark Susent            0  \n",
       "3     1283.0         371.0  3329.0   193.0       Solam Susent            0  \n",
       "4       70.0         151.0   565.0     2.0  Willy Santantines            1  "
      ]
     },
     "execution_count": 17,
     "metadata": {},
     "output_type": "execute_result"
    }
   ],
   "source": [
    "from sklearn.preprocessing import OneHotEncoder\n",
    "\n",
    "#hot = OneHotEncoder()\n",
    "#new_df = hot.fit_transform(new_df[['HomePlanet', 'Destination']])\n",
    "\n",
    "new_df.head()"
   ]
  },
  {
   "cell_type": "code",
   "execution_count": 18,
   "id": "19890d0e",
   "metadata": {
    "execution": {
     "iopub.execute_input": "2022-12-18T13:55:03.448491Z",
     "iopub.status.busy": "2022-12-18T13:55:03.447939Z",
     "iopub.status.idle": "2022-12-18T13:55:03.461069Z",
     "shell.execute_reply": "2022-12-18T13:55:03.458885Z"
    },
    "papermill": {
     "duration": 0.03019,
     "end_time": "2022-12-18T13:55:03.464767",
     "exception": false,
     "start_time": "2022-12-18T13:55:03.434577",
     "status": "completed"
    },
    "tags": []
   },
   "outputs": [
    {
     "name": "stdout",
     "output_type": "stream",
     "text": [
      "Index(['HomePlanet_Earth', 'HomePlanet_Europa', 'HomePlanet_Mars'], dtype='object')\n"
     ]
    }
   ],
   "source": [
    "enc1 = pd.get_dummies(new_df['HomePlanet'], prefix='HomePlanet')\n",
    "enc1.head()\n",
    "\n",
    "enc2 = pd.get_dummies(new_df['Destination'], prefix='Destination')\n",
    "enc2.head()\n",
    "\n",
    "print(enc1.columns)"
   ]
  },
  {
   "cell_type": "code",
   "execution_count": 19,
   "id": "ea980b76",
   "metadata": {
    "execution": {
     "iopub.execute_input": "2022-12-18T13:55:03.491739Z",
     "iopub.status.busy": "2022-12-18T13:55:03.491290Z",
     "iopub.status.idle": "2022-12-18T13:55:03.526960Z",
     "shell.execute_reply": "2022-12-18T13:55:03.525612Z"
    },
    "papermill": {
     "duration": 0.052131,
     "end_time": "2022-12-18T13:55:03.529620",
     "exception": false,
     "start_time": "2022-12-18T13:55:03.477489",
     "status": "completed"
    },
    "tags": []
   },
   "outputs": [
    {
     "data": {
      "text/html": [
       "<div>\n",
       "<style scoped>\n",
       "    .dataframe tbody tr th:only-of-type {\n",
       "        vertical-align: middle;\n",
       "    }\n",
       "\n",
       "    .dataframe tbody tr th {\n",
       "        vertical-align: top;\n",
       "    }\n",
       "\n",
       "    .dataframe thead th {\n",
       "        text-align: right;\n",
       "    }\n",
       "</style>\n",
       "<table border=\"1\" class=\"dataframe\">\n",
       "  <thead>\n",
       "    <tr style=\"text-align: right;\">\n",
       "      <th></th>\n",
       "      <th>PassengerId</th>\n",
       "      <th>CryoSleep</th>\n",
       "      <th>Cabin</th>\n",
       "      <th>Age</th>\n",
       "      <th>VIP</th>\n",
       "      <th>RoomService</th>\n",
       "      <th>FoodCourt</th>\n",
       "      <th>ShoppingMall</th>\n",
       "      <th>Spa</th>\n",
       "      <th>VRDeck</th>\n",
       "      <th>Name</th>\n",
       "      <th>Transported</th>\n",
       "      <th>HomePlanet_Earth</th>\n",
       "      <th>HomePlanet_Europa</th>\n",
       "      <th>HomePlanet_Mars</th>\n",
       "      <th>Destination_55 Cancri e</th>\n",
       "      <th>Destination_PSO J318.5-22</th>\n",
       "      <th>Destination_TRAPPIST-1e</th>\n",
       "    </tr>\n",
       "  </thead>\n",
       "  <tbody>\n",
       "    <tr>\n",
       "      <th>0</th>\n",
       "      <td>0001_01</td>\n",
       "      <td>False</td>\n",
       "      <td>B/0/P</td>\n",
       "      <td>39.0</td>\n",
       "      <td>0</td>\n",
       "      <td>0.0</td>\n",
       "      <td>0.0</td>\n",
       "      <td>0.0</td>\n",
       "      <td>0.0</td>\n",
       "      <td>0.0</td>\n",
       "      <td>Maham Ofracculy</td>\n",
       "      <td>0</td>\n",
       "      <td>0</td>\n",
       "      <td>1</td>\n",
       "      <td>0</td>\n",
       "      <td>0</td>\n",
       "      <td>0</td>\n",
       "      <td>1</td>\n",
       "    </tr>\n",
       "    <tr>\n",
       "      <th>1</th>\n",
       "      <td>0002_01</td>\n",
       "      <td>False</td>\n",
       "      <td>F/0/S</td>\n",
       "      <td>24.0</td>\n",
       "      <td>0</td>\n",
       "      <td>109.0</td>\n",
       "      <td>9.0</td>\n",
       "      <td>25.0</td>\n",
       "      <td>549.0</td>\n",
       "      <td>44.0</td>\n",
       "      <td>Juanna Vines</td>\n",
       "      <td>1</td>\n",
       "      <td>1</td>\n",
       "      <td>0</td>\n",
       "      <td>0</td>\n",
       "      <td>0</td>\n",
       "      <td>0</td>\n",
       "      <td>1</td>\n",
       "    </tr>\n",
       "    <tr>\n",
       "      <th>2</th>\n",
       "      <td>0003_01</td>\n",
       "      <td>False</td>\n",
       "      <td>A/0/S</td>\n",
       "      <td>58.0</td>\n",
       "      <td>1</td>\n",
       "      <td>43.0</td>\n",
       "      <td>3576.0</td>\n",
       "      <td>0.0</td>\n",
       "      <td>6715.0</td>\n",
       "      <td>49.0</td>\n",
       "      <td>Altark Susent</td>\n",
       "      <td>0</td>\n",
       "      <td>0</td>\n",
       "      <td>1</td>\n",
       "      <td>0</td>\n",
       "      <td>0</td>\n",
       "      <td>0</td>\n",
       "      <td>1</td>\n",
       "    </tr>\n",
       "    <tr>\n",
       "      <th>3</th>\n",
       "      <td>0003_02</td>\n",
       "      <td>False</td>\n",
       "      <td>A/0/S</td>\n",
       "      <td>33.0</td>\n",
       "      <td>0</td>\n",
       "      <td>0.0</td>\n",
       "      <td>1283.0</td>\n",
       "      <td>371.0</td>\n",
       "      <td>3329.0</td>\n",
       "      <td>193.0</td>\n",
       "      <td>Solam Susent</td>\n",
       "      <td>0</td>\n",
       "      <td>0</td>\n",
       "      <td>1</td>\n",
       "      <td>0</td>\n",
       "      <td>0</td>\n",
       "      <td>0</td>\n",
       "      <td>1</td>\n",
       "    </tr>\n",
       "    <tr>\n",
       "      <th>4</th>\n",
       "      <td>0004_01</td>\n",
       "      <td>False</td>\n",
       "      <td>F/1/S</td>\n",
       "      <td>16.0</td>\n",
       "      <td>0</td>\n",
       "      <td>303.0</td>\n",
       "      <td>70.0</td>\n",
       "      <td>151.0</td>\n",
       "      <td>565.0</td>\n",
       "      <td>2.0</td>\n",
       "      <td>Willy Santantines</td>\n",
       "      <td>1</td>\n",
       "      <td>1</td>\n",
       "      <td>0</td>\n",
       "      <td>0</td>\n",
       "      <td>0</td>\n",
       "      <td>0</td>\n",
       "      <td>1</td>\n",
       "    </tr>\n",
       "  </tbody>\n",
       "</table>\n",
       "</div>"
      ],
      "text/plain": [
       "  PassengerId CryoSleep  Cabin   Age VIP  RoomService  FoodCourt  \\\n",
       "0     0001_01     False  B/0/P  39.0   0          0.0        0.0   \n",
       "1     0002_01     False  F/0/S  24.0   0        109.0        9.0   \n",
       "2     0003_01     False  A/0/S  58.0   1         43.0     3576.0   \n",
       "3     0003_02     False  A/0/S  33.0   0          0.0     1283.0   \n",
       "4     0004_01     False  F/1/S  16.0   0        303.0       70.0   \n",
       "\n",
       "   ShoppingMall     Spa  VRDeck               Name  Transported  \\\n",
       "0           0.0     0.0     0.0    Maham Ofracculy            0   \n",
       "1          25.0   549.0    44.0       Juanna Vines            1   \n",
       "2           0.0  6715.0    49.0      Altark Susent            0   \n",
       "3         371.0  3329.0   193.0       Solam Susent            0   \n",
       "4         151.0   565.0     2.0  Willy Santantines            1   \n",
       "\n",
       "   HomePlanet_Earth  HomePlanet_Europa  HomePlanet_Mars  \\\n",
       "0                 0                  1                0   \n",
       "1                 1                  0                0   \n",
       "2                 0                  1                0   \n",
       "3                 0                  1                0   \n",
       "4                 1                  0                0   \n",
       "\n",
       "   Destination_55 Cancri e  Destination_PSO J318.5-22  Destination_TRAPPIST-1e  \n",
       "0                        0                          0                        1  \n",
       "1                        0                          0                        1  \n",
       "2                        0                          0                        1  \n",
       "3                        0                          0                        1  \n",
       "4                        0                          0                        1  "
      ]
     },
     "execution_count": 19,
     "metadata": {},
     "output_type": "execute_result"
    }
   ],
   "source": [
    "# dropping obsolete columns and inserting one-hot encoded ones\n",
    "\n",
    "enc_df = pd.concat([new_df, enc1, enc2], axis=1)\n",
    "\n",
    "enc_df = enc_df.drop(['HomePlanet', 'Destination'], axis=1)\n",
    "\n",
    "enc_df.head()"
   ]
  },
  {
   "cell_type": "code",
   "execution_count": 20,
   "id": "d7dec6f4",
   "metadata": {
    "execution": {
     "iopub.execute_input": "2022-12-18T13:55:03.560073Z",
     "iopub.status.busy": "2022-12-18T13:55:03.558510Z",
     "iopub.status.idle": "2022-12-18T13:55:03.586965Z",
     "shell.execute_reply": "2022-12-18T13:55:03.585570Z"
    },
    "papermill": {
     "duration": 0.046403,
     "end_time": "2022-12-18T13:55:03.590022",
     "exception": false,
     "start_time": "2022-12-18T13:55:03.543619",
     "status": "completed"
    },
    "tags": []
   },
   "outputs": [
    {
     "data": {
      "text/html": [
       "<div>\n",
       "<style scoped>\n",
       "    .dataframe tbody tr th:only-of-type {\n",
       "        vertical-align: middle;\n",
       "    }\n",
       "\n",
       "    .dataframe tbody tr th {\n",
       "        vertical-align: top;\n",
       "    }\n",
       "\n",
       "    .dataframe thead th {\n",
       "        text-align: right;\n",
       "    }\n",
       "</style>\n",
       "<table border=\"1\" class=\"dataframe\">\n",
       "  <thead>\n",
       "    <tr style=\"text-align: right;\">\n",
       "      <th></th>\n",
       "      <th>PassengerId</th>\n",
       "      <th>CryoSleep</th>\n",
       "      <th>Cabin</th>\n",
       "      <th>Age</th>\n",
       "      <th>VIP</th>\n",
       "      <th>RoomService</th>\n",
       "      <th>FoodCourt</th>\n",
       "      <th>ShoppingMall</th>\n",
       "      <th>Spa</th>\n",
       "      <th>VRDeck</th>\n",
       "      <th>Name</th>\n",
       "      <th>HomePlanet_Earth</th>\n",
       "      <th>HomePlanet_Europa</th>\n",
       "      <th>HomePlanet_Mars</th>\n",
       "      <th>Destination_55 Cancri e</th>\n",
       "      <th>Destination_PSO J318.5-22</th>\n",
       "      <th>Destination_TRAPPIST-1e</th>\n",
       "      <th>Transported</th>\n",
       "    </tr>\n",
       "  </thead>\n",
       "  <tbody>\n",
       "    <tr>\n",
       "      <th>0</th>\n",
       "      <td>0001_01</td>\n",
       "      <td>False</td>\n",
       "      <td>B/0/P</td>\n",
       "      <td>39.0</td>\n",
       "      <td>0</td>\n",
       "      <td>0.0</td>\n",
       "      <td>0.0</td>\n",
       "      <td>0.0</td>\n",
       "      <td>0.0</td>\n",
       "      <td>0.0</td>\n",
       "      <td>Maham Ofracculy</td>\n",
       "      <td>0</td>\n",
       "      <td>1</td>\n",
       "      <td>0</td>\n",
       "      <td>0</td>\n",
       "      <td>0</td>\n",
       "      <td>1</td>\n",
       "      <td>0</td>\n",
       "    </tr>\n",
       "    <tr>\n",
       "      <th>1</th>\n",
       "      <td>0002_01</td>\n",
       "      <td>False</td>\n",
       "      <td>F/0/S</td>\n",
       "      <td>24.0</td>\n",
       "      <td>0</td>\n",
       "      <td>109.0</td>\n",
       "      <td>9.0</td>\n",
       "      <td>25.0</td>\n",
       "      <td>549.0</td>\n",
       "      <td>44.0</td>\n",
       "      <td>Juanna Vines</td>\n",
       "      <td>1</td>\n",
       "      <td>0</td>\n",
       "      <td>0</td>\n",
       "      <td>0</td>\n",
       "      <td>0</td>\n",
       "      <td>1</td>\n",
       "      <td>1</td>\n",
       "    </tr>\n",
       "    <tr>\n",
       "      <th>2</th>\n",
       "      <td>0003_01</td>\n",
       "      <td>False</td>\n",
       "      <td>A/0/S</td>\n",
       "      <td>58.0</td>\n",
       "      <td>1</td>\n",
       "      <td>43.0</td>\n",
       "      <td>3576.0</td>\n",
       "      <td>0.0</td>\n",
       "      <td>6715.0</td>\n",
       "      <td>49.0</td>\n",
       "      <td>Altark Susent</td>\n",
       "      <td>0</td>\n",
       "      <td>1</td>\n",
       "      <td>0</td>\n",
       "      <td>0</td>\n",
       "      <td>0</td>\n",
       "      <td>1</td>\n",
       "      <td>0</td>\n",
       "    </tr>\n",
       "    <tr>\n",
       "      <th>3</th>\n",
       "      <td>0003_02</td>\n",
       "      <td>False</td>\n",
       "      <td>A/0/S</td>\n",
       "      <td>33.0</td>\n",
       "      <td>0</td>\n",
       "      <td>0.0</td>\n",
       "      <td>1283.0</td>\n",
       "      <td>371.0</td>\n",
       "      <td>3329.0</td>\n",
       "      <td>193.0</td>\n",
       "      <td>Solam Susent</td>\n",
       "      <td>0</td>\n",
       "      <td>1</td>\n",
       "      <td>0</td>\n",
       "      <td>0</td>\n",
       "      <td>0</td>\n",
       "      <td>1</td>\n",
       "      <td>0</td>\n",
       "    </tr>\n",
       "    <tr>\n",
       "      <th>4</th>\n",
       "      <td>0004_01</td>\n",
       "      <td>False</td>\n",
       "      <td>F/1/S</td>\n",
       "      <td>16.0</td>\n",
       "      <td>0</td>\n",
       "      <td>303.0</td>\n",
       "      <td>70.0</td>\n",
       "      <td>151.0</td>\n",
       "      <td>565.0</td>\n",
       "      <td>2.0</td>\n",
       "      <td>Willy Santantines</td>\n",
       "      <td>1</td>\n",
       "      <td>0</td>\n",
       "      <td>0</td>\n",
       "      <td>0</td>\n",
       "      <td>0</td>\n",
       "      <td>1</td>\n",
       "      <td>1</td>\n",
       "    </tr>\n",
       "  </tbody>\n",
       "</table>\n",
       "</div>"
      ],
      "text/plain": [
       "  PassengerId CryoSleep  Cabin   Age VIP  RoomService  FoodCourt  \\\n",
       "0     0001_01     False  B/0/P  39.0   0          0.0        0.0   \n",
       "1     0002_01     False  F/0/S  24.0   0        109.0        9.0   \n",
       "2     0003_01     False  A/0/S  58.0   1         43.0     3576.0   \n",
       "3     0003_02     False  A/0/S  33.0   0          0.0     1283.0   \n",
       "4     0004_01     False  F/1/S  16.0   0        303.0       70.0   \n",
       "\n",
       "   ShoppingMall     Spa  VRDeck               Name  HomePlanet_Earth  \\\n",
       "0           0.0     0.0     0.0    Maham Ofracculy                 0   \n",
       "1          25.0   549.0    44.0       Juanna Vines                 1   \n",
       "2           0.0  6715.0    49.0      Altark Susent                 0   \n",
       "3         371.0  3329.0   193.0       Solam Susent                 0   \n",
       "4         151.0   565.0     2.0  Willy Santantines                 1   \n",
       "\n",
       "   HomePlanet_Europa  HomePlanet_Mars  Destination_55 Cancri e  \\\n",
       "0                  1                0                        0   \n",
       "1                  0                0                        0   \n",
       "2                  1                0                        0   \n",
       "3                  1                0                        0   \n",
       "4                  0                0                        0   \n",
       "\n",
       "   Destination_PSO J318.5-22  Destination_TRAPPIST-1e  Transported  \n",
       "0                          0                        1            0  \n",
       "1                          0                        1            1  \n",
       "2                          0                        1            0  \n",
       "3                          0                        1            0  \n",
       "4                          0                        1            1  "
      ]
     },
     "execution_count": 20,
     "metadata": {},
     "output_type": "execute_result"
    }
   ],
   "source": [
    "enc_df = enc_df.drop('Transported', axis=1)\n",
    "enc_df['Transported'] = df['Transported']\n",
    "enc_df.head()"
   ]
  },
  {
   "cell_type": "code",
   "execution_count": 21,
   "id": "ca681134",
   "metadata": {
    "execution": {
     "iopub.execute_input": "2022-12-18T13:55:03.618636Z",
     "iopub.status.busy": "2022-12-18T13:55:03.617916Z",
     "iopub.status.idle": "2022-12-18T13:55:03.624156Z",
     "shell.execute_reply": "2022-12-18T13:55:03.622897Z"
    },
    "papermill": {
     "duration": 0.023512,
     "end_time": "2022-12-18T13:55:03.626759",
     "exception": false,
     "start_time": "2022-12-18T13:55:03.603247",
     "status": "completed"
    },
    "tags": []
   },
   "outputs": [
    {
     "data": {
      "text/plain": [
       "(7559, 18)"
      ]
     },
     "execution_count": 21,
     "metadata": {},
     "output_type": "execute_result"
    }
   ],
   "source": [
    "enc_df.shape"
   ]
  },
  {
   "cell_type": "code",
   "execution_count": 22,
   "id": "7345dffd",
   "metadata": {
    "execution": {
     "iopub.execute_input": "2022-12-18T13:55:03.655306Z",
     "iopub.status.busy": "2022-12-18T13:55:03.654102Z",
     "iopub.status.idle": "2022-12-18T13:55:03.663701Z",
     "shell.execute_reply": "2022-12-18T13:55:03.662492Z"
    },
    "papermill": {
     "duration": 0.026401,
     "end_time": "2022-12-18T13:55:03.666192",
     "exception": false,
     "start_time": "2022-12-18T13:55:03.639791",
     "status": "completed"
    },
    "tags": []
   },
   "outputs": [
    {
     "data": {
      "text/plain": [
       "5957"
      ]
     },
     "execution_count": 22,
     "metadata": {},
     "output_type": "execute_result"
    }
   ],
   "source": [
    "enc_df['Cabin'].nunique()"
   ]
  },
  {
   "cell_type": "code",
   "execution_count": 23,
   "id": "f37848c7",
   "metadata": {
    "execution": {
     "iopub.execute_input": "2022-12-18T13:55:03.694484Z",
     "iopub.status.busy": "2022-12-18T13:55:03.693828Z",
     "iopub.status.idle": "2022-12-18T13:55:03.716287Z",
     "shell.execute_reply": "2022-12-18T13:55:03.715099Z"
    },
    "papermill": {
     "duration": 0.039448,
     "end_time": "2022-12-18T13:55:03.718751",
     "exception": false,
     "start_time": "2022-12-18T13:55:03.679303",
     "status": "completed"
    },
    "tags": []
   },
   "outputs": [
    {
     "data": {
      "text/html": [
       "<div>\n",
       "<style scoped>\n",
       "    .dataframe tbody tr th:only-of-type {\n",
       "        vertical-align: middle;\n",
       "    }\n",
       "\n",
       "    .dataframe tbody tr th {\n",
       "        vertical-align: top;\n",
       "    }\n",
       "\n",
       "    .dataframe thead th {\n",
       "        text-align: right;\n",
       "    }\n",
       "</style>\n",
       "<table border=\"1\" class=\"dataframe\">\n",
       "  <thead>\n",
       "    <tr style=\"text-align: right;\">\n",
       "      <th></th>\n",
       "      <th>PassengerId</th>\n",
       "      <th>CryoSleep</th>\n",
       "      <th>Age</th>\n",
       "      <th>VIP</th>\n",
       "      <th>RoomService</th>\n",
       "      <th>FoodCourt</th>\n",
       "      <th>ShoppingMall</th>\n",
       "      <th>Spa</th>\n",
       "      <th>VRDeck</th>\n",
       "      <th>HomePlanet_Earth</th>\n",
       "      <th>HomePlanet_Europa</th>\n",
       "      <th>HomePlanet_Mars</th>\n",
       "      <th>Destination_55 Cancri e</th>\n",
       "      <th>Destination_PSO J318.5-22</th>\n",
       "      <th>Destination_TRAPPIST-1e</th>\n",
       "      <th>Transported</th>\n",
       "    </tr>\n",
       "  </thead>\n",
       "  <tbody>\n",
       "    <tr>\n",
       "      <th>0</th>\n",
       "      <td>0001_01</td>\n",
       "      <td>False</td>\n",
       "      <td>39.0</td>\n",
       "      <td>0</td>\n",
       "      <td>0.0</td>\n",
       "      <td>0.0</td>\n",
       "      <td>0.0</td>\n",
       "      <td>0.0</td>\n",
       "      <td>0.0</td>\n",
       "      <td>0</td>\n",
       "      <td>1</td>\n",
       "      <td>0</td>\n",
       "      <td>0</td>\n",
       "      <td>0</td>\n",
       "      <td>1</td>\n",
       "      <td>0</td>\n",
       "    </tr>\n",
       "    <tr>\n",
       "      <th>1</th>\n",
       "      <td>0002_01</td>\n",
       "      <td>False</td>\n",
       "      <td>24.0</td>\n",
       "      <td>0</td>\n",
       "      <td>109.0</td>\n",
       "      <td>9.0</td>\n",
       "      <td>25.0</td>\n",
       "      <td>549.0</td>\n",
       "      <td>44.0</td>\n",
       "      <td>1</td>\n",
       "      <td>0</td>\n",
       "      <td>0</td>\n",
       "      <td>0</td>\n",
       "      <td>0</td>\n",
       "      <td>1</td>\n",
       "      <td>1</td>\n",
       "    </tr>\n",
       "    <tr>\n",
       "      <th>2</th>\n",
       "      <td>0003_01</td>\n",
       "      <td>False</td>\n",
       "      <td>58.0</td>\n",
       "      <td>1</td>\n",
       "      <td>43.0</td>\n",
       "      <td>3576.0</td>\n",
       "      <td>0.0</td>\n",
       "      <td>6715.0</td>\n",
       "      <td>49.0</td>\n",
       "      <td>0</td>\n",
       "      <td>1</td>\n",
       "      <td>0</td>\n",
       "      <td>0</td>\n",
       "      <td>0</td>\n",
       "      <td>1</td>\n",
       "      <td>0</td>\n",
       "    </tr>\n",
       "    <tr>\n",
       "      <th>3</th>\n",
       "      <td>0003_02</td>\n",
       "      <td>False</td>\n",
       "      <td>33.0</td>\n",
       "      <td>0</td>\n",
       "      <td>0.0</td>\n",
       "      <td>1283.0</td>\n",
       "      <td>371.0</td>\n",
       "      <td>3329.0</td>\n",
       "      <td>193.0</td>\n",
       "      <td>0</td>\n",
       "      <td>1</td>\n",
       "      <td>0</td>\n",
       "      <td>0</td>\n",
       "      <td>0</td>\n",
       "      <td>1</td>\n",
       "      <td>0</td>\n",
       "    </tr>\n",
       "    <tr>\n",
       "      <th>4</th>\n",
       "      <td>0004_01</td>\n",
       "      <td>False</td>\n",
       "      <td>16.0</td>\n",
       "      <td>0</td>\n",
       "      <td>303.0</td>\n",
       "      <td>70.0</td>\n",
       "      <td>151.0</td>\n",
       "      <td>565.0</td>\n",
       "      <td>2.0</td>\n",
       "      <td>1</td>\n",
       "      <td>0</td>\n",
       "      <td>0</td>\n",
       "      <td>0</td>\n",
       "      <td>0</td>\n",
       "      <td>1</td>\n",
       "      <td>1</td>\n",
       "    </tr>\n",
       "  </tbody>\n",
       "</table>\n",
       "</div>"
      ],
      "text/plain": [
       "  PassengerId CryoSleep   Age VIP  RoomService  FoodCourt  ShoppingMall  \\\n",
       "0     0001_01     False  39.0   0          0.0        0.0           0.0   \n",
       "1     0002_01     False  24.0   0        109.0        9.0          25.0   \n",
       "2     0003_01     False  58.0   1         43.0     3576.0           0.0   \n",
       "3     0003_02     False  33.0   0          0.0     1283.0         371.0   \n",
       "4     0004_01     False  16.0   0        303.0       70.0         151.0   \n",
       "\n",
       "      Spa  VRDeck  HomePlanet_Earth  HomePlanet_Europa  HomePlanet_Mars  \\\n",
       "0     0.0     0.0                 0                  1                0   \n",
       "1   549.0    44.0                 1                  0                0   \n",
       "2  6715.0    49.0                 0                  1                0   \n",
       "3  3329.0   193.0                 0                  1                0   \n",
       "4   565.0     2.0                 1                  0                0   \n",
       "\n",
       "   Destination_55 Cancri e  Destination_PSO J318.5-22  \\\n",
       "0                        0                          0   \n",
       "1                        0                          0   \n",
       "2                        0                          0   \n",
       "3                        0                          0   \n",
       "4                        0                          0   \n",
       "\n",
       "   Destination_TRAPPIST-1e  Transported  \n",
       "0                        1            0  \n",
       "1                        1            1  \n",
       "2                        1            0  \n",
       "3                        1            0  \n",
       "4                        1            1  "
      ]
     },
     "execution_count": 23,
     "metadata": {},
     "output_type": "execute_result"
    }
   ],
   "source": [
    "# will drop Cabin and Name features for now\n",
    "\n",
    "enc_df = enc_df.drop(['Cabin', 'Name'], axis=1)\n",
    "enc_df.head()"
   ]
  },
  {
   "cell_type": "code",
   "execution_count": 24,
   "id": "64296671",
   "metadata": {
    "execution": {
     "iopub.execute_input": "2022-12-18T13:55:03.747404Z",
     "iopub.status.busy": "2022-12-18T13:55:03.746993Z",
     "iopub.status.idle": "2022-12-18T13:55:03.757993Z",
     "shell.execute_reply": "2022-12-18T13:55:03.757041Z"
    },
    "papermill": {
     "duration": 0.028686,
     "end_time": "2022-12-18T13:55:03.760860",
     "exception": false,
     "start_time": "2022-12-18T13:55:03.732174",
     "status": "completed"
    },
    "tags": []
   },
   "outputs": [],
   "source": [
    "from sklearn.model_selection import train_test_split\n",
    "\n",
    "X = enc_df.iloc[:, 1:-1]\n",
    "y = enc_df.iloc[:,-1]\n",
    "\n",
    "X_train, X_test, y_train, y_test = train_test_split(X, y, test_size=0.3, random_state=8)"
   ]
  },
  {
   "cell_type": "code",
   "execution_count": 25,
   "id": "0773cb98",
   "metadata": {
    "execution": {
     "iopub.execute_input": "2022-12-18T13:55:03.790439Z",
     "iopub.status.busy": "2022-12-18T13:55:03.789757Z",
     "iopub.status.idle": "2022-12-18T13:55:07.353634Z",
     "shell.execute_reply": "2022-12-18T13:55:07.352308Z"
    },
    "papermill": {
     "duration": 3.581962,
     "end_time": "2022-12-18T13:55:07.356549",
     "exception": false,
     "start_time": "2022-12-18T13:55:03.774587",
     "status": "completed"
    },
    "tags": []
   },
   "outputs": [],
   "source": [
    "# model 1: random forest\n",
    "from sklearn.ensemble import RandomForestClassifier\n",
    "\n",
    "rfc = RandomForestClassifier()\n",
    "rfc_model = rfc.fit(X_train, y_train)\n",
    "\n",
    "# # model 2: logistic regression\n",
    "# from sklearn.linear_model import LogisticRegression\n",
    "# lc = LogisticRegression(penalty='None')\n",
    "# lc_model = lc.fit(X_train, y_train)\n",
    "\n",
    "# model 2: k nearest neighbour\n",
    "from sklearn.neighbors import KNeighborsClassifier\n",
    "knn = KNeighborsClassifier()\n",
    "knn_model = knn.fit(X_train, y_train)\n",
    "\n",
    "# model 3: SVM\n",
    "from sklearn.svm import SVC\n",
    "svc = SVC()\n",
    "svc_model = svc.fit(X_train, y_train)\n",
    "\n",
    "# voting classifier\n",
    "from sklearn.ensemble import VotingClassifier\n",
    "\n",
    "classifiers = [('rfc', rfc_model), ('knn', knn_model), ('svc', svc_model)]\n",
    "\n",
    "vc = VotingClassifier(estimators=classifiers, voting='hard')\n",
    "vc_model = vc.fit(X_train, y_train)"
   ]
  },
  {
   "cell_type": "code",
   "execution_count": 26,
   "id": "78e803f4",
   "metadata": {
    "execution": {
     "iopub.execute_input": "2022-12-18T13:55:07.385324Z",
     "iopub.status.busy": "2022-12-18T13:55:07.384876Z",
     "iopub.status.idle": "2022-12-18T13:55:08.631458Z",
     "shell.execute_reply": "2022-12-18T13:55:08.629621Z"
    },
    "papermill": {
     "duration": 1.264518,
     "end_time": "2022-12-18T13:55:08.634214",
     "exception": false,
     "start_time": "2022-12-18T13:55:07.369696",
     "status": "completed"
    },
    "tags": []
   },
   "outputs": [
    {
     "name": "stdout",
     "output_type": "stream",
     "text": [
      "Accuracy score of random forest is 0.7777777777777778\n",
      "\n",
      "\n",
      "Accuracy score of k nearest neighbour is 0.7702821869488536\n",
      "\n",
      "\n",
      "Accuracy score of support vector classifier is 0.7746913580246914\n",
      "\n",
      "\n",
      "Accuracy score of voting classifier is 0.7746913580246914\n"
     ]
    }
   ],
   "source": [
    "from sklearn.metrics import accuracy_score\n",
    "\n",
    "y_pred_rfc = rfc_model.predict(X_test)\n",
    "score_rfc = accuracy_score(y_test, y_pred_rfc)\n",
    "\n",
    "print(\"Accuracy score of random forest is\", score_rfc)\n",
    "\n",
    "y_pred_knn = knn_model.predict(X_test)\n",
    "score_knn = accuracy_score(y_test, y_pred_knn)\n",
    "\n",
    "print(\"\\n\\nAccuracy score of k nearest neighbour is\", score_knn)\n",
    "\n",
    "y_pred_svc = svc_model.predict(X_test)\n",
    "score_svc = accuracy_score(y_test, y_pred_svc)\n",
    "\n",
    "print(\"\\n\\nAccuracy score of support vector classifier is\", score_svc)\n",
    "\n",
    "y_pred_vc = vc_model.predict(X_test)\n",
    "score_vc = accuracy_score(y_test, y_pred_vc)\n",
    "\n",
    "print(\"\\n\\nAccuracy score of voting classifier is\", score_vc)"
   ]
  },
  {
   "cell_type": "code",
   "execution_count": 27,
   "id": "65549e78",
   "metadata": {
    "execution": {
     "iopub.execute_input": "2022-12-18T13:55:08.663380Z",
     "iopub.status.busy": "2022-12-18T13:55:08.662903Z",
     "iopub.status.idle": "2022-12-18T13:55:08.700993Z",
     "shell.execute_reply": "2022-12-18T13:55:08.699999Z"
    },
    "papermill": {
     "duration": 0.055359,
     "end_time": "2022-12-18T13:55:08.703264",
     "exception": false,
     "start_time": "2022-12-18T13:55:08.647905",
     "status": "completed"
    },
    "tags": []
   },
   "outputs": [
    {
     "data": {
      "text/plain": [
       "PassengerId       0\n",
       "HomePlanet       87\n",
       "CryoSleep        93\n",
       "Cabin           100\n",
       "Destination      92\n",
       "Age              91\n",
       "VIP              93\n",
       "RoomService      82\n",
       "FoodCourt       106\n",
       "ShoppingMall     98\n",
       "Spa             101\n",
       "VRDeck           80\n",
       "Name             94\n",
       "dtype: int64"
      ]
     },
     "execution_count": 27,
     "metadata": {},
     "output_type": "execute_result"
    }
   ],
   "source": [
    "# apply preprocessing to test data\n",
    "\n",
    "test = pd.read_csv('/kaggle/input/spaceship-titanic/test.csv')\n",
    "test.isnull().sum()"
   ]
  },
  {
   "cell_type": "code",
   "execution_count": 28,
   "id": "f45515d1",
   "metadata": {
    "execution": {
     "iopub.execute_input": "2022-12-18T13:55:08.733635Z",
     "iopub.status.busy": "2022-12-18T13:55:08.733159Z",
     "iopub.status.idle": "2022-12-18T13:55:08.745482Z",
     "shell.execute_reply": "2022-12-18T13:55:08.744225Z"
    },
    "papermill": {
     "duration": 0.030602,
     "end_time": "2022-12-18T13:55:08.748014",
     "exception": false,
     "start_time": "2022-12-18T13:55:08.717412",
     "status": "completed"
    },
    "tags": []
   },
   "outputs": [],
   "source": [
    "imp = SimpleImputer()\n",
    "test[numeric_cols.columns] = imp.fit_transform(test[numeric_cols.columns])"
   ]
  },
  {
   "cell_type": "code",
   "execution_count": 29,
   "id": "db970b28",
   "metadata": {
    "execution": {
     "iopub.execute_input": "2022-12-18T13:55:08.778461Z",
     "iopub.status.busy": "2022-12-18T13:55:08.778022Z",
     "iopub.status.idle": "2022-12-18T13:55:08.786235Z",
     "shell.execute_reply": "2022-12-18T13:55:08.785115Z"
    },
    "papermill": {
     "duration": 0.026285,
     "end_time": "2022-12-18T13:55:08.788386",
     "exception": false,
     "start_time": "2022-12-18T13:55:08.762101",
     "status": "completed"
    },
    "tags": []
   },
   "outputs": [],
   "source": [
    "#convert Boolean columns to 0 and 1 values\n",
    "boolean_cols = test.select_dtypes(include='bool')\n",
    "test[boolean_cols.columns] = test[boolean_cols.columns] * 1"
   ]
  },
  {
   "cell_type": "code",
   "execution_count": 30,
   "id": "45736c0e",
   "metadata": {
    "execution": {
     "iopub.execute_input": "2022-12-18T13:55:08.817819Z",
     "iopub.status.busy": "2022-12-18T13:55:08.817448Z",
     "iopub.status.idle": "2022-12-18T13:55:08.839651Z",
     "shell.execute_reply": "2022-12-18T13:55:08.838520Z"
    },
    "papermill": {
     "duration": 0.039853,
     "end_time": "2022-12-18T13:55:08.842104",
     "exception": false,
     "start_time": "2022-12-18T13:55:08.802251",
     "status": "completed"
    },
    "tags": []
   },
   "outputs": [
    {
     "data": {
      "text/html": [
       "<div>\n",
       "<style scoped>\n",
       "    .dataframe tbody tr th:only-of-type {\n",
       "        vertical-align: middle;\n",
       "    }\n",
       "\n",
       "    .dataframe tbody tr th {\n",
       "        vertical-align: top;\n",
       "    }\n",
       "\n",
       "    .dataframe thead th {\n",
       "        text-align: right;\n",
       "    }\n",
       "</style>\n",
       "<table border=\"1\" class=\"dataframe\">\n",
       "  <thead>\n",
       "    <tr style=\"text-align: right;\">\n",
       "      <th></th>\n",
       "      <th>PassengerId</th>\n",
       "      <th>HomePlanet</th>\n",
       "      <th>CryoSleep</th>\n",
       "      <th>Cabin</th>\n",
       "      <th>Destination</th>\n",
       "      <th>Age</th>\n",
       "      <th>VIP</th>\n",
       "      <th>RoomService</th>\n",
       "      <th>FoodCourt</th>\n",
       "      <th>ShoppingMall</th>\n",
       "      <th>Spa</th>\n",
       "      <th>VRDeck</th>\n",
       "      <th>Name</th>\n",
       "    </tr>\n",
       "  </thead>\n",
       "  <tbody>\n",
       "    <tr>\n",
       "      <th>0</th>\n",
       "      <td>0013_01</td>\n",
       "      <td>Earth</td>\n",
       "      <td>True</td>\n",
       "      <td>G/3/S</td>\n",
       "      <td>TRAPPIST-1e</td>\n",
       "      <td>27.0</td>\n",
       "      <td>0</td>\n",
       "      <td>0.0</td>\n",
       "      <td>0.0</td>\n",
       "      <td>0.0</td>\n",
       "      <td>0.0</td>\n",
       "      <td>0.0</td>\n",
       "      <td>Nelly Carsoning</td>\n",
       "    </tr>\n",
       "    <tr>\n",
       "      <th>1</th>\n",
       "      <td>0018_01</td>\n",
       "      <td>Earth</td>\n",
       "      <td>False</td>\n",
       "      <td>F/4/S</td>\n",
       "      <td>TRAPPIST-1e</td>\n",
       "      <td>19.0</td>\n",
       "      <td>0</td>\n",
       "      <td>0.0</td>\n",
       "      <td>9.0</td>\n",
       "      <td>0.0</td>\n",
       "      <td>2823.0</td>\n",
       "      <td>0.0</td>\n",
       "      <td>Lerome Peckers</td>\n",
       "    </tr>\n",
       "    <tr>\n",
       "      <th>2</th>\n",
       "      <td>0019_01</td>\n",
       "      <td>Europa</td>\n",
       "      <td>True</td>\n",
       "      <td>C/0/S</td>\n",
       "      <td>55 Cancri e</td>\n",
       "      <td>31.0</td>\n",
       "      <td>0</td>\n",
       "      <td>0.0</td>\n",
       "      <td>0.0</td>\n",
       "      <td>0.0</td>\n",
       "      <td>0.0</td>\n",
       "      <td>0.0</td>\n",
       "      <td>Sabih Unhearfus</td>\n",
       "    </tr>\n",
       "    <tr>\n",
       "      <th>3</th>\n",
       "      <td>0021_01</td>\n",
       "      <td>Europa</td>\n",
       "      <td>False</td>\n",
       "      <td>C/1/S</td>\n",
       "      <td>TRAPPIST-1e</td>\n",
       "      <td>38.0</td>\n",
       "      <td>0</td>\n",
       "      <td>0.0</td>\n",
       "      <td>6652.0</td>\n",
       "      <td>0.0</td>\n",
       "      <td>181.0</td>\n",
       "      <td>585.0</td>\n",
       "      <td>Meratz Caltilter</td>\n",
       "    </tr>\n",
       "    <tr>\n",
       "      <th>4</th>\n",
       "      <td>0023_01</td>\n",
       "      <td>Earth</td>\n",
       "      <td>False</td>\n",
       "      <td>F/5/S</td>\n",
       "      <td>TRAPPIST-1e</td>\n",
       "      <td>20.0</td>\n",
       "      <td>0</td>\n",
       "      <td>10.0</td>\n",
       "      <td>0.0</td>\n",
       "      <td>635.0</td>\n",
       "      <td>0.0</td>\n",
       "      <td>0.0</td>\n",
       "      <td>Brence Harperez</td>\n",
       "    </tr>\n",
       "  </tbody>\n",
       "</table>\n",
       "</div>"
      ],
      "text/plain": [
       "  PassengerId HomePlanet CryoSleep  Cabin  Destination   Age VIP  RoomService  \\\n",
       "0     0013_01      Earth      True  G/3/S  TRAPPIST-1e  27.0   0          0.0   \n",
       "1     0018_01      Earth     False  F/4/S  TRAPPIST-1e  19.0   0          0.0   \n",
       "2     0019_01     Europa      True  C/0/S  55 Cancri e  31.0   0          0.0   \n",
       "3     0021_01     Europa     False  C/1/S  TRAPPIST-1e  38.0   0          0.0   \n",
       "4     0023_01      Earth     False  F/5/S  TRAPPIST-1e  20.0   0         10.0   \n",
       "\n",
       "   FoodCourt  ShoppingMall     Spa  VRDeck              Name  \n",
       "0        0.0           0.0     0.0     0.0   Nelly Carsoning  \n",
       "1        9.0           0.0  2823.0     0.0    Lerome Peckers  \n",
       "2        0.0           0.0     0.0     0.0   Sabih Unhearfus  \n",
       "3     6652.0           0.0   181.0   585.0  Meratz Caltilter  \n",
       "4        0.0         635.0     0.0     0.0   Brence Harperez  "
      ]
     },
     "execution_count": 30,
     "metadata": {},
     "output_type": "execute_result"
    }
   ],
   "source": [
    "test['VIP'] = test['VIP'] * 1\n",
    "test.head()"
   ]
  },
  {
   "cell_type": "code",
   "execution_count": 31,
   "id": "5349e5b2",
   "metadata": {
    "execution": {
     "iopub.execute_input": "2022-12-18T13:55:08.872562Z",
     "iopub.status.busy": "2022-12-18T13:55:08.872170Z",
     "iopub.status.idle": "2022-12-18T13:55:08.896092Z",
     "shell.execute_reply": "2022-12-18T13:55:08.894648Z"
    },
    "papermill": {
     "duration": 0.042235,
     "end_time": "2022-12-18T13:55:08.898869",
     "exception": false,
     "start_time": "2022-12-18T13:55:08.856634",
     "status": "completed"
    },
    "tags": []
   },
   "outputs": [
    {
     "name": "stdout",
     "output_type": "stream",
     "text": [
      "PassengerId       0\n",
      "HomePlanet       87\n",
      "CryoSleep        93\n",
      "Cabin           100\n",
      "Destination      92\n",
      "Age               0\n",
      "VIP              93\n",
      "RoomService       0\n",
      "FoodCourt         0\n",
      "ShoppingMall      0\n",
      "Spa               0\n",
      "VRDeck            0\n",
      "Name             94\n",
      "dtype: int64\n",
      "PassengerId      0\n",
      "HomePlanet       0\n",
      "CryoSleep        0\n",
      "Cabin            0\n",
      "Destination      0\n",
      "Age              0\n",
      "VIP              0\n",
      "RoomService      0\n",
      "FoodCourt        0\n",
      "ShoppingMall     0\n",
      "Spa              0\n",
      "VRDeck           0\n",
      "Name            94\n",
      "dtype: int64\n"
     ]
    }
   ],
   "source": [
    "print(test.isnull().sum())\n",
    "\n",
    "test['HomePlanet'] = test['HomePlanet'].fillna(random.choice(['Earth', 'Europa', 'Mars']))\n",
    "test['CryoSleep'] = test['CryoSleep'].fillna(random.choice([0, 1]))\n",
    "\n",
    "cabin_vals = test['Cabin'].unique()\n",
    "test['Cabin'] = test['Cabin'].fillna(random.choice(cabin_vals))\n",
    "\n",
    "dest_vals = test['Destination'].unique()\n",
    "test['Destination'] = test['Destination'].fillna(random.choice(dest_vals))\n",
    "\n",
    "test['VIP'] = test['VIP'].fillna(random.choice([0, 1]))\n",
    "\n",
    "print(test.isnull().sum())"
   ]
  },
  {
   "cell_type": "code",
   "execution_count": 32,
   "id": "b98b3994",
   "metadata": {
    "execution": {
     "iopub.execute_input": "2022-12-18T13:55:08.929143Z",
     "iopub.status.busy": "2022-12-18T13:55:08.928698Z",
     "iopub.status.idle": "2022-12-18T13:55:08.934862Z",
     "shell.execute_reply": "2022-12-18T13:55:08.933574Z"
    },
    "papermill": {
     "duration": 0.02418,
     "end_time": "2022-12-18T13:55:08.937292",
     "exception": false,
     "start_time": "2022-12-18T13:55:08.913112",
     "status": "completed"
    },
    "tags": []
   },
   "outputs": [],
   "source": [
    "#remove rows with missing values\n",
    "\n",
    "#new_test = test.dropna(axis=0)\n",
    "new_test = test"
   ]
  },
  {
   "cell_type": "code",
   "execution_count": 33,
   "id": "c5e7c646",
   "metadata": {
    "execution": {
     "iopub.execute_input": "2022-12-18T13:55:08.967383Z",
     "iopub.status.busy": "2022-12-18T13:55:08.966866Z",
     "iopub.status.idle": "2022-12-18T13:55:08.982292Z",
     "shell.execute_reply": "2022-12-18T13:55:08.981094Z"
    },
    "papermill": {
     "duration": 0.03347,
     "end_time": "2022-12-18T13:55:08.984686",
     "exception": false,
     "start_time": "2022-12-18T13:55:08.951216",
     "status": "completed"
    },
    "tags": []
   },
   "outputs": [
    {
     "data": {
      "text/html": [
       "<div>\n",
       "<style scoped>\n",
       "    .dataframe tbody tr th:only-of-type {\n",
       "        vertical-align: middle;\n",
       "    }\n",
       "\n",
       "    .dataframe tbody tr th {\n",
       "        vertical-align: top;\n",
       "    }\n",
       "\n",
       "    .dataframe thead th {\n",
       "        text-align: right;\n",
       "    }\n",
       "</style>\n",
       "<table border=\"1\" class=\"dataframe\">\n",
       "  <thead>\n",
       "    <tr style=\"text-align: right;\">\n",
       "      <th></th>\n",
       "      <th>Destination_55 Cancri e</th>\n",
       "      <th>Destination_PSO J318.5-22</th>\n",
       "      <th>Destination_TRAPPIST-1e</th>\n",
       "    </tr>\n",
       "  </thead>\n",
       "  <tbody>\n",
       "    <tr>\n",
       "      <th>0</th>\n",
       "      <td>0</td>\n",
       "      <td>0</td>\n",
       "      <td>1</td>\n",
       "    </tr>\n",
       "    <tr>\n",
       "      <th>1</th>\n",
       "      <td>0</td>\n",
       "      <td>0</td>\n",
       "      <td>1</td>\n",
       "    </tr>\n",
       "    <tr>\n",
       "      <th>2</th>\n",
       "      <td>1</td>\n",
       "      <td>0</td>\n",
       "      <td>0</td>\n",
       "    </tr>\n",
       "    <tr>\n",
       "      <th>3</th>\n",
       "      <td>0</td>\n",
       "      <td>0</td>\n",
       "      <td>1</td>\n",
       "    </tr>\n",
       "    <tr>\n",
       "      <th>4</th>\n",
       "      <td>0</td>\n",
       "      <td>0</td>\n",
       "      <td>1</td>\n",
       "    </tr>\n",
       "  </tbody>\n",
       "</table>\n",
       "</div>"
      ],
      "text/plain": [
       "   Destination_55 Cancri e  Destination_PSO J318.5-22  Destination_TRAPPIST-1e\n",
       "0                        0                          0                        1\n",
       "1                        0                          0                        1\n",
       "2                        1                          0                        0\n",
       "3                        0                          0                        1\n",
       "4                        0                          0                        1"
      ]
     },
     "execution_count": 33,
     "metadata": {},
     "output_type": "execute_result"
    }
   ],
   "source": [
    "enc1 = pd.get_dummies(new_test['HomePlanet'], prefix='HomePlanet')\n",
    "enc1.head()\n",
    "\n",
    "enc2 = pd.get_dummies(new_test['Destination'], prefix='Destination')\n",
    "enc2.head()"
   ]
  },
  {
   "cell_type": "code",
   "execution_count": 34,
   "id": "694e87f9",
   "metadata": {
    "execution": {
     "iopub.execute_input": "2022-12-18T13:55:09.016861Z",
     "iopub.status.busy": "2022-12-18T13:55:09.016408Z",
     "iopub.status.idle": "2022-12-18T13:55:09.044218Z",
     "shell.execute_reply": "2022-12-18T13:55:09.042674Z"
    },
    "papermill": {
     "duration": 0.047516,
     "end_time": "2022-12-18T13:55:09.046733",
     "exception": false,
     "start_time": "2022-12-18T13:55:08.999217",
     "status": "completed"
    },
    "tags": []
   },
   "outputs": [
    {
     "data": {
      "text/html": [
       "<div>\n",
       "<style scoped>\n",
       "    .dataframe tbody tr th:only-of-type {\n",
       "        vertical-align: middle;\n",
       "    }\n",
       "\n",
       "    .dataframe tbody tr th {\n",
       "        vertical-align: top;\n",
       "    }\n",
       "\n",
       "    .dataframe thead th {\n",
       "        text-align: right;\n",
       "    }\n",
       "</style>\n",
       "<table border=\"1\" class=\"dataframe\">\n",
       "  <thead>\n",
       "    <tr style=\"text-align: right;\">\n",
       "      <th></th>\n",
       "      <th>PassengerId</th>\n",
       "      <th>CryoSleep</th>\n",
       "      <th>Cabin</th>\n",
       "      <th>Age</th>\n",
       "      <th>VIP</th>\n",
       "      <th>RoomService</th>\n",
       "      <th>FoodCourt</th>\n",
       "      <th>ShoppingMall</th>\n",
       "      <th>Spa</th>\n",
       "      <th>VRDeck</th>\n",
       "      <th>Name</th>\n",
       "      <th>HomePlanet_Earth</th>\n",
       "      <th>HomePlanet_Europa</th>\n",
       "      <th>HomePlanet_Mars</th>\n",
       "      <th>Destination_55 Cancri e</th>\n",
       "      <th>Destination_PSO J318.5-22</th>\n",
       "      <th>Destination_TRAPPIST-1e</th>\n",
       "    </tr>\n",
       "  </thead>\n",
       "  <tbody>\n",
       "    <tr>\n",
       "      <th>0</th>\n",
       "      <td>0013_01</td>\n",
       "      <td>True</td>\n",
       "      <td>G/3/S</td>\n",
       "      <td>27.0</td>\n",
       "      <td>0</td>\n",
       "      <td>0.0</td>\n",
       "      <td>0.0</td>\n",
       "      <td>0.0</td>\n",
       "      <td>0.0</td>\n",
       "      <td>0.0</td>\n",
       "      <td>Nelly Carsoning</td>\n",
       "      <td>1</td>\n",
       "      <td>0</td>\n",
       "      <td>0</td>\n",
       "      <td>0</td>\n",
       "      <td>0</td>\n",
       "      <td>1</td>\n",
       "    </tr>\n",
       "    <tr>\n",
       "      <th>1</th>\n",
       "      <td>0018_01</td>\n",
       "      <td>False</td>\n",
       "      <td>F/4/S</td>\n",
       "      <td>19.0</td>\n",
       "      <td>0</td>\n",
       "      <td>0.0</td>\n",
       "      <td>9.0</td>\n",
       "      <td>0.0</td>\n",
       "      <td>2823.0</td>\n",
       "      <td>0.0</td>\n",
       "      <td>Lerome Peckers</td>\n",
       "      <td>1</td>\n",
       "      <td>0</td>\n",
       "      <td>0</td>\n",
       "      <td>0</td>\n",
       "      <td>0</td>\n",
       "      <td>1</td>\n",
       "    </tr>\n",
       "    <tr>\n",
       "      <th>2</th>\n",
       "      <td>0019_01</td>\n",
       "      <td>True</td>\n",
       "      <td>C/0/S</td>\n",
       "      <td>31.0</td>\n",
       "      <td>0</td>\n",
       "      <td>0.0</td>\n",
       "      <td>0.0</td>\n",
       "      <td>0.0</td>\n",
       "      <td>0.0</td>\n",
       "      <td>0.0</td>\n",
       "      <td>Sabih Unhearfus</td>\n",
       "      <td>0</td>\n",
       "      <td>1</td>\n",
       "      <td>0</td>\n",
       "      <td>1</td>\n",
       "      <td>0</td>\n",
       "      <td>0</td>\n",
       "    </tr>\n",
       "    <tr>\n",
       "      <th>3</th>\n",
       "      <td>0021_01</td>\n",
       "      <td>False</td>\n",
       "      <td>C/1/S</td>\n",
       "      <td>38.0</td>\n",
       "      <td>0</td>\n",
       "      <td>0.0</td>\n",
       "      <td>6652.0</td>\n",
       "      <td>0.0</td>\n",
       "      <td>181.0</td>\n",
       "      <td>585.0</td>\n",
       "      <td>Meratz Caltilter</td>\n",
       "      <td>0</td>\n",
       "      <td>1</td>\n",
       "      <td>0</td>\n",
       "      <td>0</td>\n",
       "      <td>0</td>\n",
       "      <td>1</td>\n",
       "    </tr>\n",
       "    <tr>\n",
       "      <th>4</th>\n",
       "      <td>0023_01</td>\n",
       "      <td>False</td>\n",
       "      <td>F/5/S</td>\n",
       "      <td>20.0</td>\n",
       "      <td>0</td>\n",
       "      <td>10.0</td>\n",
       "      <td>0.0</td>\n",
       "      <td>635.0</td>\n",
       "      <td>0.0</td>\n",
       "      <td>0.0</td>\n",
       "      <td>Brence Harperez</td>\n",
       "      <td>1</td>\n",
       "      <td>0</td>\n",
       "      <td>0</td>\n",
       "      <td>0</td>\n",
       "      <td>0</td>\n",
       "      <td>1</td>\n",
       "    </tr>\n",
       "  </tbody>\n",
       "</table>\n",
       "</div>"
      ],
      "text/plain": [
       "  PassengerId CryoSleep  Cabin   Age  VIP  RoomService  FoodCourt  \\\n",
       "0     0013_01      True  G/3/S  27.0    0          0.0        0.0   \n",
       "1     0018_01     False  F/4/S  19.0    0          0.0        9.0   \n",
       "2     0019_01      True  C/0/S  31.0    0          0.0        0.0   \n",
       "3     0021_01     False  C/1/S  38.0    0          0.0     6652.0   \n",
       "4     0023_01     False  F/5/S  20.0    0         10.0        0.0   \n",
       "\n",
       "   ShoppingMall     Spa  VRDeck              Name  HomePlanet_Earth  \\\n",
       "0           0.0     0.0     0.0   Nelly Carsoning                 1   \n",
       "1           0.0  2823.0     0.0    Lerome Peckers                 1   \n",
       "2           0.0     0.0     0.0   Sabih Unhearfus                 0   \n",
       "3           0.0   181.0   585.0  Meratz Caltilter                 0   \n",
       "4         635.0     0.0     0.0   Brence Harperez                 1   \n",
       "\n",
       "   HomePlanet_Europa  HomePlanet_Mars  Destination_55 Cancri e  \\\n",
       "0                  0                0                        0   \n",
       "1                  0                0                        0   \n",
       "2                  1                0                        1   \n",
       "3                  1                0                        0   \n",
       "4                  0                0                        0   \n",
       "\n",
       "   Destination_PSO J318.5-22  Destination_TRAPPIST-1e  \n",
       "0                          0                        1  \n",
       "1                          0                        1  \n",
       "2                          0                        0  \n",
       "3                          0                        1  \n",
       "4                          0                        1  "
      ]
     },
     "execution_count": 34,
     "metadata": {},
     "output_type": "execute_result"
    }
   ],
   "source": [
    "enc_test = pd.concat([new_test, enc1, enc2], axis=1)\n",
    "\n",
    "enc_test = enc_test.drop(['HomePlanet', 'Destination'], axis=1)\n",
    "\n",
    "enc_test.head()"
   ]
  },
  {
   "cell_type": "code",
   "execution_count": 35,
   "id": "a7213015",
   "metadata": {
    "execution": {
     "iopub.execute_input": "2022-12-18T13:55:09.078525Z",
     "iopub.status.busy": "2022-12-18T13:55:09.078029Z",
     "iopub.status.idle": "2022-12-18T13:55:09.085908Z",
     "shell.execute_reply": "2022-12-18T13:55:09.084666Z"
    },
    "papermill": {
     "duration": 0.02647,
     "end_time": "2022-12-18T13:55:09.088196",
     "exception": false,
     "start_time": "2022-12-18T13:55:09.061726",
     "status": "completed"
    },
    "tags": []
   },
   "outputs": [
    {
     "data": {
      "text/plain": [
       "(4277, 17)"
      ]
     },
     "execution_count": 35,
     "metadata": {},
     "output_type": "execute_result"
    }
   ],
   "source": [
    "enc_test.shape"
   ]
  },
  {
   "cell_type": "code",
   "execution_count": 36,
   "id": "bc768a22",
   "metadata": {
    "execution": {
     "iopub.execute_input": "2022-12-18T13:55:09.120296Z",
     "iopub.status.busy": "2022-12-18T13:55:09.118954Z",
     "iopub.status.idle": "2022-12-18T13:55:09.142365Z",
     "shell.execute_reply": "2022-12-18T13:55:09.141062Z"
    },
    "papermill": {
     "duration": 0.042131,
     "end_time": "2022-12-18T13:55:09.144917",
     "exception": false,
     "start_time": "2022-12-18T13:55:09.102786",
     "status": "completed"
    },
    "tags": []
   },
   "outputs": [
    {
     "data": {
      "text/html": [
       "<div>\n",
       "<style scoped>\n",
       "    .dataframe tbody tr th:only-of-type {\n",
       "        vertical-align: middle;\n",
       "    }\n",
       "\n",
       "    .dataframe tbody tr th {\n",
       "        vertical-align: top;\n",
       "    }\n",
       "\n",
       "    .dataframe thead th {\n",
       "        text-align: right;\n",
       "    }\n",
       "</style>\n",
       "<table border=\"1\" class=\"dataframe\">\n",
       "  <thead>\n",
       "    <tr style=\"text-align: right;\">\n",
       "      <th></th>\n",
       "      <th>PassengerId</th>\n",
       "      <th>CryoSleep</th>\n",
       "      <th>Age</th>\n",
       "      <th>VIP</th>\n",
       "      <th>RoomService</th>\n",
       "      <th>FoodCourt</th>\n",
       "      <th>ShoppingMall</th>\n",
       "      <th>Spa</th>\n",
       "      <th>VRDeck</th>\n",
       "      <th>HomePlanet_Earth</th>\n",
       "      <th>HomePlanet_Europa</th>\n",
       "      <th>HomePlanet_Mars</th>\n",
       "      <th>Destination_55 Cancri e</th>\n",
       "      <th>Destination_PSO J318.5-22</th>\n",
       "      <th>Destination_TRAPPIST-1e</th>\n",
       "    </tr>\n",
       "  </thead>\n",
       "  <tbody>\n",
       "    <tr>\n",
       "      <th>0</th>\n",
       "      <td>0013_01</td>\n",
       "      <td>True</td>\n",
       "      <td>27.0</td>\n",
       "      <td>0</td>\n",
       "      <td>0.0</td>\n",
       "      <td>0.0</td>\n",
       "      <td>0.0</td>\n",
       "      <td>0.0</td>\n",
       "      <td>0.0</td>\n",
       "      <td>1</td>\n",
       "      <td>0</td>\n",
       "      <td>0</td>\n",
       "      <td>0</td>\n",
       "      <td>0</td>\n",
       "      <td>1</td>\n",
       "    </tr>\n",
       "    <tr>\n",
       "      <th>1</th>\n",
       "      <td>0018_01</td>\n",
       "      <td>False</td>\n",
       "      <td>19.0</td>\n",
       "      <td>0</td>\n",
       "      <td>0.0</td>\n",
       "      <td>9.0</td>\n",
       "      <td>0.0</td>\n",
       "      <td>2823.0</td>\n",
       "      <td>0.0</td>\n",
       "      <td>1</td>\n",
       "      <td>0</td>\n",
       "      <td>0</td>\n",
       "      <td>0</td>\n",
       "      <td>0</td>\n",
       "      <td>1</td>\n",
       "    </tr>\n",
       "    <tr>\n",
       "      <th>2</th>\n",
       "      <td>0019_01</td>\n",
       "      <td>True</td>\n",
       "      <td>31.0</td>\n",
       "      <td>0</td>\n",
       "      <td>0.0</td>\n",
       "      <td>0.0</td>\n",
       "      <td>0.0</td>\n",
       "      <td>0.0</td>\n",
       "      <td>0.0</td>\n",
       "      <td>0</td>\n",
       "      <td>1</td>\n",
       "      <td>0</td>\n",
       "      <td>1</td>\n",
       "      <td>0</td>\n",
       "      <td>0</td>\n",
       "    </tr>\n",
       "    <tr>\n",
       "      <th>3</th>\n",
       "      <td>0021_01</td>\n",
       "      <td>False</td>\n",
       "      <td>38.0</td>\n",
       "      <td>0</td>\n",
       "      <td>0.0</td>\n",
       "      <td>6652.0</td>\n",
       "      <td>0.0</td>\n",
       "      <td>181.0</td>\n",
       "      <td>585.0</td>\n",
       "      <td>0</td>\n",
       "      <td>1</td>\n",
       "      <td>0</td>\n",
       "      <td>0</td>\n",
       "      <td>0</td>\n",
       "      <td>1</td>\n",
       "    </tr>\n",
       "    <tr>\n",
       "      <th>4</th>\n",
       "      <td>0023_01</td>\n",
       "      <td>False</td>\n",
       "      <td>20.0</td>\n",
       "      <td>0</td>\n",
       "      <td>10.0</td>\n",
       "      <td>0.0</td>\n",
       "      <td>635.0</td>\n",
       "      <td>0.0</td>\n",
       "      <td>0.0</td>\n",
       "      <td>1</td>\n",
       "      <td>0</td>\n",
       "      <td>0</td>\n",
       "      <td>0</td>\n",
       "      <td>0</td>\n",
       "      <td>1</td>\n",
       "    </tr>\n",
       "  </tbody>\n",
       "</table>\n",
       "</div>"
      ],
      "text/plain": [
       "  PassengerId CryoSleep   Age  VIP  RoomService  FoodCourt  ShoppingMall  \\\n",
       "0     0013_01      True  27.0    0          0.0        0.0           0.0   \n",
       "1     0018_01     False  19.0    0          0.0        9.0           0.0   \n",
       "2     0019_01      True  31.0    0          0.0        0.0           0.0   \n",
       "3     0021_01     False  38.0    0          0.0     6652.0           0.0   \n",
       "4     0023_01     False  20.0    0         10.0        0.0         635.0   \n",
       "\n",
       "      Spa  VRDeck  HomePlanet_Earth  HomePlanet_Europa  HomePlanet_Mars  \\\n",
       "0     0.0     0.0                 1                  0                0   \n",
       "1  2823.0     0.0                 1                  0                0   \n",
       "2     0.0     0.0                 0                  1                0   \n",
       "3   181.0   585.0                 0                  1                0   \n",
       "4     0.0     0.0                 1                  0                0   \n",
       "\n",
       "   Destination_55 Cancri e  Destination_PSO J318.5-22  Destination_TRAPPIST-1e  \n",
       "0                        0                          0                        1  \n",
       "1                        0                          0                        1  \n",
       "2                        1                          0                        0  \n",
       "3                        0                          0                        1  \n",
       "4                        0                          0                        1  "
      ]
     },
     "execution_count": 36,
     "metadata": {},
     "output_type": "execute_result"
    }
   ],
   "source": [
    "enc_test = enc_test.drop(['Cabin', 'Name'], axis=1)\n",
    "enc_test.head()"
   ]
  },
  {
   "cell_type": "code",
   "execution_count": 37,
   "id": "a12d814f",
   "metadata": {
    "execution": {
     "iopub.execute_input": "2022-12-18T13:55:09.176954Z",
     "iopub.status.busy": "2022-12-18T13:55:09.176202Z",
     "iopub.status.idle": "2022-12-18T13:55:10.321049Z",
     "shell.execute_reply": "2022-12-18T13:55:10.319737Z"
    },
    "papermill": {
     "duration": 1.164706,
     "end_time": "2022-12-18T13:55:10.324423",
     "exception": false,
     "start_time": "2022-12-18T13:55:09.159717",
     "status": "completed"
    },
    "tags": []
   },
   "outputs": [],
   "source": [
    "model_predictions = vc_model.predict(enc_test.iloc[:, 1:])"
   ]
  },
  {
   "cell_type": "code",
   "execution_count": 38,
   "id": "a68825e1",
   "metadata": {
    "execution": {
     "iopub.execute_input": "2022-12-18T13:55:10.358530Z",
     "iopub.status.busy": "2022-12-18T13:55:10.356045Z",
     "iopub.status.idle": "2022-12-18T13:55:10.364217Z",
     "shell.execute_reply": "2022-12-18T13:55:10.362838Z"
    },
    "papermill": {
     "duration": 0.027697,
     "end_time": "2022-12-18T13:55:10.367313",
     "exception": false,
     "start_time": "2022-12-18T13:55:10.339616",
     "status": "completed"
    },
    "tags": []
   },
   "outputs": [
    {
     "name": "stdout",
     "output_type": "stream",
     "text": [
      "[ True False  True ...  True  True False]\n"
     ]
    }
   ],
   "source": [
    "model_predictions = model_predictions.astype(bool)\n",
    "print(model_predictions)"
   ]
  },
  {
   "cell_type": "code",
   "execution_count": 39,
   "id": "a302c304",
   "metadata": {
    "execution": {
     "iopub.execute_input": "2022-12-18T13:55:10.400639Z",
     "iopub.status.busy": "2022-12-18T13:55:10.399759Z",
     "iopub.status.idle": "2022-12-18T13:55:10.412108Z",
     "shell.execute_reply": "2022-12-18T13:55:10.410844Z"
    },
    "papermill": {
     "duration": 0.032112,
     "end_time": "2022-12-18T13:55:10.414619",
     "exception": false,
     "start_time": "2022-12-18T13:55:10.382507",
     "status": "completed"
    },
    "tags": []
   },
   "outputs": [
    {
     "data": {
      "text/html": [
       "<div>\n",
       "<style scoped>\n",
       "    .dataframe tbody tr th:only-of-type {\n",
       "        vertical-align: middle;\n",
       "    }\n",
       "\n",
       "    .dataframe tbody tr th {\n",
       "        vertical-align: top;\n",
       "    }\n",
       "\n",
       "    .dataframe thead th {\n",
       "        text-align: right;\n",
       "    }\n",
       "</style>\n",
       "<table border=\"1\" class=\"dataframe\">\n",
       "  <thead>\n",
       "    <tr style=\"text-align: right;\">\n",
       "      <th></th>\n",
       "      <th>PassengerId</th>\n",
       "      <th>Transported</th>\n",
       "    </tr>\n",
       "  </thead>\n",
       "  <tbody>\n",
       "    <tr>\n",
       "      <th>0</th>\n",
       "      <td>0013_01</td>\n",
       "      <td>True</td>\n",
       "    </tr>\n",
       "    <tr>\n",
       "      <th>1</th>\n",
       "      <td>0018_01</td>\n",
       "      <td>False</td>\n",
       "    </tr>\n",
       "    <tr>\n",
       "      <th>2</th>\n",
       "      <td>0019_01</td>\n",
       "      <td>True</td>\n",
       "    </tr>\n",
       "    <tr>\n",
       "      <th>3</th>\n",
       "      <td>0021_01</td>\n",
       "      <td>True</td>\n",
       "    </tr>\n",
       "    <tr>\n",
       "      <th>4</th>\n",
       "      <td>0023_01</td>\n",
       "      <td>False</td>\n",
       "    </tr>\n",
       "  </tbody>\n",
       "</table>\n",
       "</div>"
      ],
      "text/plain": [
       "  PassengerId  Transported\n",
       "0     0013_01         True\n",
       "1     0018_01        False\n",
       "2     0019_01         True\n",
       "3     0021_01         True\n",
       "4     0023_01        False"
      ]
     },
     "execution_count": 39,
     "metadata": {},
     "output_type": "execute_result"
    }
   ],
   "source": [
    "# print(enc_test.iloc[:, 0])\n",
    "# print(model_predictions)\n",
    "#sub1 = pd.DataFrame(enc_test.iloc[:, 0], columns=['PassengerId'])\n",
    "#sub2 = pd.DataFrame(model_predictions, columns=['Transported'])\n",
    "#submissions = pd.concat([sub1, sub2], axis=1)\n",
    "submissions = pd.DataFrame({'PassengerId': test.iloc[:, 0], 'Transported': model_predictions})\n",
    "submissions.head()\n",
    "\n",
    "# submissions.shape"
   ]
  },
  {
   "cell_type": "code",
   "execution_count": 40,
   "id": "be5ec14f",
   "metadata": {
    "execution": {
     "iopub.execute_input": "2022-12-18T13:55:10.449667Z",
     "iopub.status.busy": "2022-12-18T13:55:10.448363Z",
     "iopub.status.idle": "2022-12-18T13:55:10.462352Z",
     "shell.execute_reply": "2022-12-18T13:55:10.461142Z"
    },
    "papermill": {
     "duration": 0.034999,
     "end_time": "2022-12-18T13:55:10.465170",
     "exception": false,
     "start_time": "2022-12-18T13:55:10.430171",
     "status": "completed"
    },
    "tags": []
   },
   "outputs": [],
   "source": [
    "submissions.to_csv('submission.csv', index=False)"
   ]
  },
  {
   "cell_type": "code",
   "execution_count": null,
   "id": "e6708b82",
   "metadata": {
    "papermill": {
     "duration": 0.014655,
     "end_time": "2022-12-18T13:55:10.495119",
     "exception": false,
     "start_time": "2022-12-18T13:55:10.480464",
     "status": "completed"
    },
    "tags": []
   },
   "outputs": [],
   "source": []
  },
  {
   "cell_type": "code",
   "execution_count": null,
   "id": "32998b50",
   "metadata": {
    "papermill": {
     "duration": 0.014864,
     "end_time": "2022-12-18T13:55:10.524878",
     "exception": false,
     "start_time": "2022-12-18T13:55:10.510014",
     "status": "completed"
    },
    "tags": []
   },
   "outputs": [],
   "source": []
  }
 ],
 "metadata": {
  "kernelspec": {
   "display_name": "Python 3",
   "language": "python",
   "name": "python3"
  },
  "language_info": {
   "codemirror_mode": {
    "name": "ipython",
    "version": 3
   },
   "file_extension": ".py",
   "mimetype": "text/x-python",
   "name": "python",
   "nbconvert_exporter": "python",
   "pygments_lexer": "ipython3",
   "version": "3.7.12"
  },
  "papermill": {
   "default_parameters": {},
   "duration": 19.657099,
   "end_time": "2022-12-18T13:55:11.564867",
   "environment_variables": {},
   "exception": null,
   "input_path": "__notebook__.ipynb",
   "output_path": "__notebook__.ipynb",
   "parameters": {},
   "start_time": "2022-12-18T13:54:51.907768",
   "version": "2.3.4"
  }
 },
 "nbformat": 4,
 "nbformat_minor": 5
}
