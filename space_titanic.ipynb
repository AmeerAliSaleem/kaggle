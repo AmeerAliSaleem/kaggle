{
 "cells": [
  {
   "cell_type": "code",
   "execution_count": 1,
   "id": "67957cea",
   "metadata": {
    "_cell_guid": "b1076dfc-b9ad-4769-8c92-a6c4dae69d19",
    "_uuid": "8f2839f25d086af736a60e9eeb907d3b93b6e0e5",
    "execution": {
     "iopub.execute_input": "2022-12-18T12:56:03.146927Z",
     "iopub.status.busy": "2022-12-18T12:56:03.146222Z",
     "iopub.status.idle": "2022-12-18T12:56:04.211914Z",
     "shell.execute_reply": "2022-12-18T12:56:04.210704Z"
    },
    "papermill": {
     "duration": 1.082599,
     "end_time": "2022-12-18T12:56:04.215504",
     "exception": false,
     "start_time": "2022-12-18T12:56:03.132905",
     "status": "completed"
    },
    "tags": []
   },
   "outputs": [
    {
     "name": "stdout",
     "output_type": "stream",
     "text": [
      "/kaggle/input/spaceship-titanic/sample_submission.csv\n",
      "/kaggle/input/spaceship-titanic/train.csv\n",
      "/kaggle/input/spaceship-titanic/test.csv\n"
     ]
    }
   ],
   "source": [
    "# This Python 3 environment comes with many helpful analytics libraries installed\n",
    "# It is defined by the kaggle/python Docker image: https://github.com/kaggle/docker-python\n",
    "# For example, here's several helpful packages to load\n",
    "\n",
    "import numpy as np # linear algebra\n",
    "import pandas as pd # data processing, CSV file I/O (e.g. pd.read_csv)\n",
    "import seaborn as sns\n",
    "import random\n",
    "\n",
    "# Input data files are available in the read-only \"../input/\" directory\n",
    "# For example, running this (by clicking run or pressing Shift+Enter) will list all files under the input directory\n",
    "\n",
    "import os\n",
    "for dirname, _, filenames in os.walk('/kaggle/input'):\n",
    "    for filename in filenames:\n",
    "        print(os.path.join(dirname, filename))\n",
    "\n",
    "# You can write up to 20GB to the current directory (/kaggle/working/) that gets preserved as output when you create a version using \"Save & Run All\" \n",
    "# You can also write temporary files to /kaggle/temp/, but they won't be saved outside of the current session"
   ]
  },
  {
   "cell_type": "code",
   "execution_count": 2,
   "id": "d83843fd",
   "metadata": {
    "execution": {
     "iopub.execute_input": "2022-12-18T12:56:04.237794Z",
     "iopub.status.busy": "2022-12-18T12:56:04.237350Z",
     "iopub.status.idle": "2022-12-18T12:56:04.327146Z",
     "shell.execute_reply": "2022-12-18T12:56:04.326036Z"
    },
    "papermill": {
     "duration": 0.103901,
     "end_time": "2022-12-18T12:56:04.329955",
     "exception": false,
     "start_time": "2022-12-18T12:56:04.226054",
     "status": "completed"
    },
    "tags": []
   },
   "outputs": [
    {
     "data": {
      "text/html": [
       "<div>\n",
       "<style scoped>\n",
       "    .dataframe tbody tr th:only-of-type {\n",
       "        vertical-align: middle;\n",
       "    }\n",
       "\n",
       "    .dataframe tbody tr th {\n",
       "        vertical-align: top;\n",
       "    }\n",
       "\n",
       "    .dataframe thead th {\n",
       "        text-align: right;\n",
       "    }\n",
       "</style>\n",
       "<table border=\"1\" class=\"dataframe\">\n",
       "  <thead>\n",
       "    <tr style=\"text-align: right;\">\n",
       "      <th></th>\n",
       "      <th>PassengerId</th>\n",
       "      <th>HomePlanet</th>\n",
       "      <th>CryoSleep</th>\n",
       "      <th>Cabin</th>\n",
       "      <th>Destination</th>\n",
       "      <th>Age</th>\n",
       "      <th>VIP</th>\n",
       "      <th>RoomService</th>\n",
       "      <th>FoodCourt</th>\n",
       "      <th>ShoppingMall</th>\n",
       "      <th>Spa</th>\n",
       "      <th>VRDeck</th>\n",
       "      <th>Name</th>\n",
       "      <th>Transported</th>\n",
       "    </tr>\n",
       "  </thead>\n",
       "  <tbody>\n",
       "    <tr>\n",
       "      <th>0</th>\n",
       "      <td>0001_01</td>\n",
       "      <td>Europa</td>\n",
       "      <td>False</td>\n",
       "      <td>B/0/P</td>\n",
       "      <td>TRAPPIST-1e</td>\n",
       "      <td>39.0</td>\n",
       "      <td>False</td>\n",
       "      <td>0.0</td>\n",
       "      <td>0.0</td>\n",
       "      <td>0.0</td>\n",
       "      <td>0.0</td>\n",
       "      <td>0.0</td>\n",
       "      <td>Maham Ofracculy</td>\n",
       "      <td>False</td>\n",
       "    </tr>\n",
       "    <tr>\n",
       "      <th>1</th>\n",
       "      <td>0002_01</td>\n",
       "      <td>Earth</td>\n",
       "      <td>False</td>\n",
       "      <td>F/0/S</td>\n",
       "      <td>TRAPPIST-1e</td>\n",
       "      <td>24.0</td>\n",
       "      <td>False</td>\n",
       "      <td>109.0</td>\n",
       "      <td>9.0</td>\n",
       "      <td>25.0</td>\n",
       "      <td>549.0</td>\n",
       "      <td>44.0</td>\n",
       "      <td>Juanna Vines</td>\n",
       "      <td>True</td>\n",
       "    </tr>\n",
       "    <tr>\n",
       "      <th>2</th>\n",
       "      <td>0003_01</td>\n",
       "      <td>Europa</td>\n",
       "      <td>False</td>\n",
       "      <td>A/0/S</td>\n",
       "      <td>TRAPPIST-1e</td>\n",
       "      <td>58.0</td>\n",
       "      <td>True</td>\n",
       "      <td>43.0</td>\n",
       "      <td>3576.0</td>\n",
       "      <td>0.0</td>\n",
       "      <td>6715.0</td>\n",
       "      <td>49.0</td>\n",
       "      <td>Altark Susent</td>\n",
       "      <td>False</td>\n",
       "    </tr>\n",
       "    <tr>\n",
       "      <th>3</th>\n",
       "      <td>0003_02</td>\n",
       "      <td>Europa</td>\n",
       "      <td>False</td>\n",
       "      <td>A/0/S</td>\n",
       "      <td>TRAPPIST-1e</td>\n",
       "      <td>33.0</td>\n",
       "      <td>False</td>\n",
       "      <td>0.0</td>\n",
       "      <td>1283.0</td>\n",
       "      <td>371.0</td>\n",
       "      <td>3329.0</td>\n",
       "      <td>193.0</td>\n",
       "      <td>Solam Susent</td>\n",
       "      <td>False</td>\n",
       "    </tr>\n",
       "    <tr>\n",
       "      <th>4</th>\n",
       "      <td>0004_01</td>\n",
       "      <td>Earth</td>\n",
       "      <td>False</td>\n",
       "      <td>F/1/S</td>\n",
       "      <td>TRAPPIST-1e</td>\n",
       "      <td>16.0</td>\n",
       "      <td>False</td>\n",
       "      <td>303.0</td>\n",
       "      <td>70.0</td>\n",
       "      <td>151.0</td>\n",
       "      <td>565.0</td>\n",
       "      <td>2.0</td>\n",
       "      <td>Willy Santantines</td>\n",
       "      <td>True</td>\n",
       "    </tr>\n",
       "  </tbody>\n",
       "</table>\n",
       "</div>"
      ],
      "text/plain": [
       "  PassengerId HomePlanet CryoSleep  Cabin  Destination   Age    VIP  \\\n",
       "0     0001_01     Europa     False  B/0/P  TRAPPIST-1e  39.0  False   \n",
       "1     0002_01      Earth     False  F/0/S  TRAPPIST-1e  24.0  False   \n",
       "2     0003_01     Europa     False  A/0/S  TRAPPIST-1e  58.0   True   \n",
       "3     0003_02     Europa     False  A/0/S  TRAPPIST-1e  33.0  False   \n",
       "4     0004_01      Earth     False  F/1/S  TRAPPIST-1e  16.0  False   \n",
       "\n",
       "   RoomService  FoodCourt  ShoppingMall     Spa  VRDeck               Name  \\\n",
       "0          0.0        0.0           0.0     0.0     0.0    Maham Ofracculy   \n",
       "1        109.0        9.0          25.0   549.0    44.0       Juanna Vines   \n",
       "2         43.0     3576.0           0.0  6715.0    49.0      Altark Susent   \n",
       "3          0.0     1283.0         371.0  3329.0   193.0       Solam Susent   \n",
       "4        303.0       70.0         151.0   565.0     2.0  Willy Santantines   \n",
       "\n",
       "   Transported  \n",
       "0        False  \n",
       "1         True  \n",
       "2        False  \n",
       "3        False  \n",
       "4         True  "
      ]
     },
     "execution_count": 2,
     "metadata": {},
     "output_type": "execute_result"
    }
   ],
   "source": [
    "df = pd.read_csv('/kaggle/input/spaceship-titanic/train.csv')\n",
    "df.head()"
   ]
  },
  {
   "cell_type": "code",
   "execution_count": 3,
   "id": "3e273635",
   "metadata": {
    "execution": {
     "iopub.execute_input": "2022-12-18T12:56:04.352726Z",
     "iopub.status.busy": "2022-12-18T12:56:04.351898Z",
     "iopub.status.idle": "2022-12-18T12:56:04.381799Z",
     "shell.execute_reply": "2022-12-18T12:56:04.380477Z"
    },
    "papermill": {
     "duration": 0.0442,
     "end_time": "2022-12-18T12:56:04.384512",
     "exception": false,
     "start_time": "2022-12-18T12:56:04.340312",
     "status": "completed"
    },
    "tags": []
   },
   "outputs": [
    {
     "name": "stdout",
     "output_type": "stream",
     "text": [
      "<class 'pandas.core.frame.DataFrame'>\n",
      "RangeIndex: 8693 entries, 0 to 8692\n",
      "Data columns (total 14 columns):\n",
      " #   Column        Non-Null Count  Dtype  \n",
      "---  ------        --------------  -----  \n",
      " 0   PassengerId   8693 non-null   object \n",
      " 1   HomePlanet    8492 non-null   object \n",
      " 2   CryoSleep     8476 non-null   object \n",
      " 3   Cabin         8494 non-null   object \n",
      " 4   Destination   8511 non-null   object \n",
      " 5   Age           8514 non-null   float64\n",
      " 6   VIP           8490 non-null   object \n",
      " 7   RoomService   8512 non-null   float64\n",
      " 8   FoodCourt     8510 non-null   float64\n",
      " 9   ShoppingMall  8485 non-null   float64\n",
      " 10  Spa           8510 non-null   float64\n",
      " 11  VRDeck        8505 non-null   float64\n",
      " 12  Name          8493 non-null   object \n",
      " 13  Transported   8693 non-null   bool   \n",
      "dtypes: bool(1), float64(6), object(7)\n",
      "memory usage: 891.5+ KB\n"
     ]
    }
   ],
   "source": [
    "df.info()"
   ]
  },
  {
   "cell_type": "code",
   "execution_count": 4,
   "id": "b03a6f0a",
   "metadata": {
    "execution": {
     "iopub.execute_input": "2022-12-18T12:56:04.409700Z",
     "iopub.status.busy": "2022-12-18T12:56:04.408932Z",
     "iopub.status.idle": "2022-12-18T12:56:04.416214Z",
     "shell.execute_reply": "2022-12-18T12:56:04.415040Z"
    },
    "papermill": {
     "duration": 0.021997,
     "end_time": "2022-12-18T12:56:04.418484",
     "exception": false,
     "start_time": "2022-12-18T12:56:04.396487",
     "status": "completed"
    },
    "tags": []
   },
   "outputs": [
    {
     "data": {
      "text/plain": [
       "(8693, 14)"
      ]
     },
     "execution_count": 4,
     "metadata": {},
     "output_type": "execute_result"
    }
   ],
   "source": [
    "df.shape"
   ]
  },
  {
   "cell_type": "code",
   "execution_count": 5,
   "id": "7c2b097b",
   "metadata": {
    "execution": {
     "iopub.execute_input": "2022-12-18T12:56:04.441723Z",
     "iopub.status.busy": "2022-12-18T12:56:04.441299Z",
     "iopub.status.idle": "2022-12-18T12:56:04.454521Z",
     "shell.execute_reply": "2022-12-18T12:56:04.453377Z"
    },
    "papermill": {
     "duration": 0.028152,
     "end_time": "2022-12-18T12:56:04.457136",
     "exception": false,
     "start_time": "2022-12-18T12:56:04.428984",
     "status": "completed"
    },
    "tags": []
   },
   "outputs": [
    {
     "data": {
      "text/plain": [
       "PassengerId       0\n",
       "HomePlanet      201\n",
       "CryoSleep       217\n",
       "Cabin           199\n",
       "Destination     182\n",
       "Age             179\n",
       "VIP             203\n",
       "RoomService     181\n",
       "FoodCourt       183\n",
       "ShoppingMall    208\n",
       "Spa             183\n",
       "VRDeck          188\n",
       "Name            200\n",
       "Transported       0\n",
       "dtype: int64"
      ]
     },
     "execution_count": 5,
     "metadata": {},
     "output_type": "execute_result"
    }
   ],
   "source": [
    "df.isnull().sum()"
   ]
  },
  {
   "cell_type": "code",
   "execution_count": 6,
   "id": "0b87e5b2",
   "metadata": {
    "execution": {
     "iopub.execute_input": "2022-12-18T12:56:04.480043Z",
     "iopub.status.busy": "2022-12-18T12:56:04.479632Z",
     "iopub.status.idle": "2022-12-18T12:56:04.497341Z",
     "shell.execute_reply": "2022-12-18T12:56:04.495848Z"
    },
    "papermill": {
     "duration": 0.031918,
     "end_time": "2022-12-18T12:56:04.499825",
     "exception": false,
     "start_time": "2022-12-18T12:56:04.467907",
     "status": "completed"
    },
    "tags": []
   },
   "outputs": [
    {
     "name": "stdout",
     "output_type": "stream",
     "text": [
      "       Age  RoomService  FoodCourt  ShoppingMall     Spa  VRDeck\n",
      "0     39.0          0.0        0.0           0.0     0.0     0.0\n",
      "1     24.0        109.0        9.0          25.0   549.0    44.0\n",
      "2     58.0         43.0     3576.0           0.0  6715.0    49.0\n",
      "3     33.0          0.0     1283.0         371.0  3329.0   193.0\n",
      "4     16.0        303.0       70.0         151.0   565.0     2.0\n",
      "...    ...          ...        ...           ...     ...     ...\n",
      "8688  41.0          0.0     6819.0           0.0  1643.0    74.0\n",
      "8689  18.0          0.0        0.0           0.0     0.0     0.0\n",
      "8690  26.0          0.0        0.0        1872.0     1.0     0.0\n",
      "8691  32.0          0.0     1049.0           0.0   353.0  3235.0\n",
      "8692  44.0        126.0     4688.0           0.0     0.0    12.0\n",
      "\n",
      "[8693 rows x 6 columns]\n"
     ]
    }
   ],
   "source": [
    "# slice columns of numerical data\n",
    "numeric_cols = df.select_dtypes(include=np.number)\n",
    "print(numeric_cols)"
   ]
  },
  {
   "cell_type": "code",
   "execution_count": 7,
   "id": "04e9cad9",
   "metadata": {
    "execution": {
     "iopub.execute_input": "2022-12-18T12:56:04.523481Z",
     "iopub.status.busy": "2022-12-18T12:56:04.523038Z",
     "iopub.status.idle": "2022-12-18T12:56:04.839947Z",
     "shell.execute_reply": "2022-12-18T12:56:04.838470Z"
    },
    "papermill": {
     "duration": 0.332052,
     "end_time": "2022-12-18T12:56:04.843031",
     "exception": false,
     "start_time": "2022-12-18T12:56:04.510979",
     "status": "completed"
    },
    "tags": []
   },
   "outputs": [],
   "source": [
    "# impute missing numeric values\n",
    "from sklearn.impute import SimpleImputer\n",
    "\n",
    "imp = SimpleImputer()\n",
    "df[numeric_cols.columns] = imp.fit_transform(df[numeric_cols.columns])"
   ]
  },
  {
   "cell_type": "code",
   "execution_count": 8,
   "id": "bca8efe1",
   "metadata": {
    "execution": {
     "iopub.execute_input": "2022-12-18T12:56:04.865675Z",
     "iopub.status.busy": "2022-12-18T12:56:04.865262Z",
     "iopub.status.idle": "2022-12-18T12:56:04.878297Z",
     "shell.execute_reply": "2022-12-18T12:56:04.877390Z"
    },
    "papermill": {
     "duration": 0.027086,
     "end_time": "2022-12-18T12:56:04.880588",
     "exception": false,
     "start_time": "2022-12-18T12:56:04.853502",
     "status": "completed"
    },
    "tags": []
   },
   "outputs": [
    {
     "data": {
      "text/plain": [
       "PassengerId       0\n",
       "HomePlanet      201\n",
       "CryoSleep       217\n",
       "Cabin           199\n",
       "Destination     182\n",
       "Age               0\n",
       "VIP             203\n",
       "RoomService       0\n",
       "FoodCourt         0\n",
       "ShoppingMall      0\n",
       "Spa               0\n",
       "VRDeck            0\n",
       "Name            200\n",
       "Transported       0\n",
       "dtype: int64"
      ]
     },
     "execution_count": 8,
     "metadata": {},
     "output_type": "execute_result"
    }
   ],
   "source": [
    "df.isnull().sum()"
   ]
  },
  {
   "cell_type": "code",
   "execution_count": 9,
   "id": "e02951ba",
   "metadata": {
    "execution": {
     "iopub.execute_input": "2022-12-18T12:56:04.903952Z",
     "iopub.status.busy": "2022-12-18T12:56:04.903199Z",
     "iopub.status.idle": "2022-12-18T12:56:04.925585Z",
     "shell.execute_reply": "2022-12-18T12:56:04.924495Z"
    },
    "papermill": {
     "duration": 0.03674,
     "end_time": "2022-12-18T12:56:04.927949",
     "exception": false,
     "start_time": "2022-12-18T12:56:04.891209",
     "status": "completed"
    },
    "tags": []
   },
   "outputs": [
    {
     "data": {
      "text/plain": [
       "PassengerId     8693\n",
       "HomePlanet         3\n",
       "CryoSleep          2\n",
       "Cabin           6560\n",
       "Destination        3\n",
       "Age               81\n",
       "VIP                2\n",
       "RoomService     1274\n",
       "FoodCourt       1508\n",
       "ShoppingMall    1116\n",
       "Spa             1328\n",
       "VRDeck          1307\n",
       "Name            8473\n",
       "Transported        2\n",
       "dtype: int64"
      ]
     },
     "execution_count": 9,
     "metadata": {},
     "output_type": "execute_result"
    }
   ],
   "source": [
    "df.nunique()"
   ]
  },
  {
   "cell_type": "code",
   "execution_count": 10,
   "id": "c2179345",
   "metadata": {
    "execution": {
     "iopub.execute_input": "2022-12-18T12:56:04.951066Z",
     "iopub.status.busy": "2022-12-18T12:56:04.950634Z",
     "iopub.status.idle": "2022-12-18T12:56:04.960045Z",
     "shell.execute_reply": "2022-12-18T12:56:04.958904Z"
    },
    "papermill": {
     "duration": 0.024096,
     "end_time": "2022-12-18T12:56:04.962675",
     "exception": false,
     "start_time": "2022-12-18T12:56:04.938579",
     "status": "completed"
    },
    "tags": []
   },
   "outputs": [],
   "source": [
    "#convert Boolean columns to 0 and 1 values\n",
    "boolean_cols = df.select_dtypes(include='bool')\n",
    "df[boolean_cols.columns] = df[boolean_cols.columns] * 1"
   ]
  },
  {
   "cell_type": "code",
   "execution_count": 11,
   "id": "ae8a21f5",
   "metadata": {
    "execution": {
     "iopub.execute_input": "2022-12-18T12:56:04.986647Z",
     "iopub.status.busy": "2022-12-18T12:56:04.985702Z",
     "iopub.status.idle": "2022-12-18T12:56:05.007439Z",
     "shell.execute_reply": "2022-12-18T12:56:05.006067Z"
    },
    "papermill": {
     "duration": 0.036752,
     "end_time": "2022-12-18T12:56:05.010176",
     "exception": false,
     "start_time": "2022-12-18T12:56:04.973424",
     "status": "completed"
    },
    "tags": []
   },
   "outputs": [
    {
     "data": {
      "text/html": [
       "<div>\n",
       "<style scoped>\n",
       "    .dataframe tbody tr th:only-of-type {\n",
       "        vertical-align: middle;\n",
       "    }\n",
       "\n",
       "    .dataframe tbody tr th {\n",
       "        vertical-align: top;\n",
       "    }\n",
       "\n",
       "    .dataframe thead th {\n",
       "        text-align: right;\n",
       "    }\n",
       "</style>\n",
       "<table border=\"1\" class=\"dataframe\">\n",
       "  <thead>\n",
       "    <tr style=\"text-align: right;\">\n",
       "      <th></th>\n",
       "      <th>PassengerId</th>\n",
       "      <th>HomePlanet</th>\n",
       "      <th>CryoSleep</th>\n",
       "      <th>Cabin</th>\n",
       "      <th>Destination</th>\n",
       "      <th>Age</th>\n",
       "      <th>VIP</th>\n",
       "      <th>RoomService</th>\n",
       "      <th>FoodCourt</th>\n",
       "      <th>ShoppingMall</th>\n",
       "      <th>Spa</th>\n",
       "      <th>VRDeck</th>\n",
       "      <th>Name</th>\n",
       "      <th>Transported</th>\n",
       "    </tr>\n",
       "  </thead>\n",
       "  <tbody>\n",
       "    <tr>\n",
       "      <th>0</th>\n",
       "      <td>0001_01</td>\n",
       "      <td>Europa</td>\n",
       "      <td>False</td>\n",
       "      <td>B/0/P</td>\n",
       "      <td>TRAPPIST-1e</td>\n",
       "      <td>39.0</td>\n",
       "      <td>0</td>\n",
       "      <td>0.0</td>\n",
       "      <td>0.0</td>\n",
       "      <td>0.0</td>\n",
       "      <td>0.0</td>\n",
       "      <td>0.0</td>\n",
       "      <td>Maham Ofracculy</td>\n",
       "      <td>0</td>\n",
       "    </tr>\n",
       "    <tr>\n",
       "      <th>1</th>\n",
       "      <td>0002_01</td>\n",
       "      <td>Earth</td>\n",
       "      <td>False</td>\n",
       "      <td>F/0/S</td>\n",
       "      <td>TRAPPIST-1e</td>\n",
       "      <td>24.0</td>\n",
       "      <td>0</td>\n",
       "      <td>109.0</td>\n",
       "      <td>9.0</td>\n",
       "      <td>25.0</td>\n",
       "      <td>549.0</td>\n",
       "      <td>44.0</td>\n",
       "      <td>Juanna Vines</td>\n",
       "      <td>1</td>\n",
       "    </tr>\n",
       "    <tr>\n",
       "      <th>2</th>\n",
       "      <td>0003_01</td>\n",
       "      <td>Europa</td>\n",
       "      <td>False</td>\n",
       "      <td>A/0/S</td>\n",
       "      <td>TRAPPIST-1e</td>\n",
       "      <td>58.0</td>\n",
       "      <td>1</td>\n",
       "      <td>43.0</td>\n",
       "      <td>3576.0</td>\n",
       "      <td>0.0</td>\n",
       "      <td>6715.0</td>\n",
       "      <td>49.0</td>\n",
       "      <td>Altark Susent</td>\n",
       "      <td>0</td>\n",
       "    </tr>\n",
       "    <tr>\n",
       "      <th>3</th>\n",
       "      <td>0003_02</td>\n",
       "      <td>Europa</td>\n",
       "      <td>False</td>\n",
       "      <td>A/0/S</td>\n",
       "      <td>TRAPPIST-1e</td>\n",
       "      <td>33.0</td>\n",
       "      <td>0</td>\n",
       "      <td>0.0</td>\n",
       "      <td>1283.0</td>\n",
       "      <td>371.0</td>\n",
       "      <td>3329.0</td>\n",
       "      <td>193.0</td>\n",
       "      <td>Solam Susent</td>\n",
       "      <td>0</td>\n",
       "    </tr>\n",
       "    <tr>\n",
       "      <th>4</th>\n",
       "      <td>0004_01</td>\n",
       "      <td>Earth</td>\n",
       "      <td>False</td>\n",
       "      <td>F/1/S</td>\n",
       "      <td>TRAPPIST-1e</td>\n",
       "      <td>16.0</td>\n",
       "      <td>0</td>\n",
       "      <td>303.0</td>\n",
       "      <td>70.0</td>\n",
       "      <td>151.0</td>\n",
       "      <td>565.0</td>\n",
       "      <td>2.0</td>\n",
       "      <td>Willy Santantines</td>\n",
       "      <td>1</td>\n",
       "    </tr>\n",
       "  </tbody>\n",
       "</table>\n",
       "</div>"
      ],
      "text/plain": [
       "  PassengerId HomePlanet CryoSleep  Cabin  Destination   Age VIP  RoomService  \\\n",
       "0     0001_01     Europa     False  B/0/P  TRAPPIST-1e  39.0   0          0.0   \n",
       "1     0002_01      Earth     False  F/0/S  TRAPPIST-1e  24.0   0        109.0   \n",
       "2     0003_01     Europa     False  A/0/S  TRAPPIST-1e  58.0   1         43.0   \n",
       "3     0003_02     Europa     False  A/0/S  TRAPPIST-1e  33.0   0          0.0   \n",
       "4     0004_01      Earth     False  F/1/S  TRAPPIST-1e  16.0   0        303.0   \n",
       "\n",
       "   FoodCourt  ShoppingMall     Spa  VRDeck               Name  Transported  \n",
       "0        0.0           0.0     0.0     0.0    Maham Ofracculy            0  \n",
       "1        9.0          25.0   549.0    44.0       Juanna Vines            1  \n",
       "2     3576.0           0.0  6715.0    49.0      Altark Susent            0  \n",
       "3     1283.0         371.0  3329.0   193.0       Solam Susent            0  \n",
       "4       70.0         151.0   565.0     2.0  Willy Santantines            1  "
      ]
     },
     "execution_count": 11,
     "metadata": {},
     "output_type": "execute_result"
    }
   ],
   "source": [
    "df['VIP'] = df['VIP'] * 1\n",
    "df.head()"
   ]
  },
  {
   "cell_type": "code",
   "execution_count": 12,
   "id": "2d6cd868",
   "metadata": {
    "execution": {
     "iopub.execute_input": "2022-12-18T12:56:05.034014Z",
     "iopub.status.busy": "2022-12-18T12:56:05.033602Z",
     "iopub.status.idle": "2022-12-18T12:56:05.052043Z",
     "shell.execute_reply": "2022-12-18T12:56:05.050022Z"
    },
    "papermill": {
     "duration": 0.034271,
     "end_time": "2022-12-18T12:56:05.055345",
     "exception": false,
     "start_time": "2022-12-18T12:56:05.021074",
     "status": "completed"
    },
    "tags": []
   },
   "outputs": [
    {
     "name": "stdout",
     "output_type": "stream",
     "text": [
      "<class 'pandas.core.frame.DataFrame'>\n",
      "RangeIndex: 8693 entries, 0 to 8692\n",
      "Data columns (total 14 columns):\n",
      " #   Column        Non-Null Count  Dtype  \n",
      "---  ------        --------------  -----  \n",
      " 0   PassengerId   8693 non-null   object \n",
      " 1   HomePlanet    8492 non-null   object \n",
      " 2   CryoSleep     8476 non-null   object \n",
      " 3   Cabin         8494 non-null   object \n",
      " 4   Destination   8511 non-null   object \n",
      " 5   Age           8693 non-null   float64\n",
      " 6   VIP           8490 non-null   object \n",
      " 7   RoomService   8693 non-null   float64\n",
      " 8   FoodCourt     8693 non-null   float64\n",
      " 9   ShoppingMall  8693 non-null   float64\n",
      " 10  Spa           8693 non-null   float64\n",
      " 11  VRDeck        8693 non-null   float64\n",
      " 12  Name          8493 non-null   object \n",
      " 13  Transported   8693 non-null   int64  \n",
      "dtypes: float64(6), int64(1), object(7)\n",
      "memory usage: 950.9+ KB\n"
     ]
    }
   ],
   "source": [
    "df.info()"
   ]
  },
  {
   "cell_type": "code",
   "execution_count": 13,
   "id": "5414851e",
   "metadata": {
    "execution": {
     "iopub.execute_input": "2022-12-18T12:56:05.080321Z",
     "iopub.status.busy": "2022-12-18T12:56:05.079330Z",
     "iopub.status.idle": "2022-12-18T12:56:05.092220Z",
     "shell.execute_reply": "2022-12-18T12:56:05.090994Z"
    },
    "papermill": {
     "duration": 0.027882,
     "end_time": "2022-12-18T12:56:05.094681",
     "exception": false,
     "start_time": "2022-12-18T12:56:05.066799",
     "status": "completed"
    },
    "tags": []
   },
   "outputs": [
    {
     "data": {
      "text/plain": [
       "PassengerId       0\n",
       "HomePlanet      201\n",
       "CryoSleep       217\n",
       "Cabin           199\n",
       "Destination     182\n",
       "Age               0\n",
       "VIP             203\n",
       "RoomService       0\n",
       "FoodCourt         0\n",
       "ShoppingMall      0\n",
       "Spa               0\n",
       "VRDeck            0\n",
       "Name            200\n",
       "Transported       0\n",
       "dtype: int64"
      ]
     },
     "execution_count": 13,
     "metadata": {},
     "output_type": "execute_result"
    }
   ],
   "source": [
    "df.isnull().sum()"
   ]
  },
  {
   "cell_type": "code",
   "execution_count": 14,
   "id": "e81797df",
   "metadata": {
    "execution": {
     "iopub.execute_input": "2022-12-18T12:56:05.119159Z",
     "iopub.status.busy": "2022-12-18T12:56:05.118425Z",
     "iopub.status.idle": "2022-12-18T12:56:05.132758Z",
     "shell.execute_reply": "2022-12-18T12:56:05.131424Z"
    },
    "papermill": {
     "duration": 0.02929,
     "end_time": "2022-12-18T12:56:05.135043",
     "exception": false,
     "start_time": "2022-12-18T12:56:05.105753",
     "status": "completed"
    },
    "tags": []
   },
   "outputs": [
    {
     "data": {
      "text/plain": [
       "(7559, 14)"
      ]
     },
     "execution_count": 14,
     "metadata": {},
     "output_type": "execute_result"
    }
   ],
   "source": [
    "#remove rows with missing values\n",
    "\n",
    "new_df = df.dropna(axis=0)\n",
    "new_df.shape"
   ]
  },
  {
   "cell_type": "code",
   "execution_count": 15,
   "id": "32e220eb",
   "metadata": {
    "execution": {
     "iopub.execute_input": "2022-12-18T12:56:05.159271Z",
     "iopub.status.busy": "2022-12-18T12:56:05.158810Z",
     "iopub.status.idle": "2022-12-18T12:56:05.181240Z",
     "shell.execute_reply": "2022-12-18T12:56:05.179951Z"
    },
    "papermill": {
     "duration": 0.037493,
     "end_time": "2022-12-18T12:56:05.183667",
     "exception": false,
     "start_time": "2022-12-18T12:56:05.146174",
     "status": "completed"
    },
    "tags": []
   },
   "outputs": [
    {
     "data": {
      "text/html": [
       "<div>\n",
       "<style scoped>\n",
       "    .dataframe tbody tr th:only-of-type {\n",
       "        vertical-align: middle;\n",
       "    }\n",
       "\n",
       "    .dataframe tbody tr th {\n",
       "        vertical-align: top;\n",
       "    }\n",
       "\n",
       "    .dataframe thead th {\n",
       "        text-align: right;\n",
       "    }\n",
       "</style>\n",
       "<table border=\"1\" class=\"dataframe\">\n",
       "  <thead>\n",
       "    <tr style=\"text-align: right;\">\n",
       "      <th></th>\n",
       "      <th>PassengerId</th>\n",
       "      <th>HomePlanet</th>\n",
       "      <th>CryoSleep</th>\n",
       "      <th>Cabin</th>\n",
       "      <th>Destination</th>\n",
       "      <th>Age</th>\n",
       "      <th>VIP</th>\n",
       "      <th>RoomService</th>\n",
       "      <th>FoodCourt</th>\n",
       "      <th>ShoppingMall</th>\n",
       "      <th>Spa</th>\n",
       "      <th>VRDeck</th>\n",
       "      <th>Name</th>\n",
       "      <th>Transported</th>\n",
       "    </tr>\n",
       "  </thead>\n",
       "  <tbody>\n",
       "    <tr>\n",
       "      <th>0</th>\n",
       "      <td>0001_01</td>\n",
       "      <td>Europa</td>\n",
       "      <td>False</td>\n",
       "      <td>B/0/P</td>\n",
       "      <td>TRAPPIST-1e</td>\n",
       "      <td>39.0</td>\n",
       "      <td>0</td>\n",
       "      <td>0.0</td>\n",
       "      <td>0.0</td>\n",
       "      <td>0.0</td>\n",
       "      <td>0.0</td>\n",
       "      <td>0.0</td>\n",
       "      <td>Maham Ofracculy</td>\n",
       "      <td>0</td>\n",
       "    </tr>\n",
       "    <tr>\n",
       "      <th>1</th>\n",
       "      <td>0002_01</td>\n",
       "      <td>Earth</td>\n",
       "      <td>False</td>\n",
       "      <td>F/0/S</td>\n",
       "      <td>TRAPPIST-1e</td>\n",
       "      <td>24.0</td>\n",
       "      <td>0</td>\n",
       "      <td>109.0</td>\n",
       "      <td>9.0</td>\n",
       "      <td>25.0</td>\n",
       "      <td>549.0</td>\n",
       "      <td>44.0</td>\n",
       "      <td>Juanna Vines</td>\n",
       "      <td>1</td>\n",
       "    </tr>\n",
       "    <tr>\n",
       "      <th>2</th>\n",
       "      <td>0003_01</td>\n",
       "      <td>Europa</td>\n",
       "      <td>False</td>\n",
       "      <td>A/0/S</td>\n",
       "      <td>TRAPPIST-1e</td>\n",
       "      <td>58.0</td>\n",
       "      <td>1</td>\n",
       "      <td>43.0</td>\n",
       "      <td>3576.0</td>\n",
       "      <td>0.0</td>\n",
       "      <td>6715.0</td>\n",
       "      <td>49.0</td>\n",
       "      <td>Altark Susent</td>\n",
       "      <td>0</td>\n",
       "    </tr>\n",
       "    <tr>\n",
       "      <th>3</th>\n",
       "      <td>0003_02</td>\n",
       "      <td>Europa</td>\n",
       "      <td>False</td>\n",
       "      <td>A/0/S</td>\n",
       "      <td>TRAPPIST-1e</td>\n",
       "      <td>33.0</td>\n",
       "      <td>0</td>\n",
       "      <td>0.0</td>\n",
       "      <td>1283.0</td>\n",
       "      <td>371.0</td>\n",
       "      <td>3329.0</td>\n",
       "      <td>193.0</td>\n",
       "      <td>Solam Susent</td>\n",
       "      <td>0</td>\n",
       "    </tr>\n",
       "    <tr>\n",
       "      <th>4</th>\n",
       "      <td>0004_01</td>\n",
       "      <td>Earth</td>\n",
       "      <td>False</td>\n",
       "      <td>F/1/S</td>\n",
       "      <td>TRAPPIST-1e</td>\n",
       "      <td>16.0</td>\n",
       "      <td>0</td>\n",
       "      <td>303.0</td>\n",
       "      <td>70.0</td>\n",
       "      <td>151.0</td>\n",
       "      <td>565.0</td>\n",
       "      <td>2.0</td>\n",
       "      <td>Willy Santantines</td>\n",
       "      <td>1</td>\n",
       "    </tr>\n",
       "  </tbody>\n",
       "</table>\n",
       "</div>"
      ],
      "text/plain": [
       "  PassengerId HomePlanet CryoSleep  Cabin  Destination   Age VIP  RoomService  \\\n",
       "0     0001_01     Europa     False  B/0/P  TRAPPIST-1e  39.0   0          0.0   \n",
       "1     0002_01      Earth     False  F/0/S  TRAPPIST-1e  24.0   0        109.0   \n",
       "2     0003_01     Europa     False  A/0/S  TRAPPIST-1e  58.0   1         43.0   \n",
       "3     0003_02     Europa     False  A/0/S  TRAPPIST-1e  33.0   0          0.0   \n",
       "4     0004_01      Earth     False  F/1/S  TRAPPIST-1e  16.0   0        303.0   \n",
       "\n",
       "   FoodCourt  ShoppingMall     Spa  VRDeck               Name  Transported  \n",
       "0        0.0           0.0     0.0     0.0    Maham Ofracculy            0  \n",
       "1        9.0          25.0   549.0    44.0       Juanna Vines            1  \n",
       "2     3576.0           0.0  6715.0    49.0      Altark Susent            0  \n",
       "3     1283.0         371.0  3329.0   193.0       Solam Susent            0  \n",
       "4       70.0         151.0   565.0     2.0  Willy Santantines            1  "
      ]
     },
     "execution_count": 15,
     "metadata": {},
     "output_type": "execute_result"
    }
   ],
   "source": [
    "new_df.head()"
   ]
  },
  {
   "cell_type": "code",
   "execution_count": 16,
   "id": "2de8ff76",
   "metadata": {
    "execution": {
     "iopub.execute_input": "2022-12-18T12:56:05.208788Z",
     "iopub.status.busy": "2022-12-18T12:56:05.208380Z",
     "iopub.status.idle": "2022-12-18T12:56:05.225470Z",
     "shell.execute_reply": "2022-12-18T12:56:05.224352Z"
    },
    "papermill": {
     "duration": 0.032487,
     "end_time": "2022-12-18T12:56:05.227968",
     "exception": false,
     "start_time": "2022-12-18T12:56:05.195481",
     "status": "completed"
    },
    "tags": []
   },
   "outputs": [
    {
     "data": {
      "text/plain": [
       "PassengerId     7559\n",
       "HomePlanet         3\n",
       "CryoSleep          2\n",
       "Cabin           5957\n",
       "Destination        3\n",
       "Age               81\n",
       "VIP                2\n",
       "RoomService     1167\n",
       "FoodCourt       1375\n",
       "ShoppingMall    1051\n",
       "Spa             1225\n",
       "VRDeck          1199\n",
       "Name            7540\n",
       "Transported        2\n",
       "dtype: int64"
      ]
     },
     "execution_count": 16,
     "metadata": {},
     "output_type": "execute_result"
    }
   ],
   "source": [
    "new_df.nunique()"
   ]
  },
  {
   "cell_type": "code",
   "execution_count": 17,
   "id": "6732c659",
   "metadata": {
    "execution": {
     "iopub.execute_input": "2022-12-18T12:56:05.253495Z",
     "iopub.status.busy": "2022-12-18T12:56:05.253025Z",
     "iopub.status.idle": "2022-12-18T12:56:05.275022Z",
     "shell.execute_reply": "2022-12-18T12:56:05.273833Z"
    },
    "papermill": {
     "duration": 0.037886,
     "end_time": "2022-12-18T12:56:05.277625",
     "exception": false,
     "start_time": "2022-12-18T12:56:05.239739",
     "status": "completed"
    },
    "tags": []
   },
   "outputs": [
    {
     "data": {
      "text/html": [
       "<div>\n",
       "<style scoped>\n",
       "    .dataframe tbody tr th:only-of-type {\n",
       "        vertical-align: middle;\n",
       "    }\n",
       "\n",
       "    .dataframe tbody tr th {\n",
       "        vertical-align: top;\n",
       "    }\n",
       "\n",
       "    .dataframe thead th {\n",
       "        text-align: right;\n",
       "    }\n",
       "</style>\n",
       "<table border=\"1\" class=\"dataframe\">\n",
       "  <thead>\n",
       "    <tr style=\"text-align: right;\">\n",
       "      <th></th>\n",
       "      <th>PassengerId</th>\n",
       "      <th>HomePlanet</th>\n",
       "      <th>CryoSleep</th>\n",
       "      <th>Cabin</th>\n",
       "      <th>Destination</th>\n",
       "      <th>Age</th>\n",
       "      <th>VIP</th>\n",
       "      <th>RoomService</th>\n",
       "      <th>FoodCourt</th>\n",
       "      <th>ShoppingMall</th>\n",
       "      <th>Spa</th>\n",
       "      <th>VRDeck</th>\n",
       "      <th>Name</th>\n",
       "      <th>Transported</th>\n",
       "    </tr>\n",
       "  </thead>\n",
       "  <tbody>\n",
       "    <tr>\n",
       "      <th>0</th>\n",
       "      <td>0001_01</td>\n",
       "      <td>Europa</td>\n",
       "      <td>False</td>\n",
       "      <td>B/0/P</td>\n",
       "      <td>TRAPPIST-1e</td>\n",
       "      <td>39.0</td>\n",
       "      <td>0</td>\n",
       "      <td>0.0</td>\n",
       "      <td>0.0</td>\n",
       "      <td>0.0</td>\n",
       "      <td>0.0</td>\n",
       "      <td>0.0</td>\n",
       "      <td>Maham Ofracculy</td>\n",
       "      <td>0</td>\n",
       "    </tr>\n",
       "    <tr>\n",
       "      <th>1</th>\n",
       "      <td>0002_01</td>\n",
       "      <td>Earth</td>\n",
       "      <td>False</td>\n",
       "      <td>F/0/S</td>\n",
       "      <td>TRAPPIST-1e</td>\n",
       "      <td>24.0</td>\n",
       "      <td>0</td>\n",
       "      <td>109.0</td>\n",
       "      <td>9.0</td>\n",
       "      <td>25.0</td>\n",
       "      <td>549.0</td>\n",
       "      <td>44.0</td>\n",
       "      <td>Juanna Vines</td>\n",
       "      <td>1</td>\n",
       "    </tr>\n",
       "    <tr>\n",
       "      <th>2</th>\n",
       "      <td>0003_01</td>\n",
       "      <td>Europa</td>\n",
       "      <td>False</td>\n",
       "      <td>A/0/S</td>\n",
       "      <td>TRAPPIST-1e</td>\n",
       "      <td>58.0</td>\n",
       "      <td>1</td>\n",
       "      <td>43.0</td>\n",
       "      <td>3576.0</td>\n",
       "      <td>0.0</td>\n",
       "      <td>6715.0</td>\n",
       "      <td>49.0</td>\n",
       "      <td>Altark Susent</td>\n",
       "      <td>0</td>\n",
       "    </tr>\n",
       "    <tr>\n",
       "      <th>3</th>\n",
       "      <td>0003_02</td>\n",
       "      <td>Europa</td>\n",
       "      <td>False</td>\n",
       "      <td>A/0/S</td>\n",
       "      <td>TRAPPIST-1e</td>\n",
       "      <td>33.0</td>\n",
       "      <td>0</td>\n",
       "      <td>0.0</td>\n",
       "      <td>1283.0</td>\n",
       "      <td>371.0</td>\n",
       "      <td>3329.0</td>\n",
       "      <td>193.0</td>\n",
       "      <td>Solam Susent</td>\n",
       "      <td>0</td>\n",
       "    </tr>\n",
       "    <tr>\n",
       "      <th>4</th>\n",
       "      <td>0004_01</td>\n",
       "      <td>Earth</td>\n",
       "      <td>False</td>\n",
       "      <td>F/1/S</td>\n",
       "      <td>TRAPPIST-1e</td>\n",
       "      <td>16.0</td>\n",
       "      <td>0</td>\n",
       "      <td>303.0</td>\n",
       "      <td>70.0</td>\n",
       "      <td>151.0</td>\n",
       "      <td>565.0</td>\n",
       "      <td>2.0</td>\n",
       "      <td>Willy Santantines</td>\n",
       "      <td>1</td>\n",
       "    </tr>\n",
       "  </tbody>\n",
       "</table>\n",
       "</div>"
      ],
      "text/plain": [
       "  PassengerId HomePlanet CryoSleep  Cabin  Destination   Age VIP  RoomService  \\\n",
       "0     0001_01     Europa     False  B/0/P  TRAPPIST-1e  39.0   0          0.0   \n",
       "1     0002_01      Earth     False  F/0/S  TRAPPIST-1e  24.0   0        109.0   \n",
       "2     0003_01     Europa     False  A/0/S  TRAPPIST-1e  58.0   1         43.0   \n",
       "3     0003_02     Europa     False  A/0/S  TRAPPIST-1e  33.0   0          0.0   \n",
       "4     0004_01      Earth     False  F/1/S  TRAPPIST-1e  16.0   0        303.0   \n",
       "\n",
       "   FoodCourt  ShoppingMall     Spa  VRDeck               Name  Transported  \n",
       "0        0.0           0.0     0.0     0.0    Maham Ofracculy            0  \n",
       "1        9.0          25.0   549.0    44.0       Juanna Vines            1  \n",
       "2     3576.0           0.0  6715.0    49.0      Altark Susent            0  \n",
       "3     1283.0         371.0  3329.0   193.0       Solam Susent            0  \n",
       "4       70.0         151.0   565.0     2.0  Willy Santantines            1  "
      ]
     },
     "execution_count": 17,
     "metadata": {},
     "output_type": "execute_result"
    }
   ],
   "source": [
    "from sklearn.preprocessing import OneHotEncoder\n",
    "\n",
    "#hot = OneHotEncoder()\n",
    "#new_df = hot.fit_transform(new_df[['HomePlanet', 'Destination']])\n",
    "\n",
    "new_df.head()"
   ]
  },
  {
   "cell_type": "code",
   "execution_count": 18,
   "id": "b45d6b12",
   "metadata": {
    "execution": {
     "iopub.execute_input": "2022-12-18T12:56:05.303563Z",
     "iopub.status.busy": "2022-12-18T12:56:05.303145Z",
     "iopub.status.idle": "2022-12-18T12:56:05.314857Z",
     "shell.execute_reply": "2022-12-18T12:56:05.313511Z"
    },
    "papermill": {
     "duration": 0.028389,
     "end_time": "2022-12-18T12:56:05.318062",
     "exception": false,
     "start_time": "2022-12-18T12:56:05.289673",
     "status": "completed"
    },
    "tags": []
   },
   "outputs": [
    {
     "name": "stdout",
     "output_type": "stream",
     "text": [
      "Index(['HomePlanet_Earth', 'HomePlanet_Europa', 'HomePlanet_Mars'], dtype='object')\n"
     ]
    }
   ],
   "source": [
    "enc1 = pd.get_dummies(new_df['HomePlanet'], prefix='HomePlanet')\n",
    "enc1.head()\n",
    "\n",
    "enc2 = pd.get_dummies(new_df['Destination'], prefix='Destination')\n",
    "enc2.head()\n",
    "\n",
    "print(enc1.columns)"
   ]
  },
  {
   "cell_type": "code",
   "execution_count": 19,
   "id": "a6d907a9",
   "metadata": {
    "execution": {
     "iopub.execute_input": "2022-12-18T12:56:05.344707Z",
     "iopub.status.busy": "2022-12-18T12:56:05.344217Z",
     "iopub.status.idle": "2022-12-18T12:56:05.377008Z",
     "shell.execute_reply": "2022-12-18T12:56:05.376153Z"
    },
    "papermill": {
     "duration": 0.048925,
     "end_time": "2022-12-18T12:56:05.379597",
     "exception": false,
     "start_time": "2022-12-18T12:56:05.330672",
     "status": "completed"
    },
    "tags": []
   },
   "outputs": [
    {
     "data": {
      "text/html": [
       "<div>\n",
       "<style scoped>\n",
       "    .dataframe tbody tr th:only-of-type {\n",
       "        vertical-align: middle;\n",
       "    }\n",
       "\n",
       "    .dataframe tbody tr th {\n",
       "        vertical-align: top;\n",
       "    }\n",
       "\n",
       "    .dataframe thead th {\n",
       "        text-align: right;\n",
       "    }\n",
       "</style>\n",
       "<table border=\"1\" class=\"dataframe\">\n",
       "  <thead>\n",
       "    <tr style=\"text-align: right;\">\n",
       "      <th></th>\n",
       "      <th>PassengerId</th>\n",
       "      <th>CryoSleep</th>\n",
       "      <th>Cabin</th>\n",
       "      <th>Age</th>\n",
       "      <th>VIP</th>\n",
       "      <th>RoomService</th>\n",
       "      <th>FoodCourt</th>\n",
       "      <th>ShoppingMall</th>\n",
       "      <th>Spa</th>\n",
       "      <th>VRDeck</th>\n",
       "      <th>Name</th>\n",
       "      <th>Transported</th>\n",
       "      <th>HomePlanet_Earth</th>\n",
       "      <th>HomePlanet_Europa</th>\n",
       "      <th>HomePlanet_Mars</th>\n",
       "      <th>Destination_55 Cancri e</th>\n",
       "      <th>Destination_PSO J318.5-22</th>\n",
       "      <th>Destination_TRAPPIST-1e</th>\n",
       "    </tr>\n",
       "  </thead>\n",
       "  <tbody>\n",
       "    <tr>\n",
       "      <th>0</th>\n",
       "      <td>0001_01</td>\n",
       "      <td>False</td>\n",
       "      <td>B/0/P</td>\n",
       "      <td>39.0</td>\n",
       "      <td>0</td>\n",
       "      <td>0.0</td>\n",
       "      <td>0.0</td>\n",
       "      <td>0.0</td>\n",
       "      <td>0.0</td>\n",
       "      <td>0.0</td>\n",
       "      <td>Maham Ofracculy</td>\n",
       "      <td>0</td>\n",
       "      <td>0</td>\n",
       "      <td>1</td>\n",
       "      <td>0</td>\n",
       "      <td>0</td>\n",
       "      <td>0</td>\n",
       "      <td>1</td>\n",
       "    </tr>\n",
       "    <tr>\n",
       "      <th>1</th>\n",
       "      <td>0002_01</td>\n",
       "      <td>False</td>\n",
       "      <td>F/0/S</td>\n",
       "      <td>24.0</td>\n",
       "      <td>0</td>\n",
       "      <td>109.0</td>\n",
       "      <td>9.0</td>\n",
       "      <td>25.0</td>\n",
       "      <td>549.0</td>\n",
       "      <td>44.0</td>\n",
       "      <td>Juanna Vines</td>\n",
       "      <td>1</td>\n",
       "      <td>1</td>\n",
       "      <td>0</td>\n",
       "      <td>0</td>\n",
       "      <td>0</td>\n",
       "      <td>0</td>\n",
       "      <td>1</td>\n",
       "    </tr>\n",
       "    <tr>\n",
       "      <th>2</th>\n",
       "      <td>0003_01</td>\n",
       "      <td>False</td>\n",
       "      <td>A/0/S</td>\n",
       "      <td>58.0</td>\n",
       "      <td>1</td>\n",
       "      <td>43.0</td>\n",
       "      <td>3576.0</td>\n",
       "      <td>0.0</td>\n",
       "      <td>6715.0</td>\n",
       "      <td>49.0</td>\n",
       "      <td>Altark Susent</td>\n",
       "      <td>0</td>\n",
       "      <td>0</td>\n",
       "      <td>1</td>\n",
       "      <td>0</td>\n",
       "      <td>0</td>\n",
       "      <td>0</td>\n",
       "      <td>1</td>\n",
       "    </tr>\n",
       "    <tr>\n",
       "      <th>3</th>\n",
       "      <td>0003_02</td>\n",
       "      <td>False</td>\n",
       "      <td>A/0/S</td>\n",
       "      <td>33.0</td>\n",
       "      <td>0</td>\n",
       "      <td>0.0</td>\n",
       "      <td>1283.0</td>\n",
       "      <td>371.0</td>\n",
       "      <td>3329.0</td>\n",
       "      <td>193.0</td>\n",
       "      <td>Solam Susent</td>\n",
       "      <td>0</td>\n",
       "      <td>0</td>\n",
       "      <td>1</td>\n",
       "      <td>0</td>\n",
       "      <td>0</td>\n",
       "      <td>0</td>\n",
       "      <td>1</td>\n",
       "    </tr>\n",
       "    <tr>\n",
       "      <th>4</th>\n",
       "      <td>0004_01</td>\n",
       "      <td>False</td>\n",
       "      <td>F/1/S</td>\n",
       "      <td>16.0</td>\n",
       "      <td>0</td>\n",
       "      <td>303.0</td>\n",
       "      <td>70.0</td>\n",
       "      <td>151.0</td>\n",
       "      <td>565.0</td>\n",
       "      <td>2.0</td>\n",
       "      <td>Willy Santantines</td>\n",
       "      <td>1</td>\n",
       "      <td>1</td>\n",
       "      <td>0</td>\n",
       "      <td>0</td>\n",
       "      <td>0</td>\n",
       "      <td>0</td>\n",
       "      <td>1</td>\n",
       "    </tr>\n",
       "  </tbody>\n",
       "</table>\n",
       "</div>"
      ],
      "text/plain": [
       "  PassengerId CryoSleep  Cabin   Age VIP  RoomService  FoodCourt  \\\n",
       "0     0001_01     False  B/0/P  39.0   0          0.0        0.0   \n",
       "1     0002_01     False  F/0/S  24.0   0        109.0        9.0   \n",
       "2     0003_01     False  A/0/S  58.0   1         43.0     3576.0   \n",
       "3     0003_02     False  A/0/S  33.0   0          0.0     1283.0   \n",
       "4     0004_01     False  F/1/S  16.0   0        303.0       70.0   \n",
       "\n",
       "   ShoppingMall     Spa  VRDeck               Name  Transported  \\\n",
       "0           0.0     0.0     0.0    Maham Ofracculy            0   \n",
       "1          25.0   549.0    44.0       Juanna Vines            1   \n",
       "2           0.0  6715.0    49.0      Altark Susent            0   \n",
       "3         371.0  3329.0   193.0       Solam Susent            0   \n",
       "4         151.0   565.0     2.0  Willy Santantines            1   \n",
       "\n",
       "   HomePlanet_Earth  HomePlanet_Europa  HomePlanet_Mars  \\\n",
       "0                 0                  1                0   \n",
       "1                 1                  0                0   \n",
       "2                 0                  1                0   \n",
       "3                 0                  1                0   \n",
       "4                 1                  0                0   \n",
       "\n",
       "   Destination_55 Cancri e  Destination_PSO J318.5-22  Destination_TRAPPIST-1e  \n",
       "0                        0                          0                        1  \n",
       "1                        0                          0                        1  \n",
       "2                        0                          0                        1  \n",
       "3                        0                          0                        1  \n",
       "4                        0                          0                        1  "
      ]
     },
     "execution_count": 19,
     "metadata": {},
     "output_type": "execute_result"
    }
   ],
   "source": [
    "# dropping obsolete columns and inserting one-hot encoded ones\n",
    "\n",
    "enc_df = pd.concat([new_df, enc1, enc2], axis=1)\n",
    "\n",
    "enc_df = enc_df.drop(['HomePlanet', 'Destination'], axis=1)\n",
    "\n",
    "enc_df.head()"
   ]
  },
  {
   "cell_type": "code",
   "execution_count": 20,
   "id": "4c4d5b7f",
   "metadata": {
    "execution": {
     "iopub.execute_input": "2022-12-18T12:56:05.407542Z",
     "iopub.status.busy": "2022-12-18T12:56:05.406675Z",
     "iopub.status.idle": "2022-12-18T12:56:05.432293Z",
     "shell.execute_reply": "2022-12-18T12:56:05.430989Z"
    },
    "papermill": {
     "duration": 0.043063,
     "end_time": "2022-12-18T12:56:05.435122",
     "exception": false,
     "start_time": "2022-12-18T12:56:05.392059",
     "status": "completed"
    },
    "tags": []
   },
   "outputs": [
    {
     "data": {
      "text/html": [
       "<div>\n",
       "<style scoped>\n",
       "    .dataframe tbody tr th:only-of-type {\n",
       "        vertical-align: middle;\n",
       "    }\n",
       "\n",
       "    .dataframe tbody tr th {\n",
       "        vertical-align: top;\n",
       "    }\n",
       "\n",
       "    .dataframe thead th {\n",
       "        text-align: right;\n",
       "    }\n",
       "</style>\n",
       "<table border=\"1\" class=\"dataframe\">\n",
       "  <thead>\n",
       "    <tr style=\"text-align: right;\">\n",
       "      <th></th>\n",
       "      <th>PassengerId</th>\n",
       "      <th>CryoSleep</th>\n",
       "      <th>Cabin</th>\n",
       "      <th>Age</th>\n",
       "      <th>VIP</th>\n",
       "      <th>RoomService</th>\n",
       "      <th>FoodCourt</th>\n",
       "      <th>ShoppingMall</th>\n",
       "      <th>Spa</th>\n",
       "      <th>VRDeck</th>\n",
       "      <th>Name</th>\n",
       "      <th>HomePlanet_Earth</th>\n",
       "      <th>HomePlanet_Europa</th>\n",
       "      <th>HomePlanet_Mars</th>\n",
       "      <th>Destination_55 Cancri e</th>\n",
       "      <th>Destination_PSO J318.5-22</th>\n",
       "      <th>Destination_TRAPPIST-1e</th>\n",
       "      <th>Transported</th>\n",
       "    </tr>\n",
       "  </thead>\n",
       "  <tbody>\n",
       "    <tr>\n",
       "      <th>0</th>\n",
       "      <td>0001_01</td>\n",
       "      <td>False</td>\n",
       "      <td>B/0/P</td>\n",
       "      <td>39.0</td>\n",
       "      <td>0</td>\n",
       "      <td>0.0</td>\n",
       "      <td>0.0</td>\n",
       "      <td>0.0</td>\n",
       "      <td>0.0</td>\n",
       "      <td>0.0</td>\n",
       "      <td>Maham Ofracculy</td>\n",
       "      <td>0</td>\n",
       "      <td>1</td>\n",
       "      <td>0</td>\n",
       "      <td>0</td>\n",
       "      <td>0</td>\n",
       "      <td>1</td>\n",
       "      <td>0</td>\n",
       "    </tr>\n",
       "    <tr>\n",
       "      <th>1</th>\n",
       "      <td>0002_01</td>\n",
       "      <td>False</td>\n",
       "      <td>F/0/S</td>\n",
       "      <td>24.0</td>\n",
       "      <td>0</td>\n",
       "      <td>109.0</td>\n",
       "      <td>9.0</td>\n",
       "      <td>25.0</td>\n",
       "      <td>549.0</td>\n",
       "      <td>44.0</td>\n",
       "      <td>Juanna Vines</td>\n",
       "      <td>1</td>\n",
       "      <td>0</td>\n",
       "      <td>0</td>\n",
       "      <td>0</td>\n",
       "      <td>0</td>\n",
       "      <td>1</td>\n",
       "      <td>1</td>\n",
       "    </tr>\n",
       "    <tr>\n",
       "      <th>2</th>\n",
       "      <td>0003_01</td>\n",
       "      <td>False</td>\n",
       "      <td>A/0/S</td>\n",
       "      <td>58.0</td>\n",
       "      <td>1</td>\n",
       "      <td>43.0</td>\n",
       "      <td>3576.0</td>\n",
       "      <td>0.0</td>\n",
       "      <td>6715.0</td>\n",
       "      <td>49.0</td>\n",
       "      <td>Altark Susent</td>\n",
       "      <td>0</td>\n",
       "      <td>1</td>\n",
       "      <td>0</td>\n",
       "      <td>0</td>\n",
       "      <td>0</td>\n",
       "      <td>1</td>\n",
       "      <td>0</td>\n",
       "    </tr>\n",
       "    <tr>\n",
       "      <th>3</th>\n",
       "      <td>0003_02</td>\n",
       "      <td>False</td>\n",
       "      <td>A/0/S</td>\n",
       "      <td>33.0</td>\n",
       "      <td>0</td>\n",
       "      <td>0.0</td>\n",
       "      <td>1283.0</td>\n",
       "      <td>371.0</td>\n",
       "      <td>3329.0</td>\n",
       "      <td>193.0</td>\n",
       "      <td>Solam Susent</td>\n",
       "      <td>0</td>\n",
       "      <td>1</td>\n",
       "      <td>0</td>\n",
       "      <td>0</td>\n",
       "      <td>0</td>\n",
       "      <td>1</td>\n",
       "      <td>0</td>\n",
       "    </tr>\n",
       "    <tr>\n",
       "      <th>4</th>\n",
       "      <td>0004_01</td>\n",
       "      <td>False</td>\n",
       "      <td>F/1/S</td>\n",
       "      <td>16.0</td>\n",
       "      <td>0</td>\n",
       "      <td>303.0</td>\n",
       "      <td>70.0</td>\n",
       "      <td>151.0</td>\n",
       "      <td>565.0</td>\n",
       "      <td>2.0</td>\n",
       "      <td>Willy Santantines</td>\n",
       "      <td>1</td>\n",
       "      <td>0</td>\n",
       "      <td>0</td>\n",
       "      <td>0</td>\n",
       "      <td>0</td>\n",
       "      <td>1</td>\n",
       "      <td>1</td>\n",
       "    </tr>\n",
       "  </tbody>\n",
       "</table>\n",
       "</div>"
      ],
      "text/plain": [
       "  PassengerId CryoSleep  Cabin   Age VIP  RoomService  FoodCourt  \\\n",
       "0     0001_01     False  B/0/P  39.0   0          0.0        0.0   \n",
       "1     0002_01     False  F/0/S  24.0   0        109.0        9.0   \n",
       "2     0003_01     False  A/0/S  58.0   1         43.0     3576.0   \n",
       "3     0003_02     False  A/0/S  33.0   0          0.0     1283.0   \n",
       "4     0004_01     False  F/1/S  16.0   0        303.0       70.0   \n",
       "\n",
       "   ShoppingMall     Spa  VRDeck               Name  HomePlanet_Earth  \\\n",
       "0           0.0     0.0     0.0    Maham Ofracculy                 0   \n",
       "1          25.0   549.0    44.0       Juanna Vines                 1   \n",
       "2           0.0  6715.0    49.0      Altark Susent                 0   \n",
       "3         371.0  3329.0   193.0       Solam Susent                 0   \n",
       "4         151.0   565.0     2.0  Willy Santantines                 1   \n",
       "\n",
       "   HomePlanet_Europa  HomePlanet_Mars  Destination_55 Cancri e  \\\n",
       "0                  1                0                        0   \n",
       "1                  0                0                        0   \n",
       "2                  1                0                        0   \n",
       "3                  1                0                        0   \n",
       "4                  0                0                        0   \n",
       "\n",
       "   Destination_PSO J318.5-22  Destination_TRAPPIST-1e  Transported  \n",
       "0                          0                        1            0  \n",
       "1                          0                        1            1  \n",
       "2                          0                        1            0  \n",
       "3                          0                        1            0  \n",
       "4                          0                        1            1  "
      ]
     },
     "execution_count": 20,
     "metadata": {},
     "output_type": "execute_result"
    }
   ],
   "source": [
    "enc_df = enc_df.drop('Transported', axis=1)\n",
    "enc_df['Transported'] = df['Transported']\n",
    "enc_df.head()"
   ]
  },
  {
   "cell_type": "code",
   "execution_count": 21,
   "id": "f4f22f47",
   "metadata": {
    "execution": {
     "iopub.execute_input": "2022-12-18T12:56:05.463352Z",
     "iopub.status.busy": "2022-12-18T12:56:05.462516Z",
     "iopub.status.idle": "2022-12-18T12:56:05.469979Z",
     "shell.execute_reply": "2022-12-18T12:56:05.468834Z"
    },
    "papermill": {
     "duration": 0.024302,
     "end_time": "2022-12-18T12:56:05.472570",
     "exception": false,
     "start_time": "2022-12-18T12:56:05.448268",
     "status": "completed"
    },
    "tags": []
   },
   "outputs": [
    {
     "data": {
      "text/plain": [
       "(7559, 18)"
      ]
     },
     "execution_count": 21,
     "metadata": {},
     "output_type": "execute_result"
    }
   ],
   "source": [
    "enc_df.shape"
   ]
  },
  {
   "cell_type": "code",
   "execution_count": 22,
   "id": "910aabee",
   "metadata": {
    "execution": {
     "iopub.execute_input": "2022-12-18T12:56:05.502223Z",
     "iopub.status.busy": "2022-12-18T12:56:05.501752Z",
     "iopub.status.idle": "2022-12-18T12:56:05.512869Z",
     "shell.execute_reply": "2022-12-18T12:56:05.511478Z"
    },
    "papermill": {
     "duration": 0.030402,
     "end_time": "2022-12-18T12:56:05.515744",
     "exception": false,
     "start_time": "2022-12-18T12:56:05.485342",
     "status": "completed"
    },
    "tags": []
   },
   "outputs": [
    {
     "data": {
      "text/plain": [
       "5957"
      ]
     },
     "execution_count": 22,
     "metadata": {},
     "output_type": "execute_result"
    }
   ],
   "source": [
    "enc_df['Cabin'].nunique()"
   ]
  },
  {
   "cell_type": "code",
   "execution_count": 23,
   "id": "3d89efc7",
   "metadata": {
    "execution": {
     "iopub.execute_input": "2022-12-18T12:56:05.554171Z",
     "iopub.status.busy": "2022-12-18T12:56:05.553194Z",
     "iopub.status.idle": "2022-12-18T12:56:05.586038Z",
     "shell.execute_reply": "2022-12-18T12:56:05.584643Z"
    },
    "papermill": {
     "duration": 0.059753,
     "end_time": "2022-12-18T12:56:05.591183",
     "exception": false,
     "start_time": "2022-12-18T12:56:05.531430",
     "status": "completed"
    },
    "tags": []
   },
   "outputs": [
    {
     "data": {
      "text/html": [
       "<div>\n",
       "<style scoped>\n",
       "    .dataframe tbody tr th:only-of-type {\n",
       "        vertical-align: middle;\n",
       "    }\n",
       "\n",
       "    .dataframe tbody tr th {\n",
       "        vertical-align: top;\n",
       "    }\n",
       "\n",
       "    .dataframe thead th {\n",
       "        text-align: right;\n",
       "    }\n",
       "</style>\n",
       "<table border=\"1\" class=\"dataframe\">\n",
       "  <thead>\n",
       "    <tr style=\"text-align: right;\">\n",
       "      <th></th>\n",
       "      <th>PassengerId</th>\n",
       "      <th>CryoSleep</th>\n",
       "      <th>Age</th>\n",
       "      <th>VIP</th>\n",
       "      <th>RoomService</th>\n",
       "      <th>FoodCourt</th>\n",
       "      <th>ShoppingMall</th>\n",
       "      <th>Spa</th>\n",
       "      <th>VRDeck</th>\n",
       "      <th>HomePlanet_Earth</th>\n",
       "      <th>HomePlanet_Europa</th>\n",
       "      <th>HomePlanet_Mars</th>\n",
       "      <th>Destination_55 Cancri e</th>\n",
       "      <th>Destination_PSO J318.5-22</th>\n",
       "      <th>Destination_TRAPPIST-1e</th>\n",
       "      <th>Transported</th>\n",
       "    </tr>\n",
       "  </thead>\n",
       "  <tbody>\n",
       "    <tr>\n",
       "      <th>0</th>\n",
       "      <td>0001_01</td>\n",
       "      <td>False</td>\n",
       "      <td>39.0</td>\n",
       "      <td>0</td>\n",
       "      <td>0.0</td>\n",
       "      <td>0.0</td>\n",
       "      <td>0.0</td>\n",
       "      <td>0.0</td>\n",
       "      <td>0.0</td>\n",
       "      <td>0</td>\n",
       "      <td>1</td>\n",
       "      <td>0</td>\n",
       "      <td>0</td>\n",
       "      <td>0</td>\n",
       "      <td>1</td>\n",
       "      <td>0</td>\n",
       "    </tr>\n",
       "    <tr>\n",
       "      <th>1</th>\n",
       "      <td>0002_01</td>\n",
       "      <td>False</td>\n",
       "      <td>24.0</td>\n",
       "      <td>0</td>\n",
       "      <td>109.0</td>\n",
       "      <td>9.0</td>\n",
       "      <td>25.0</td>\n",
       "      <td>549.0</td>\n",
       "      <td>44.0</td>\n",
       "      <td>1</td>\n",
       "      <td>0</td>\n",
       "      <td>0</td>\n",
       "      <td>0</td>\n",
       "      <td>0</td>\n",
       "      <td>1</td>\n",
       "      <td>1</td>\n",
       "    </tr>\n",
       "    <tr>\n",
       "      <th>2</th>\n",
       "      <td>0003_01</td>\n",
       "      <td>False</td>\n",
       "      <td>58.0</td>\n",
       "      <td>1</td>\n",
       "      <td>43.0</td>\n",
       "      <td>3576.0</td>\n",
       "      <td>0.0</td>\n",
       "      <td>6715.0</td>\n",
       "      <td>49.0</td>\n",
       "      <td>0</td>\n",
       "      <td>1</td>\n",
       "      <td>0</td>\n",
       "      <td>0</td>\n",
       "      <td>0</td>\n",
       "      <td>1</td>\n",
       "      <td>0</td>\n",
       "    </tr>\n",
       "    <tr>\n",
       "      <th>3</th>\n",
       "      <td>0003_02</td>\n",
       "      <td>False</td>\n",
       "      <td>33.0</td>\n",
       "      <td>0</td>\n",
       "      <td>0.0</td>\n",
       "      <td>1283.0</td>\n",
       "      <td>371.0</td>\n",
       "      <td>3329.0</td>\n",
       "      <td>193.0</td>\n",
       "      <td>0</td>\n",
       "      <td>1</td>\n",
       "      <td>0</td>\n",
       "      <td>0</td>\n",
       "      <td>0</td>\n",
       "      <td>1</td>\n",
       "      <td>0</td>\n",
       "    </tr>\n",
       "    <tr>\n",
       "      <th>4</th>\n",
       "      <td>0004_01</td>\n",
       "      <td>False</td>\n",
       "      <td>16.0</td>\n",
       "      <td>0</td>\n",
       "      <td>303.0</td>\n",
       "      <td>70.0</td>\n",
       "      <td>151.0</td>\n",
       "      <td>565.0</td>\n",
       "      <td>2.0</td>\n",
       "      <td>1</td>\n",
       "      <td>0</td>\n",
       "      <td>0</td>\n",
       "      <td>0</td>\n",
       "      <td>0</td>\n",
       "      <td>1</td>\n",
       "      <td>1</td>\n",
       "    </tr>\n",
       "  </tbody>\n",
       "</table>\n",
       "</div>"
      ],
      "text/plain": [
       "  PassengerId CryoSleep   Age VIP  RoomService  FoodCourt  ShoppingMall  \\\n",
       "0     0001_01     False  39.0   0          0.0        0.0           0.0   \n",
       "1     0002_01     False  24.0   0        109.0        9.0          25.0   \n",
       "2     0003_01     False  58.0   1         43.0     3576.0           0.0   \n",
       "3     0003_02     False  33.0   0          0.0     1283.0         371.0   \n",
       "4     0004_01     False  16.0   0        303.0       70.0         151.0   \n",
       "\n",
       "      Spa  VRDeck  HomePlanet_Earth  HomePlanet_Europa  HomePlanet_Mars  \\\n",
       "0     0.0     0.0                 0                  1                0   \n",
       "1   549.0    44.0                 1                  0                0   \n",
       "2  6715.0    49.0                 0                  1                0   \n",
       "3  3329.0   193.0                 0                  1                0   \n",
       "4   565.0     2.0                 1                  0                0   \n",
       "\n",
       "   Destination_55 Cancri e  Destination_PSO J318.5-22  \\\n",
       "0                        0                          0   \n",
       "1                        0                          0   \n",
       "2                        0                          0   \n",
       "3                        0                          0   \n",
       "4                        0                          0   \n",
       "\n",
       "   Destination_TRAPPIST-1e  Transported  \n",
       "0                        1            0  \n",
       "1                        1            1  \n",
       "2                        1            0  \n",
       "3                        1            0  \n",
       "4                        1            1  "
      ]
     },
     "execution_count": 23,
     "metadata": {},
     "output_type": "execute_result"
    }
   ],
   "source": [
    "# will drop Cabin and Name features for now\n",
    "\n",
    "enc_df = enc_df.drop(['Cabin', 'Name'], axis=1)\n",
    "enc_df.head()"
   ]
  },
  {
   "cell_type": "code",
   "execution_count": 24,
   "id": "07bc1d72",
   "metadata": {
    "execution": {
     "iopub.execute_input": "2022-12-18T12:56:05.620516Z",
     "iopub.status.busy": "2022-12-18T12:56:05.619682Z",
     "iopub.status.idle": "2022-12-18T12:56:05.630562Z",
     "shell.execute_reply": "2022-12-18T12:56:05.629427Z"
    },
    "papermill": {
     "duration": 0.028119,
     "end_time": "2022-12-18T12:56:05.633061",
     "exception": false,
     "start_time": "2022-12-18T12:56:05.604942",
     "status": "completed"
    },
    "tags": []
   },
   "outputs": [],
   "source": [
    "from sklearn.model_selection import train_test_split\n",
    "\n",
    "X = enc_df.iloc[:, 1:-1]\n",
    "y = enc_df.iloc[:,-1]\n",
    "\n",
    "X_train, X_test, y_train, y_test = train_test_split(X, y, test_size=0.3, random_state=8)"
   ]
  },
  {
   "cell_type": "code",
   "execution_count": 25,
   "id": "d2481508",
   "metadata": {
    "execution": {
     "iopub.execute_input": "2022-12-18T12:56:05.661164Z",
     "iopub.status.busy": "2022-12-18T12:56:05.660713Z",
     "iopub.status.idle": "2022-12-18T12:56:06.401875Z",
     "shell.execute_reply": "2022-12-18T12:56:06.400396Z"
    },
    "papermill": {
     "duration": 0.758628,
     "end_time": "2022-12-18T12:56:06.404872",
     "exception": false,
     "start_time": "2022-12-18T12:56:05.646244",
     "status": "completed"
    },
    "tags": []
   },
   "outputs": [],
   "source": [
    "from sklearn.ensemble import RandomForestClassifier\n",
    "\n",
    "rfc = RandomForestClassifier()\n",
    "model = rfc.fit(X_train, y_train)"
   ]
  },
  {
   "cell_type": "code",
   "execution_count": 26,
   "id": "df343c91",
   "metadata": {
    "execution": {
     "iopub.execute_input": "2022-12-18T12:56:06.434120Z",
     "iopub.status.busy": "2022-12-18T12:56:06.433625Z",
     "iopub.status.idle": "2022-12-18T12:56:06.504932Z",
     "shell.execute_reply": "2022-12-18T12:56:06.503721Z"
    },
    "papermill": {
     "duration": 0.088933,
     "end_time": "2022-12-18T12:56:06.507708",
     "exception": false,
     "start_time": "2022-12-18T12:56:06.418775",
     "status": "completed"
    },
    "tags": []
   },
   "outputs": [
    {
     "name": "stdout",
     "output_type": "stream",
     "text": [
      "Accuracy score is 0.7826278659611993\n"
     ]
    }
   ],
   "source": [
    "from sklearn.metrics import accuracy_score\n",
    "\n",
    "y_pred = model.predict(X_test)\n",
    "score = accuracy_score(y_test, y_pred)\n",
    "\n",
    "print(\"Accuracy score is\", score)"
   ]
  },
  {
   "cell_type": "code",
   "execution_count": 27,
   "id": "fd1390ad",
   "metadata": {
    "execution": {
     "iopub.execute_input": "2022-12-18T12:56:06.536952Z",
     "iopub.status.busy": "2022-12-18T12:56:06.535852Z",
     "iopub.status.idle": "2022-12-18T12:56:06.571265Z",
     "shell.execute_reply": "2022-12-18T12:56:06.569988Z"
    },
    "papermill": {
     "duration": 0.052611,
     "end_time": "2022-12-18T12:56:06.573776",
     "exception": false,
     "start_time": "2022-12-18T12:56:06.521165",
     "status": "completed"
    },
    "tags": []
   },
   "outputs": [
    {
     "data": {
      "text/plain": [
       "PassengerId       0\n",
       "HomePlanet       87\n",
       "CryoSleep        93\n",
       "Cabin           100\n",
       "Destination      92\n",
       "Age              91\n",
       "VIP              93\n",
       "RoomService      82\n",
       "FoodCourt       106\n",
       "ShoppingMall     98\n",
       "Spa             101\n",
       "VRDeck           80\n",
       "Name             94\n",
       "dtype: int64"
      ]
     },
     "execution_count": 27,
     "metadata": {},
     "output_type": "execute_result"
    }
   ],
   "source": [
    "# apply preprocessing to test data\n",
    "\n",
    "test = pd.read_csv('/kaggle/input/spaceship-titanic/test.csv')\n",
    "test.isnull().sum()"
   ]
  },
  {
   "cell_type": "code",
   "execution_count": 28,
   "id": "86214ecd",
   "metadata": {
    "execution": {
     "iopub.execute_input": "2022-12-18T12:56:06.603830Z",
     "iopub.status.busy": "2022-12-18T12:56:06.603383Z",
     "iopub.status.idle": "2022-12-18T12:56:06.614674Z",
     "shell.execute_reply": "2022-12-18T12:56:06.613748Z"
    },
    "papermill": {
     "duration": 0.029691,
     "end_time": "2022-12-18T12:56:06.617073",
     "exception": false,
     "start_time": "2022-12-18T12:56:06.587382",
     "status": "completed"
    },
    "tags": []
   },
   "outputs": [],
   "source": [
    "imp = SimpleImputer()\n",
    "test[numeric_cols.columns] = imp.fit_transform(test[numeric_cols.columns])"
   ]
  },
  {
   "cell_type": "code",
   "execution_count": 29,
   "id": "a045ac77",
   "metadata": {
    "execution": {
     "iopub.execute_input": "2022-12-18T12:56:06.647233Z",
     "iopub.status.busy": "2022-12-18T12:56:06.645968Z",
     "iopub.status.idle": "2022-12-18T12:56:06.653417Z",
     "shell.execute_reply": "2022-12-18T12:56:06.652459Z"
    },
    "papermill": {
     "duration": 0.024848,
     "end_time": "2022-12-18T12:56:06.655732",
     "exception": false,
     "start_time": "2022-12-18T12:56:06.630884",
     "status": "completed"
    },
    "tags": []
   },
   "outputs": [],
   "source": [
    "#convert Boolean columns to 0 and 1 values\n",
    "boolean_cols = test.select_dtypes(include='bool')\n",
    "test[boolean_cols.columns] = test[boolean_cols.columns] * 1"
   ]
  },
  {
   "cell_type": "code",
   "execution_count": 30,
   "id": "cd6aa86b",
   "metadata": {
    "execution": {
     "iopub.execute_input": "2022-12-18T12:56:06.685742Z",
     "iopub.status.busy": "2022-12-18T12:56:06.685012Z",
     "iopub.status.idle": "2022-12-18T12:56:06.705007Z",
     "shell.execute_reply": "2022-12-18T12:56:06.703876Z"
    },
    "papermill": {
     "duration": 0.0383,
     "end_time": "2022-12-18T12:56:06.707875",
     "exception": false,
     "start_time": "2022-12-18T12:56:06.669575",
     "status": "completed"
    },
    "tags": []
   },
   "outputs": [
    {
     "data": {
      "text/html": [
       "<div>\n",
       "<style scoped>\n",
       "    .dataframe tbody tr th:only-of-type {\n",
       "        vertical-align: middle;\n",
       "    }\n",
       "\n",
       "    .dataframe tbody tr th {\n",
       "        vertical-align: top;\n",
       "    }\n",
       "\n",
       "    .dataframe thead th {\n",
       "        text-align: right;\n",
       "    }\n",
       "</style>\n",
       "<table border=\"1\" class=\"dataframe\">\n",
       "  <thead>\n",
       "    <tr style=\"text-align: right;\">\n",
       "      <th></th>\n",
       "      <th>PassengerId</th>\n",
       "      <th>HomePlanet</th>\n",
       "      <th>CryoSleep</th>\n",
       "      <th>Cabin</th>\n",
       "      <th>Destination</th>\n",
       "      <th>Age</th>\n",
       "      <th>VIP</th>\n",
       "      <th>RoomService</th>\n",
       "      <th>FoodCourt</th>\n",
       "      <th>ShoppingMall</th>\n",
       "      <th>Spa</th>\n",
       "      <th>VRDeck</th>\n",
       "      <th>Name</th>\n",
       "    </tr>\n",
       "  </thead>\n",
       "  <tbody>\n",
       "    <tr>\n",
       "      <th>0</th>\n",
       "      <td>0013_01</td>\n",
       "      <td>Earth</td>\n",
       "      <td>True</td>\n",
       "      <td>G/3/S</td>\n",
       "      <td>TRAPPIST-1e</td>\n",
       "      <td>27.0</td>\n",
       "      <td>0</td>\n",
       "      <td>0.0</td>\n",
       "      <td>0.0</td>\n",
       "      <td>0.0</td>\n",
       "      <td>0.0</td>\n",
       "      <td>0.0</td>\n",
       "      <td>Nelly Carsoning</td>\n",
       "    </tr>\n",
       "    <tr>\n",
       "      <th>1</th>\n",
       "      <td>0018_01</td>\n",
       "      <td>Earth</td>\n",
       "      <td>False</td>\n",
       "      <td>F/4/S</td>\n",
       "      <td>TRAPPIST-1e</td>\n",
       "      <td>19.0</td>\n",
       "      <td>0</td>\n",
       "      <td>0.0</td>\n",
       "      <td>9.0</td>\n",
       "      <td>0.0</td>\n",
       "      <td>2823.0</td>\n",
       "      <td>0.0</td>\n",
       "      <td>Lerome Peckers</td>\n",
       "    </tr>\n",
       "    <tr>\n",
       "      <th>2</th>\n",
       "      <td>0019_01</td>\n",
       "      <td>Europa</td>\n",
       "      <td>True</td>\n",
       "      <td>C/0/S</td>\n",
       "      <td>55 Cancri e</td>\n",
       "      <td>31.0</td>\n",
       "      <td>0</td>\n",
       "      <td>0.0</td>\n",
       "      <td>0.0</td>\n",
       "      <td>0.0</td>\n",
       "      <td>0.0</td>\n",
       "      <td>0.0</td>\n",
       "      <td>Sabih Unhearfus</td>\n",
       "    </tr>\n",
       "    <tr>\n",
       "      <th>3</th>\n",
       "      <td>0021_01</td>\n",
       "      <td>Europa</td>\n",
       "      <td>False</td>\n",
       "      <td>C/1/S</td>\n",
       "      <td>TRAPPIST-1e</td>\n",
       "      <td>38.0</td>\n",
       "      <td>0</td>\n",
       "      <td>0.0</td>\n",
       "      <td>6652.0</td>\n",
       "      <td>0.0</td>\n",
       "      <td>181.0</td>\n",
       "      <td>585.0</td>\n",
       "      <td>Meratz Caltilter</td>\n",
       "    </tr>\n",
       "    <tr>\n",
       "      <th>4</th>\n",
       "      <td>0023_01</td>\n",
       "      <td>Earth</td>\n",
       "      <td>False</td>\n",
       "      <td>F/5/S</td>\n",
       "      <td>TRAPPIST-1e</td>\n",
       "      <td>20.0</td>\n",
       "      <td>0</td>\n",
       "      <td>10.0</td>\n",
       "      <td>0.0</td>\n",
       "      <td>635.0</td>\n",
       "      <td>0.0</td>\n",
       "      <td>0.0</td>\n",
       "      <td>Brence Harperez</td>\n",
       "    </tr>\n",
       "  </tbody>\n",
       "</table>\n",
       "</div>"
      ],
      "text/plain": [
       "  PassengerId HomePlanet CryoSleep  Cabin  Destination   Age VIP  RoomService  \\\n",
       "0     0013_01      Earth      True  G/3/S  TRAPPIST-1e  27.0   0          0.0   \n",
       "1     0018_01      Earth     False  F/4/S  TRAPPIST-1e  19.0   0          0.0   \n",
       "2     0019_01     Europa      True  C/0/S  55 Cancri e  31.0   0          0.0   \n",
       "3     0021_01     Europa     False  C/1/S  TRAPPIST-1e  38.0   0          0.0   \n",
       "4     0023_01      Earth     False  F/5/S  TRAPPIST-1e  20.0   0         10.0   \n",
       "\n",
       "   FoodCourt  ShoppingMall     Spa  VRDeck              Name  \n",
       "0        0.0           0.0     0.0     0.0   Nelly Carsoning  \n",
       "1        9.0           0.0  2823.0     0.0    Lerome Peckers  \n",
       "2        0.0           0.0     0.0     0.0   Sabih Unhearfus  \n",
       "3     6652.0           0.0   181.0   585.0  Meratz Caltilter  \n",
       "4        0.0         635.0     0.0     0.0   Brence Harperez  "
      ]
     },
     "execution_count": 30,
     "metadata": {},
     "output_type": "execute_result"
    }
   ],
   "source": [
    "test['VIP'] = test['VIP'] * 1\n",
    "test.head()"
   ]
  },
  {
   "cell_type": "code",
   "execution_count": 31,
   "id": "a5b32193",
   "metadata": {
    "execution": {
     "iopub.execute_input": "2022-12-18T12:56:06.737178Z",
     "iopub.status.busy": "2022-12-18T12:56:06.736682Z",
     "iopub.status.idle": "2022-12-18T12:56:06.759550Z",
     "shell.execute_reply": "2022-12-18T12:56:06.758025Z"
    },
    "papermill": {
     "duration": 0.041939,
     "end_time": "2022-12-18T12:56:06.763656",
     "exception": false,
     "start_time": "2022-12-18T12:56:06.721717",
     "status": "completed"
    },
    "tags": []
   },
   "outputs": [
    {
     "name": "stdout",
     "output_type": "stream",
     "text": [
      "PassengerId       0\n",
      "HomePlanet       87\n",
      "CryoSleep        93\n",
      "Cabin           100\n",
      "Destination      92\n",
      "Age               0\n",
      "VIP              93\n",
      "RoomService       0\n",
      "FoodCourt         0\n",
      "ShoppingMall      0\n",
      "Spa               0\n",
      "VRDeck            0\n",
      "Name             94\n",
      "dtype: int64\n",
      "PassengerId      0\n",
      "HomePlanet       0\n",
      "CryoSleep        0\n",
      "Cabin            0\n",
      "Destination     92\n",
      "Age              0\n",
      "VIP              0\n",
      "RoomService      0\n",
      "FoodCourt        0\n",
      "ShoppingMall     0\n",
      "Spa              0\n",
      "VRDeck           0\n",
      "Name            94\n",
      "dtype: int64\n"
     ]
    }
   ],
   "source": [
    "print(test.isnull().sum())\n",
    "\n",
    "test['HomePlanet'] = test['HomePlanet'].fillna(random.choice(['Earth', 'Europa', 'Mars']))\n",
    "test['CryoSleep'] = test['CryoSleep'].fillna(random.choice([0, 1]))\n",
    "\n",
    "cabin_vals = test['Cabin'].unique()\n",
    "test['Cabin'] = test['Cabin'].fillna(random.choice(cabin_vals))\n",
    "\n",
    "dest_vals = test['Destination'].unique()\n",
    "test['Destination'] = test['Destination'].fillna(random.choice(dest_vals))\n",
    "\n",
    "test['VIP'] = test['VIP'].fillna(random.choice([0, 1]))\n",
    "\n",
    "print(test.isnull().sum())"
   ]
  },
  {
   "cell_type": "code",
   "execution_count": 32,
   "id": "ed64f0f4",
   "metadata": {
    "execution": {
     "iopub.execute_input": "2022-12-18T12:56:06.794603Z",
     "iopub.status.busy": "2022-12-18T12:56:06.793317Z",
     "iopub.status.idle": "2022-12-18T12:56:06.798956Z",
     "shell.execute_reply": "2022-12-18T12:56:06.798143Z"
    },
    "papermill": {
     "duration": 0.023659,
     "end_time": "2022-12-18T12:56:06.801587",
     "exception": false,
     "start_time": "2022-12-18T12:56:06.777928",
     "status": "completed"
    },
    "tags": []
   },
   "outputs": [],
   "source": [
    "#remove rows with missing values\n",
    "\n",
    "#new_test = test.dropna(axis=0)\n",
    "new_test = test"
   ]
  },
  {
   "cell_type": "code",
   "execution_count": 33,
   "id": "10a12fc9",
   "metadata": {
    "execution": {
     "iopub.execute_input": "2022-12-18T12:56:06.830825Z",
     "iopub.status.busy": "2022-12-18T12:56:06.830391Z",
     "iopub.status.idle": "2022-12-18T12:56:06.844743Z",
     "shell.execute_reply": "2022-12-18T12:56:06.843906Z"
    },
    "papermill": {
     "duration": 0.031476,
     "end_time": "2022-12-18T12:56:06.846903",
     "exception": false,
     "start_time": "2022-12-18T12:56:06.815427",
     "status": "completed"
    },
    "tags": []
   },
   "outputs": [
    {
     "data": {
      "text/html": [
       "<div>\n",
       "<style scoped>\n",
       "    .dataframe tbody tr th:only-of-type {\n",
       "        vertical-align: middle;\n",
       "    }\n",
       "\n",
       "    .dataframe tbody tr th {\n",
       "        vertical-align: top;\n",
       "    }\n",
       "\n",
       "    .dataframe thead th {\n",
       "        text-align: right;\n",
       "    }\n",
       "</style>\n",
       "<table border=\"1\" class=\"dataframe\">\n",
       "  <thead>\n",
       "    <tr style=\"text-align: right;\">\n",
       "      <th></th>\n",
       "      <th>Destination_55 Cancri e</th>\n",
       "      <th>Destination_PSO J318.5-22</th>\n",
       "      <th>Destination_TRAPPIST-1e</th>\n",
       "    </tr>\n",
       "  </thead>\n",
       "  <tbody>\n",
       "    <tr>\n",
       "      <th>0</th>\n",
       "      <td>0</td>\n",
       "      <td>0</td>\n",
       "      <td>1</td>\n",
       "    </tr>\n",
       "    <tr>\n",
       "      <th>1</th>\n",
       "      <td>0</td>\n",
       "      <td>0</td>\n",
       "      <td>1</td>\n",
       "    </tr>\n",
       "    <tr>\n",
       "      <th>2</th>\n",
       "      <td>1</td>\n",
       "      <td>0</td>\n",
       "      <td>0</td>\n",
       "    </tr>\n",
       "    <tr>\n",
       "      <th>3</th>\n",
       "      <td>0</td>\n",
       "      <td>0</td>\n",
       "      <td>1</td>\n",
       "    </tr>\n",
       "    <tr>\n",
       "      <th>4</th>\n",
       "      <td>0</td>\n",
       "      <td>0</td>\n",
       "      <td>1</td>\n",
       "    </tr>\n",
       "  </tbody>\n",
       "</table>\n",
       "</div>"
      ],
      "text/plain": [
       "   Destination_55 Cancri e  Destination_PSO J318.5-22  Destination_TRAPPIST-1e\n",
       "0                        0                          0                        1\n",
       "1                        0                          0                        1\n",
       "2                        1                          0                        0\n",
       "3                        0                          0                        1\n",
       "4                        0                          0                        1"
      ]
     },
     "execution_count": 33,
     "metadata": {},
     "output_type": "execute_result"
    }
   ],
   "source": [
    "enc1 = pd.get_dummies(new_test['HomePlanet'], prefix='HomePlanet')\n",
    "enc1.head()\n",
    "\n",
    "enc2 = pd.get_dummies(new_test['Destination'], prefix='Destination')\n",
    "enc2.head()"
   ]
  },
  {
   "cell_type": "code",
   "execution_count": 34,
   "id": "f1b9ffab",
   "metadata": {
    "execution": {
     "iopub.execute_input": "2022-12-18T12:56:06.877006Z",
     "iopub.status.busy": "2022-12-18T12:56:06.876152Z",
     "iopub.status.idle": "2022-12-18T12:56:06.902702Z",
     "shell.execute_reply": "2022-12-18T12:56:06.901539Z"
    },
    "papermill": {
     "duration": 0.044404,
     "end_time": "2022-12-18T12:56:06.905295",
     "exception": false,
     "start_time": "2022-12-18T12:56:06.860891",
     "status": "completed"
    },
    "tags": []
   },
   "outputs": [
    {
     "data": {
      "text/html": [
       "<div>\n",
       "<style scoped>\n",
       "    .dataframe tbody tr th:only-of-type {\n",
       "        vertical-align: middle;\n",
       "    }\n",
       "\n",
       "    .dataframe tbody tr th {\n",
       "        vertical-align: top;\n",
       "    }\n",
       "\n",
       "    .dataframe thead th {\n",
       "        text-align: right;\n",
       "    }\n",
       "</style>\n",
       "<table border=\"1\" class=\"dataframe\">\n",
       "  <thead>\n",
       "    <tr style=\"text-align: right;\">\n",
       "      <th></th>\n",
       "      <th>PassengerId</th>\n",
       "      <th>CryoSleep</th>\n",
       "      <th>Cabin</th>\n",
       "      <th>Age</th>\n",
       "      <th>VIP</th>\n",
       "      <th>RoomService</th>\n",
       "      <th>FoodCourt</th>\n",
       "      <th>ShoppingMall</th>\n",
       "      <th>Spa</th>\n",
       "      <th>VRDeck</th>\n",
       "      <th>Name</th>\n",
       "      <th>HomePlanet_Earth</th>\n",
       "      <th>HomePlanet_Europa</th>\n",
       "      <th>HomePlanet_Mars</th>\n",
       "      <th>Destination_55 Cancri e</th>\n",
       "      <th>Destination_PSO J318.5-22</th>\n",
       "      <th>Destination_TRAPPIST-1e</th>\n",
       "    </tr>\n",
       "  </thead>\n",
       "  <tbody>\n",
       "    <tr>\n",
       "      <th>0</th>\n",
       "      <td>0013_01</td>\n",
       "      <td>True</td>\n",
       "      <td>G/3/S</td>\n",
       "      <td>27.0</td>\n",
       "      <td>0</td>\n",
       "      <td>0.0</td>\n",
       "      <td>0.0</td>\n",
       "      <td>0.0</td>\n",
       "      <td>0.0</td>\n",
       "      <td>0.0</td>\n",
       "      <td>Nelly Carsoning</td>\n",
       "      <td>1</td>\n",
       "      <td>0</td>\n",
       "      <td>0</td>\n",
       "      <td>0</td>\n",
       "      <td>0</td>\n",
       "      <td>1</td>\n",
       "    </tr>\n",
       "    <tr>\n",
       "      <th>1</th>\n",
       "      <td>0018_01</td>\n",
       "      <td>False</td>\n",
       "      <td>F/4/S</td>\n",
       "      <td>19.0</td>\n",
       "      <td>0</td>\n",
       "      <td>0.0</td>\n",
       "      <td>9.0</td>\n",
       "      <td>0.0</td>\n",
       "      <td>2823.0</td>\n",
       "      <td>0.0</td>\n",
       "      <td>Lerome Peckers</td>\n",
       "      <td>1</td>\n",
       "      <td>0</td>\n",
       "      <td>0</td>\n",
       "      <td>0</td>\n",
       "      <td>0</td>\n",
       "      <td>1</td>\n",
       "    </tr>\n",
       "    <tr>\n",
       "      <th>2</th>\n",
       "      <td>0019_01</td>\n",
       "      <td>True</td>\n",
       "      <td>C/0/S</td>\n",
       "      <td>31.0</td>\n",
       "      <td>0</td>\n",
       "      <td>0.0</td>\n",
       "      <td>0.0</td>\n",
       "      <td>0.0</td>\n",
       "      <td>0.0</td>\n",
       "      <td>0.0</td>\n",
       "      <td>Sabih Unhearfus</td>\n",
       "      <td>0</td>\n",
       "      <td>1</td>\n",
       "      <td>0</td>\n",
       "      <td>1</td>\n",
       "      <td>0</td>\n",
       "      <td>0</td>\n",
       "    </tr>\n",
       "    <tr>\n",
       "      <th>3</th>\n",
       "      <td>0021_01</td>\n",
       "      <td>False</td>\n",
       "      <td>C/1/S</td>\n",
       "      <td>38.0</td>\n",
       "      <td>0</td>\n",
       "      <td>0.0</td>\n",
       "      <td>6652.0</td>\n",
       "      <td>0.0</td>\n",
       "      <td>181.0</td>\n",
       "      <td>585.0</td>\n",
       "      <td>Meratz Caltilter</td>\n",
       "      <td>0</td>\n",
       "      <td>1</td>\n",
       "      <td>0</td>\n",
       "      <td>0</td>\n",
       "      <td>0</td>\n",
       "      <td>1</td>\n",
       "    </tr>\n",
       "    <tr>\n",
       "      <th>4</th>\n",
       "      <td>0023_01</td>\n",
       "      <td>False</td>\n",
       "      <td>F/5/S</td>\n",
       "      <td>20.0</td>\n",
       "      <td>0</td>\n",
       "      <td>10.0</td>\n",
       "      <td>0.0</td>\n",
       "      <td>635.0</td>\n",
       "      <td>0.0</td>\n",
       "      <td>0.0</td>\n",
       "      <td>Brence Harperez</td>\n",
       "      <td>1</td>\n",
       "      <td>0</td>\n",
       "      <td>0</td>\n",
       "      <td>0</td>\n",
       "      <td>0</td>\n",
       "      <td>1</td>\n",
       "    </tr>\n",
       "  </tbody>\n",
       "</table>\n",
       "</div>"
      ],
      "text/plain": [
       "  PassengerId CryoSleep  Cabin   Age  VIP  RoomService  FoodCourt  \\\n",
       "0     0013_01      True  G/3/S  27.0    0          0.0        0.0   \n",
       "1     0018_01     False  F/4/S  19.0    0          0.0        9.0   \n",
       "2     0019_01      True  C/0/S  31.0    0          0.0        0.0   \n",
       "3     0021_01     False  C/1/S  38.0    0          0.0     6652.0   \n",
       "4     0023_01     False  F/5/S  20.0    0         10.0        0.0   \n",
       "\n",
       "   ShoppingMall     Spa  VRDeck              Name  HomePlanet_Earth  \\\n",
       "0           0.0     0.0     0.0   Nelly Carsoning                 1   \n",
       "1           0.0  2823.0     0.0    Lerome Peckers                 1   \n",
       "2           0.0     0.0     0.0   Sabih Unhearfus                 0   \n",
       "3           0.0   181.0   585.0  Meratz Caltilter                 0   \n",
       "4         635.0     0.0     0.0   Brence Harperez                 1   \n",
       "\n",
       "   HomePlanet_Europa  HomePlanet_Mars  Destination_55 Cancri e  \\\n",
       "0                  0                0                        0   \n",
       "1                  0                0                        0   \n",
       "2                  1                0                        1   \n",
       "3                  1                0                        0   \n",
       "4                  0                0                        0   \n",
       "\n",
       "   Destination_PSO J318.5-22  Destination_TRAPPIST-1e  \n",
       "0                          0                        1  \n",
       "1                          0                        1  \n",
       "2                          0                        0  \n",
       "3                          0                        1  \n",
       "4                          0                        1  "
      ]
     },
     "execution_count": 34,
     "metadata": {},
     "output_type": "execute_result"
    }
   ],
   "source": [
    "enc_test = pd.concat([new_test, enc1, enc2], axis=1)\n",
    "\n",
    "enc_test = enc_test.drop(['HomePlanet', 'Destination'], axis=1)\n",
    "\n",
    "enc_test.head()"
   ]
  },
  {
   "cell_type": "code",
   "execution_count": 35,
   "id": "02c6afd7",
   "metadata": {
    "execution": {
     "iopub.execute_input": "2022-12-18T12:56:06.936564Z",
     "iopub.status.busy": "2022-12-18T12:56:06.935839Z",
     "iopub.status.idle": "2022-12-18T12:56:06.942170Z",
     "shell.execute_reply": "2022-12-18T12:56:06.941078Z"
    },
    "papermill": {
     "duration": 0.025031,
     "end_time": "2022-12-18T12:56:06.944775",
     "exception": false,
     "start_time": "2022-12-18T12:56:06.919744",
     "status": "completed"
    },
    "tags": []
   },
   "outputs": [
    {
     "data": {
      "text/plain": [
       "(4277, 17)"
      ]
     },
     "execution_count": 35,
     "metadata": {},
     "output_type": "execute_result"
    }
   ],
   "source": [
    "enc_test.shape"
   ]
  },
  {
   "cell_type": "code",
   "execution_count": 36,
   "id": "990325a4",
   "metadata": {
    "execution": {
     "iopub.execute_input": "2022-12-18T12:56:06.975181Z",
     "iopub.status.busy": "2022-12-18T12:56:06.974728Z",
     "iopub.status.idle": "2022-12-18T12:56:06.996164Z",
     "shell.execute_reply": "2022-12-18T12:56:06.995057Z"
    },
    "papermill": {
     "duration": 0.03937,
     "end_time": "2022-12-18T12:56:06.998482",
     "exception": false,
     "start_time": "2022-12-18T12:56:06.959112",
     "status": "completed"
    },
    "tags": []
   },
   "outputs": [
    {
     "data": {
      "text/html": [
       "<div>\n",
       "<style scoped>\n",
       "    .dataframe tbody tr th:only-of-type {\n",
       "        vertical-align: middle;\n",
       "    }\n",
       "\n",
       "    .dataframe tbody tr th {\n",
       "        vertical-align: top;\n",
       "    }\n",
       "\n",
       "    .dataframe thead th {\n",
       "        text-align: right;\n",
       "    }\n",
       "</style>\n",
       "<table border=\"1\" class=\"dataframe\">\n",
       "  <thead>\n",
       "    <tr style=\"text-align: right;\">\n",
       "      <th></th>\n",
       "      <th>PassengerId</th>\n",
       "      <th>CryoSleep</th>\n",
       "      <th>Age</th>\n",
       "      <th>VIP</th>\n",
       "      <th>RoomService</th>\n",
       "      <th>FoodCourt</th>\n",
       "      <th>ShoppingMall</th>\n",
       "      <th>Spa</th>\n",
       "      <th>VRDeck</th>\n",
       "      <th>HomePlanet_Earth</th>\n",
       "      <th>HomePlanet_Europa</th>\n",
       "      <th>HomePlanet_Mars</th>\n",
       "      <th>Destination_55 Cancri e</th>\n",
       "      <th>Destination_PSO J318.5-22</th>\n",
       "      <th>Destination_TRAPPIST-1e</th>\n",
       "    </tr>\n",
       "  </thead>\n",
       "  <tbody>\n",
       "    <tr>\n",
       "      <th>0</th>\n",
       "      <td>0013_01</td>\n",
       "      <td>True</td>\n",
       "      <td>27.0</td>\n",
       "      <td>0</td>\n",
       "      <td>0.0</td>\n",
       "      <td>0.0</td>\n",
       "      <td>0.0</td>\n",
       "      <td>0.0</td>\n",
       "      <td>0.0</td>\n",
       "      <td>1</td>\n",
       "      <td>0</td>\n",
       "      <td>0</td>\n",
       "      <td>0</td>\n",
       "      <td>0</td>\n",
       "      <td>1</td>\n",
       "    </tr>\n",
       "    <tr>\n",
       "      <th>1</th>\n",
       "      <td>0018_01</td>\n",
       "      <td>False</td>\n",
       "      <td>19.0</td>\n",
       "      <td>0</td>\n",
       "      <td>0.0</td>\n",
       "      <td>9.0</td>\n",
       "      <td>0.0</td>\n",
       "      <td>2823.0</td>\n",
       "      <td>0.0</td>\n",
       "      <td>1</td>\n",
       "      <td>0</td>\n",
       "      <td>0</td>\n",
       "      <td>0</td>\n",
       "      <td>0</td>\n",
       "      <td>1</td>\n",
       "    </tr>\n",
       "    <tr>\n",
       "      <th>2</th>\n",
       "      <td>0019_01</td>\n",
       "      <td>True</td>\n",
       "      <td>31.0</td>\n",
       "      <td>0</td>\n",
       "      <td>0.0</td>\n",
       "      <td>0.0</td>\n",
       "      <td>0.0</td>\n",
       "      <td>0.0</td>\n",
       "      <td>0.0</td>\n",
       "      <td>0</td>\n",
       "      <td>1</td>\n",
       "      <td>0</td>\n",
       "      <td>1</td>\n",
       "      <td>0</td>\n",
       "      <td>0</td>\n",
       "    </tr>\n",
       "    <tr>\n",
       "      <th>3</th>\n",
       "      <td>0021_01</td>\n",
       "      <td>False</td>\n",
       "      <td>38.0</td>\n",
       "      <td>0</td>\n",
       "      <td>0.0</td>\n",
       "      <td>6652.0</td>\n",
       "      <td>0.0</td>\n",
       "      <td>181.0</td>\n",
       "      <td>585.0</td>\n",
       "      <td>0</td>\n",
       "      <td>1</td>\n",
       "      <td>0</td>\n",
       "      <td>0</td>\n",
       "      <td>0</td>\n",
       "      <td>1</td>\n",
       "    </tr>\n",
       "    <tr>\n",
       "      <th>4</th>\n",
       "      <td>0023_01</td>\n",
       "      <td>False</td>\n",
       "      <td>20.0</td>\n",
       "      <td>0</td>\n",
       "      <td>10.0</td>\n",
       "      <td>0.0</td>\n",
       "      <td>635.0</td>\n",
       "      <td>0.0</td>\n",
       "      <td>0.0</td>\n",
       "      <td>1</td>\n",
       "      <td>0</td>\n",
       "      <td>0</td>\n",
       "      <td>0</td>\n",
       "      <td>0</td>\n",
       "      <td>1</td>\n",
       "    </tr>\n",
       "  </tbody>\n",
       "</table>\n",
       "</div>"
      ],
      "text/plain": [
       "  PassengerId CryoSleep   Age  VIP  RoomService  FoodCourt  ShoppingMall  \\\n",
       "0     0013_01      True  27.0    0          0.0        0.0           0.0   \n",
       "1     0018_01     False  19.0    0          0.0        9.0           0.0   \n",
       "2     0019_01      True  31.0    0          0.0        0.0           0.0   \n",
       "3     0021_01     False  38.0    0          0.0     6652.0           0.0   \n",
       "4     0023_01     False  20.0    0         10.0        0.0         635.0   \n",
       "\n",
       "      Spa  VRDeck  HomePlanet_Earth  HomePlanet_Europa  HomePlanet_Mars  \\\n",
       "0     0.0     0.0                 1                  0                0   \n",
       "1  2823.0     0.0                 1                  0                0   \n",
       "2     0.0     0.0                 0                  1                0   \n",
       "3   181.0   585.0                 0                  1                0   \n",
       "4     0.0     0.0                 1                  0                0   \n",
       "\n",
       "   Destination_55 Cancri e  Destination_PSO J318.5-22  Destination_TRAPPIST-1e  \n",
       "0                        0                          0                        1  \n",
       "1                        0                          0                        1  \n",
       "2                        1                          0                        0  \n",
       "3                        0                          0                        1  \n",
       "4                        0                          0                        1  "
      ]
     },
     "execution_count": 36,
     "metadata": {},
     "output_type": "execute_result"
    }
   ],
   "source": [
    "enc_test = enc_test.drop(['Cabin', 'Name'], axis=1)\n",
    "enc_test.head()"
   ]
  },
  {
   "cell_type": "code",
   "execution_count": 37,
   "id": "56edf5da",
   "metadata": {
    "execution": {
     "iopub.execute_input": "2022-12-18T12:56:07.030068Z",
     "iopub.status.busy": "2022-12-18T12:56:07.029596Z",
     "iopub.status.idle": "2022-12-18T12:56:07.141512Z",
     "shell.execute_reply": "2022-12-18T12:56:07.140491Z"
    },
    "papermill": {
     "duration": 0.130757,
     "end_time": "2022-12-18T12:56:07.144251",
     "exception": false,
     "start_time": "2022-12-18T12:56:07.013494",
     "status": "completed"
    },
    "tags": []
   },
   "outputs": [],
   "source": [
    "model_predictions = model.predict(enc_test.iloc[:, 1:])"
   ]
  },
  {
   "cell_type": "code",
   "execution_count": 38,
   "id": "19c238ca",
   "metadata": {
    "execution": {
     "iopub.execute_input": "2022-12-18T12:56:07.176479Z",
     "iopub.status.busy": "2022-12-18T12:56:07.175524Z",
     "iopub.status.idle": "2022-12-18T12:56:07.181642Z",
     "shell.execute_reply": "2022-12-18T12:56:07.180174Z"
    },
    "papermill": {
     "duration": 0.02483,
     "end_time": "2022-12-18T12:56:07.184251",
     "exception": false,
     "start_time": "2022-12-18T12:56:07.159421",
     "status": "completed"
    },
    "tags": []
   },
   "outputs": [
    {
     "name": "stdout",
     "output_type": "stream",
     "text": [
      "[ True False  True ...  True  True False]\n"
     ]
    }
   ],
   "source": [
    "model_predictions = model_predictions.astype(bool)\n",
    "print(model_predictions)"
   ]
  },
  {
   "cell_type": "code",
   "execution_count": 39,
   "id": "41559500",
   "metadata": {
    "execution": {
     "iopub.execute_input": "2022-12-18T12:56:07.215639Z",
     "iopub.status.busy": "2022-12-18T12:56:07.215218Z",
     "iopub.status.idle": "2022-12-18T12:56:07.222718Z",
     "shell.execute_reply": "2022-12-18T12:56:07.221925Z"
    },
    "papermill": {
     "duration": 0.02584,
     "end_time": "2022-12-18T12:56:07.224820",
     "exception": false,
     "start_time": "2022-12-18T12:56:07.198980",
     "status": "completed"
    },
    "tags": []
   },
   "outputs": [
    {
     "data": {
      "text/plain": [
       "(4277, 2)"
      ]
     },
     "execution_count": 39,
     "metadata": {},
     "output_type": "execute_result"
    }
   ],
   "source": [
    "# print(enc_test.iloc[:, 0])\n",
    "# print(model_predictions)\n",
    "#sub1 = pd.DataFrame(enc_test.iloc[:, 0], columns=['PassengerId'])\n",
    "#sub2 = pd.DataFrame(model_predictions, columns=['Transported'])\n",
    "#submissions = pd.concat([sub1, sub2], axis=1)\n",
    "submissions = pd.DataFrame({'PassengerId': test.iloc[:, 0], 'Transported': model_predictions})\n",
    "\n",
    "\n",
    "submissions.shape"
   ]
  },
  {
   "cell_type": "code",
   "execution_count": 40,
   "id": "74d7a233",
   "metadata": {
    "execution": {
     "iopub.execute_input": "2022-12-18T12:56:07.256537Z",
     "iopub.status.busy": "2022-12-18T12:56:07.255805Z",
     "iopub.status.idle": "2022-12-18T12:56:07.268831Z",
     "shell.execute_reply": "2022-12-18T12:56:07.267770Z"
    },
    "papermill": {
     "duration": 0.031762,
     "end_time": "2022-12-18T12:56:07.271516",
     "exception": false,
     "start_time": "2022-12-18T12:56:07.239754",
     "status": "completed"
    },
    "tags": []
   },
   "outputs": [],
   "source": [
    "submissions.to_csv('submission.csv', index=False)"
   ]
  },
  {
   "cell_type": "code",
   "execution_count": null,
   "id": "d8d612b1",
   "metadata": {
    "papermill": {
     "duration": 0.01441,
     "end_time": "2022-12-18T12:56:07.301155",
     "exception": false,
     "start_time": "2022-12-18T12:56:07.286745",
     "status": "completed"
    },
    "tags": []
   },
   "outputs": [],
   "source": []
  },
  {
   "cell_type": "code",
   "execution_count": null,
   "id": "715b7ee3",
   "metadata": {
    "papermill": {
     "duration": 0.014327,
     "end_time": "2022-12-18T12:56:07.330320",
     "exception": false,
     "start_time": "2022-12-18T12:56:07.315993",
     "status": "completed"
    },
    "tags": []
   },
   "outputs": [],
   "source": []
  }
 ],
 "metadata": {
  "kernelspec": {
   "display_name": "Python 3",
   "language": "python",
   "name": "python3"
  },
  "language_info": {
   "codemirror_mode": {
    "name": "ipython",
    "version": 3
   },
   "file_extension": ".py",
   "mimetype": "text/x-python",
   "name": "python",
   "nbconvert_exporter": "python",
   "pygments_lexer": "ipython3",
   "version": "3.7.12"
  },
  "papermill": {
   "default_parameters": {},
   "duration": 13.692204,
   "end_time": "2022-12-18T12:56:08.168665",
   "environment_variables": {},
   "exception": null,
   "input_path": "__notebook__.ipynb",
   "output_path": "__notebook__.ipynb",
   "parameters": {},
   "start_time": "2022-12-18T12:55:54.476461",
   "version": "2.3.4"
  }
 },
 "nbformat": 4,
 "nbformat_minor": 5
}
